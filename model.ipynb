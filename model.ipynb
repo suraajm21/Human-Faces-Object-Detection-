{
 "cells": [
  {
   "cell_type": "code",
   "execution_count": null,
   "metadata": {},
   "outputs": [
    {
     "name": "stdout",
     "output_type": "stream",
     "text": [
      "Total annotations: 3350\n"
     ]
    },
    {
     "name": "stderr",
     "output_type": "stream",
     "text": [
      "100%|██████████| 3350/3350 [00:45<00:00, 72.90it/s] \n",
      "100%|██████████| 3350/3350 [00:12<00:00, 272.46it/s]"
     ]
    },
    {
     "name": "stdout",
     "output_type": "stream",
     "text": [
      "Preprocessing done. Final annotation count: 6700\n"
     ]
    },
    {
     "name": "stderr",
     "output_type": "stream",
     "text": [
      "\n"
     ]
    }
   ],
   "source": [
    "import os\n",
    "import cv2\n",
    "import pandas as pd\n",
    "import numpy as np\n",
    "from tqdm import tqdm\n",
    "import albumentations as A  \n",
    "import matplotlib.pyplot as plt\n",
    "\n",
    "# 1. SETTING PATHS\n",
    "DATA_DIR = \"images\"                # folder with images\n",
    "ANNOTATION_FILE = \"faces.csv\"  # bounding box annotations\n",
    "\n",
    "# 2. LOADING ANNOTATIONS\n",
    "df_annotations = pd.read_csv(ANNOTATION_FILE)\n",
    "\n",
    "print(\"Total annotations:\", len(df_annotations))\n",
    "\n",
    "# 3. REMOVING DUPLICATES OR IRRELEVANT ENTRIES\n",
    "df_annotations.drop_duplicates(inplace=True)\n",
    "\n",
    "# 4. CLEANING ANY INCORRECT ANNOTATIONS\n",
    "# Removing negative or zero-size bounding boxes\n",
    "df_annotations = df_annotations[\n",
    "    (df_annotations['x1'] > df_annotations['x0']) &\n",
    "    (df_annotations['y1'] > df_annotations['y0'])\n",
    "]\n",
    "\n",
    "# 5. RESIZING IMAGES \n",
    "# Resizing all images to 224x224\n",
    "RESIZE_WIDTH = 224\n",
    "RESIZE_HEIGHT = 224\n",
    "\n",
    "processed_images_dir = \"data/images_processed\"\n",
    "os.makedirs(processed_images_dir, exist_ok=True)\n",
    "\n",
    "new_rows = []  # to store updated bounding boxes after resizing\n",
    "\n",
    "for idx, row in tqdm(df_annotations.iterrows(), total=len(df_annotations)):\n",
    "    img_path = os.path.join(DATA_DIR, row['image_name'])\n",
    "    if not os.path.exists(img_path):\n",
    "        continue\n",
    "    img = cv2.imread(img_path)\n",
    "    original_height, original_width = row['height'], row['width']\n",
    "\n",
    "    # Resizing\n",
    "    img_resized = cv2.resize(img, (RESIZE_WIDTH, RESIZE_HEIGHT))\n",
    "    \n",
    "    # Adjusting bounding boxes proportionally\n",
    "    x_scale = RESIZE_WIDTH / original_width\n",
    "    y_scale = RESIZE_HEIGHT / original_height\n",
    "\n",
    "    x_min_new = int(row['x0'] * x_scale)\n",
    "    y_min_new = int(row['y0'] * y_scale)\n",
    "    x_max_new = int(row['x1'] * x_scale)\n",
    "    y_max_new = int(row['y1'] * y_scale)\n",
    "\n",
    "    # Saving resized image\n",
    "    new_image_name = f\"resized_{row['image_name']}\"\n",
    "    new_image_path = os.path.join(processed_images_dir, new_image_name)\n",
    "    cv2.imwrite(new_image_path, img_resized)\n",
    "\n",
    "    new_rows.append([\n",
    "        new_image_name, RESIZE_WIDTH, RESIZE_HEIGHT, x_min_new, y_min_new, x_max_new, y_max_new\n",
    "    ])\n",
    "\n",
    "# Creating DataFrame for resized annotations\n",
    "df_annotations_resized = pd.DataFrame(new_rows,\n",
    "    columns=['image_name', 'width', 'height', 'x0', 'y0', 'x1', 'y1'])\n",
    "\n",
    "df_annotations_resized.to_csv(\"data/resized_annotations.csv\", index=False)\n",
    "\n",
    "# 6. DATA AUGMENTATION\n",
    "augmentation = A.Compose([\n",
    "    A.HorizontalFlip(p=0.5),\n",
    "    A.RandomBrightnessContrast(p=0.2),\n",
    "    A.Rotate(limit=15, p=0.3)\n",
    "], bbox_params=A.BboxParams(format='pascal_voc', label_fields=['class_labels']))\n",
    "\n",
    "aug_rows = []\n",
    "for idx, row in tqdm(df_annotations_resized.iterrows(), total=len(df_annotations_resized)):\n",
    "    image_path = os.path.join(processed_images_dir, row['image_name'])\n",
    "    image = cv2.imread(image_path)\n",
    "    bboxes = [[row['x0'], row['y0'], row['x1'], row['y1']]]\n",
    "    class_labels = [\"face\"]  # Assuming all images are faces\n",
    "    \n",
    "    transformed = augmentation(image=image, bboxes=bboxes, class_labels=class_labels)\n",
    "    aug_img = transformed['image']\n",
    "    aug_bboxes = transformed['bboxes']\n",
    "    aug_labels = transformed['class_labels']\n",
    "    \n",
    "    # Save augmented image\n",
    "    aug_image_name = f\"aug_{idx}_{row['image_name']}\"\n",
    "    aug_image_path = os.path.join(processed_images_dir, aug_image_name)\n",
    "    cv2.imwrite(aug_image_path, aug_img)\n",
    "    \n",
    "    for box in aug_bboxes:\n",
    "        x_min_aug, y_min_aug, x_max_aug, y_max_aug = map(int, box)\n",
    "        aug_rows.append([aug_image_name, RESIZE_WIDTH, RESIZE_HEIGHT, x_min_aug, y_min_aug, x_max_aug, y_max_aug])\n",
    "\n",
    "df_annotations_aug = pd.DataFrame(aug_rows, \n",
    "                                  columns=['image_name', 'width', 'height', 'x0', 'y0', 'x1', 'y1'])\n",
    "\n",
    "# Combining original + augmented\n",
    "df_final = pd.concat([df_annotations_resized, df_annotations_aug], ignore_index=True)\n",
    "df_final.to_csv(\"data/final_annotations.csv\", index=False)\n",
    "\n",
    "print(\"Preprocessing done. Final annotation count:\", len(df_final))"
   ]
  },
  {
   "cell_type": "code",
   "execution_count": null,
   "metadata": {},
   "outputs": [
    {
     "name": "stdout",
     "output_type": "stream",
     "text": [
      "Total unique images: 5554\n",
      "Total faces in the dataset: 6700\n"
     ]
    },
    {
     "data": {
      "application/vnd.plotly.v1+json": {
       "config": {
        "plotlyServerURL": "https://plot.ly"
       },
       "data": [
        {
         "bingroup": "x",
         "hovertemplate": "count=%{y}<extra></extra>",
         "legendgroup": "",
         "marker": {
          "color": "#636efa",
          "pattern": {
           "shape": ""
          }
         },
         "name": "",
         "nbinsx": 10,
         "orientation": "v",
         "showlegend": false,
         "type": "histogram",
         "x": {
          "bdata": "AQEBAQEBAQEBAQEBAQEBAQEBAQEBAQEBAQEBAQEBAQEBAQEBAQEBAQEBAQEBAQEBAQEBAQEBAQEBAQEBAQEBAQEBAQEBAQEBAQEBAQEBAQEBAQEBAQEBAQEBAQEBAQEBAQEBAQEBAQEBAQEBAQEBAQEBAQEBAQEBAQEBAQEBAQEBAQEBAQEBAQEBAQEBAQEBAQEBAQEBAQEBAQEBAQEBAQEBAQEBAQEBAQEBAQEBAQEBAQEBAQEBAQEBAQEBAQEBAQEBAQEBAQEBAQEBAQEBAQEBAQEBAQEBAQEBAQEBAQEBAQEBAQEBAQEBAQEBAQEBAQEBAQEBAQEBAQEBAQEBAQEBAQEBAQEBAQEBAQEBAQEBAQEBAQEBAQEBAQEBAQEBAQEBAQEBAQEBAQEBAQEBAQEBAQEBAQEBAQEBAQEBAQEBAQEBAQEBAQEBAQEBAQEBAQEBAQEBAQEBAQEBAQEBAQEBAQEBAQEBAQEBAQEBAQEBAQEBAQEBAQEBAQEBAQEBAQEBAQEBAQEBAQEBAQEBAQEBAQEBAQEBAQEBAQEBAQEBAQEBAQEBAQEBAQEBAQEBAQEBAQEBAQEBAQEBAQEBAQEBAQEBAQEBAQEBAQEBAQEBAQEBAQEBAQEBAQEBAQEBAQEBAQEBAQEBAQEBAQEBAQEBAQEBAQEBAQEBAQEBAQEBAQEBAQEBAQEBAQEBAQEBAQEBAQEBAQEBAQEBAQEBAQEBAQEBAQEBAQEBAQEBAQEBAQEBAQEBAQEBAQEBAQEBAQEBAQEBAQEBAQEBAQEBAQEBAQEBAQEBAQEBAQEBAQEBAQEBAQEBAQEBAQEBAQEBAQEBAQEBAQEBAQEBAQEBAQEBAQEBAQEBAQEBAQEBAQEBAQEBAQEBAQEBAQEBAQEBAQEBAQEBAQEBAQEBAQEBAQEBAQEBAQEBAQEBAQEBAQEBAQEBAQEBAQEBAQEBAQEBAQEBAQEBAQEBAQEBAQEBAQEBAQEBAQEBAQEBAQEBAQEBAQEBAQEBAQEBAQEBAQEBAQEBAQEBAQEBAQEBAQEBAQEBAQEBAQEBAQEBAQEBAQEBAQEBAQEBAQEBAQEBAQEBAQEBAQEBAQEBAQEBAQEBAQEBAQEBAQEBAQEBAQEBAQEBAQEBAQEBAQEBAQEBAQEBAQEBAQEBAQEBAQEBAQEBAQEBAQEBAQEBAQEBAQEBAQEBAQEBAQEBAQEBAQEBAQEBAQEBAQEBAQEBAQEBAQEBAQEBAQEBAQEBAQEBAQEBAQEBAQEBAQEBAQEBAQEBAQEBAQEBAQEBAQEBAQEBAQEBAQEBAQEBAQEBAQEBAQEBAQEBAQEBAQEBAQEBAQEBAQEBAQEBAQEBAQEBAQEBAQEBAQEBAQEBAQEBAQEBAQEBAQEBAQEBAQEBAQEBAQEBAQEBAQEBAQEBAQEBAQEBAQEBAQEBAQEBAQEBAQEBAQEBAQEBAQEBAQEBAQEBAQEBAQEBAQEBAQEBAQEBAQEBAQEBAQEBAQEBAQEBAQEBAQEBAQEBAQEBAQEBAQEBAQEBAQEBAQEBAQEBAQEBAQEBAQEBAQEBAQEBAQEBAQEBAQEBAQEBAQEBAQEBAQEBAQEBAQEBAQEBAQEBAQEBAQEBAQEBAQEBAQEBAQEBAQEBAQEBAQEBAQEBAQEBAQEBAQEBAQEBAQEBAQEBAQEBAQEBAQEBAQEBAQEBAQEBAQEBAQEBAQEBAQEBAQEBAQEBAQEBAQEBAQEBAQEBAQEBAQEBAQEBAQEBAQEBAQEBAQEBAQEBAQEBAQEBAQEBAQEBAQEBAQEBAQEBAQEBAQEBAQEBAQEBAQEBAQEBAQEBAQEBAQEBAQEBAQEBAQEBAQEBAQEBAQEBAQEBAQEBAQEBAQEBAQEBAQEBAQEBAQEBAQEBAQEBAQEBAQEBAQEBAQEBAQEBAQEBAQEBAQEBAQEBAQEBAQEBAQEBAQEBAQEBAQEBAQEBAQEBAQEBAQEBAQEBAQEBAQEBAQEBAQEBAQEBAQEBAQEBAQEBAQEBAQEBAQEBAQEBAQEBAQEBAQEBAQEBAQEBAQEBAQEBAQEBAQEBAQEBAQEBAQEBAQEBAQEBAQEBAQEBAQEBAQEBAQEBAQEBAQEBAQEBAQEBAQEBAQEBAQEBAQEBAQEBAQEBAQEBAQEBAQEBAQEBAQEBAQEBAQEBAQEBAQEBAQEBAQEBAQEBAQEBAQEBAQEBAQEBAQEBAQEBAQEBAQEBAQEBAQEBAQEBAQEBAQEBAQEBAQEBAQEBAQEBAQEBAQEBAQEBAQEBAQEBAQEBAQEBAQEBAQEBAQEBAQEBAQEBAQEBAQEBAQEBAQEBAQEBAQEBAQEBAQEBAQEBAQEBAQEBAQEBAQEBAQEBAQEBAQEBAQEBAQEBAQEBAQEBAQEBAQEBAQEBAQEBAQEBAQEBAQEBAQEBAQEBAQEBAQEBAQEBAQEBAQEBAQEBAQEBAQEBAQEBAQEBAQEBAQEBAQEBAQEBAQEBAQEBAQEBAQEBAQEBAQEBAQEBAQEBAQEBAQEBAQEBAQEBAQEBAQEBAQEBAQEBAQEBAQEBAQEBAQEBAQEBAQEBAQEBAQEBAQEBAQEBAQEBAQEBAQEBAQEBAQEBAQEBAQEBAQEBAQEBAQEBAQEBAQEBAQEBAQEBAQEBAQEBAQEBAQEBAQEBAQEBAQEBAQEBAQEBAQEBAQEBAQEBAQEBAQEBAQEBAQEBAQEBAQEBAQEBAQEBAQEBAQEBAQEBAQEBAQEBAQEBAQEBAQEBAQEBAQEBAQEBAQEBAQEBAQEBAQEBAQEBAQEBAQEBAQEBAQEBAQEBAQEBAQEBAQEBAQEBAQEBAQEBAQEBAQEBAQEBAQEBAQEBAQEBAQEBAQEBAQEBAQEBAQEBAQEBAQEBAQEBAQEBAQEBAQEBAQEBAQEBAQEBAQEBAQEBAQEBAQEBAQEBAQEBAQEBAQEBAQEBAQEBAQEBAQEBAQEBAQEBAQEBAQEBAQEBAQEBAQEBAQEBAQEBAQEBAQEBAQEBAQEBAQEBAQEBAQEBAQEBAQEBAQEBAQEBAQEBAQEBAQEBAQEBAQEBAQEBAQEBAQEBAQEBAQEBAQEBAQEBAQEBAQEBAQEBAQEBAQEBAQEBAQEBAQEBAQEBAQEBAQEBAQEBAQEBAQEBAQEBAQEBAQEBAQEBAQEBAQEBAQEBAQEBAQEBAQEBAQEBAQEBAQEBAQEBAQEBAQEBAQEBAQEBAQEBAQEBAQEBAQEBAQEBAQEBAQEBAQEBAQEBAQEBAQEBAQEBAQEBAQEBAQEBAQEBAQEBAQEBAQEBAQEBAQEBAQEBAQEBAQEBAQEBAQEBAQEBAQEBAQEBAQEBAQEBAQEBAQEBAQEBAQEBAQEBAQEBAQEBAQEBAQEBAQEBAQEBAQEBAQEBAQEBAQEBAQEBAQEBAQEBAQEBAQEBAQEBAQEBAQEBAQEBAQEBAQEBAQEBAQEBAQEBAQEBAQEBAQEBAQEBAQEBAQEBAQEBAQEBAQEBAQEBAQEBAQEBAQEBAQEBAQEBAQEBAQEBAQEBAQEBAQEBAQEBAQEBAQEBAQEBAQEBAQEBAQEBAQEBAQEBAQEBAQEBAQEBAQEBAQEBAQEBAQEBAQEBAQEBAQEBAQEBAQEBAQEBAQEBAQEBAQEBAQEBAQEBAQEBAQEBAQEBAQEBAQEBAQEBAQEBAQEBAQEBAQEBAQEBAQEBAQEBAQEBAQEBAQEBAQEBAQEBAQEBAQEBAQEBAQEBAQEBAQEBAQEBAQEBAQEBAQEBAQEBAQEBAQEBAQEBAQEBAQEBAQEBAQEBAQEBAQEBAQEBAQEBAQEBAQEBAQEBAQEBAQEBAQEBAQEBAQEBAQEBAQEBAQEBAQEBAQEBAQEBAQEBAQEBAQEBAQEBAQEBAQEBAQEBAQEBAQEBAQEBAQEBAQEBAQEBAQEBAQEBAQEBAQEBAQEBAQEBAQEBAQEBAQEBAQEBAQEBAQEBAQEBAQEBAQEBAQEBAQEBAQEBAQEBAQEBAQEBAQEBAQEBAQEBAQEBAQEBAQEBAQEBAQEBAQEBAQEBAQEBAQEBAQEBAQEBAQEBAQEBAQEBAQEBAQEBAQEBAQEBAQEBAQEBAQEBAQEBAQEBAQEBAQEBAQEBAQEBAQEBAQEBAQEBAQEBAQEBAQEBAQEBAQEBAQEBAQEBAQEBAQEBAQEBAQEBAQEBAQEBAQEBAQEBAQEBAQEBAQEBAQEBAQEBAQEBAQEBAQEBAQEBAQEBAQEBAQEBAQEBAQEBAQEBAQEBAQEBAQEBAQEBAQEBAQEBAQEBAQEBAQEBAQEBAQEBAQEBAQEBAQEBAQEBAQEBAQEBAQEBAQEBAQEBAQEBAQEBAQEBAQEBAQEBAQEBAQEBAQEBAQEBAQEBAQEBAQEBAQEBAQEBAQEBAQEBAQEBAQEBAQEBAQEBAQEBAQEBAQEBAQEBAQEBAQEBAQEBAQEBAQEBAQEBAQEBAQEBAQEBAQEBAQEBAQEBAQEBAQEBAQEBAQEBAQECAgEBAQEBAgEBAQIBAQMBAQEBAQEBAQIBAQEBAQEDAQEDAQEBAQEBAQEBAQEBAgEBAQIBAQEBAQECAQEEAQEBAQEEAQIBAQEBAQEBAQMBAQEDAQEBAQEBAQEDAQEBAQEBAQUDAQEBAgIDAQEBAQUBAQEBAQICAQIBAQEBAgQBAQEBAQEBAwEBAQEBAQIBAQEBAgUBAQEBAQEBAQEBAQEBAQEBAQIBAQEBAQEEAgMBBAEBAQEBAQEBAQEBAQEBBQcHAwUKBQQGAgEEBgUGBQMDBQQEBAcFAwEHBwECAgMIBAcFAwUCAwUEBAQFBQEDBAEGBgkGBQECAQIBAwIBCQECBQUCAwUJAwMDAQYCAwQFAgUGBQgHAwMFAwMFDAMEAgYDBQQCAQYEBAEEAgIFAgUCAQUDAgMDBwYEAgYIAwEJBAUBAQEBAQEBAQEBAQEBAQEBAQEBAQEBAQEBAQEBAQEBAQEBAQEBAQEBAQEBAQEBAQEBAQIBAQEBAQEBAQEBAQEBAQEBAQECAQEBAQEBAQEBAQEBAQEBAQEBAQEBAQEBAQEBAQEBAQEBAQEBAQEBAQEBAQEBAQEBAQEBAQEBAQEBAQEBAQEBAQEDAQEBAQEBAQEBAQEBAQEBAQEBAQEBAQECAQEBAQECAQECAQEBAQEBAQEBAQEBAQEBAQEBAQEBAQEBAQEBAQEBAQEBAQEBAQEBAQEBAQEBAQEBAgEBAQEBAQEBAQEBAQEBAQEBAQEBAQEBAQEBAQEBAQEBAQEBAQEBAQEBAQEBAQEBAQEBAQEBAQEBAQEBAQEBAQYBAQEBAQEBAQEBAQEBAQEBAQEBAQEBAQEBAQEBAQEBAQEBAQEBAQEBAQEBAQEBAQEBAQEBAQEBAQEBAQEBAQEBAQEBAQEBAQEBAQECAQEBAQEFAQEBAQEDAQEBAQEBAQEBAQEBAQEBAQEBAQEBAQEBAQEBAQEBAQEBAQEBAgEBAQMBAQEBAQEBAQEBAQEBAQEBAQEBAQEBAQEBAQEBAQEBAQECAQEBAQEBAQEBAQEBAQEBAQEBAQEBAQEBAQEBAQEBAQEBAQEBAQEBAQEBAQEBAQEDAQEBAQEBAQgBAQEBAQECAQEBAQEBAwEBAQEBAQEBAQEBAQUBAQEBAQEBAQEBAQEBAQEBAgEBAQEBAQEBAQEBAQEBAQEBAgEBAQEBAQEBAQEBAQECAQEBAQEBAQIBAQEBAQEBAQEBAQEBAQEBAQEBAQEBAQEBAQEBAQEBAQEBAQEBAQEDAQEBAQEBAQEBAQEBAQEBAQEBAQEBAQEBAQEBAQEBAQEBAQECAQICAQEBAQEBAQEBAQECAQEBAQEBAQEBAQEBAQEBAQEBAQEBAgEBAQEBAQEBAQEBAQEBAQEBAQEBAQEBAQECAQEBAQEBAQEBAQEBAQEBAQEBAQEBAQEBAQEBAQMBAQEBAQEBAQEBBAEBAQEBAQEBAQEBAQEBAQEBAQEBAQEBAQECAQEBAQEBAQIBAQEBAQEBAQEBAQEBAQEBAQEBAQEBAQMBAQEBAQEBAQEBAQEBAQEBAQEBAQEDAQEBAQEBAQEBAQEBAQEBAQEBAQEBAQEBAQUBAQEBAgEBAQEBAQECAQEBAQEBAQEBAQEBAQECAQEBAQEBAQEBAQEBAQEBAgEBAQEBAQEBAQEBAQEBAQECAwEBAQEBAQEIAQEBAwEBAgEBAQEGAQEBAQEBAQMBAgEBAQEBAQEBAQEBAQEBAQEBAQEBAQEBAQEBAQICAQEBAQIBAQIBAQIBAQEBAgEBAQIBAQEBAQEBAgIBAQEBAQMBAQEBAQEBAQEBAQEBAwEBAQEDAQEBAgEBAQIBAgIDAQEBAQEBAQEBAQECAQEBAQEBAQEBAgUFAQIBAwECAQEBAQEBAQECAQEBAwEBAQEBAQEBAQEDAQEBAQEBAQIBAQEBAQEBAQEBAQIBAgEBAQEBAQEBAwEBAQEBAQEBAQEBAQECAQECAQEBAwECAQECAQEBAQEBAwEBAQIBAQEGAgEBAQEBAQEBAgEBAQIBAQEBAQEBAQECAgIBAgIBAgEBAwEBAQICAQEBAQEBAQEBAQEBAQYBAQEBAQEBAQEBAQEBAQECAQEBBwEBAQIBAQECAQICAQECAQEBAgECAQEBAQEBAgEDAQEDBAMCAgIBAQEDAgIDAQIBAgEEAwEBAQEBAQIBAQIBAQEFAQIBAQECAQUCAQMBAQECAQEBAgICAgUDAQIBAgIBAQEFAQQFAQECAQQBAQEBAwIBAQEHAwEBAQEDAgEDAQUBAQECAQEBAQIBAQIBAQEBAwECAQEBAQUCBAMFAQQCAgEBAwMBAQQCAwQBAQMBAQUBAwEBBQIBAQEBAQEBAwECAQcBAwEEAQEBAgEBAQICAQEBBAYEAQEBAQICAQEBAQEBAQEEAQEBAgEFAgEBAgEBAQECAwMEAQIBAwECAQIBAwEBAQEGAQECAQECCAECAQECAgEFAQEBAQQBAQMBAQUDAQIBAQEBAQEDAQEBBQEBAQECAQQBAgICAQEBAQQCAgECBQICAQICAQEBAQMCAQgBBAIBAQEDAwEBAgUBAgEDAQMBAQYCAQQBAgECAQEBBQEBAQEBAQECAgEBAQcBAgEBBQEBAgMCBAEBAwEBAQEBCwEDAQEBCwEBAQMCAwIDAQECAQECAQUBAQYDAQEBAgEBAQECAgEBAQMBAQEDAQEBAgECAgIBAQMBAQEBAQEBAQECAQEBAQECAgEBAwEBBAQGAgEBAQEEAgEBAQIBAQEBBAEBAQEBAQQBAQEBAwECAQYDAQEBAQMJBAECAQIBAQMDBgQBAQUCAQEEBgEBAQEDBAMBBQIBAgQBAQEBAgEEAQECAQEBAQEBAQEBAQECAQEBAQEBAwEBAQEBAgECAgIBAQMBAQEBAQEBAQEBAQEBAQEBAQMBAgEBBA==",
          "dtype": "i1"
         },
         "xaxis": "x",
         "yaxis": "y"
        }
       ],
       "layout": {
        "barmode": "relative",
        "legend": {
         "tracegroupgap": 0
        },
        "template": {
         "data": {
          "bar": [
           {
            "error_x": {
             "color": "#2a3f5f"
            },
            "error_y": {
             "color": "#2a3f5f"
            },
            "marker": {
             "line": {
              "color": "#E5ECF6",
              "width": 0.5
             },
             "pattern": {
              "fillmode": "overlay",
              "size": 10,
              "solidity": 0.2
             }
            },
            "type": "bar"
           }
          ],
          "barpolar": [
           {
            "marker": {
             "line": {
              "color": "#E5ECF6",
              "width": 0.5
             },
             "pattern": {
              "fillmode": "overlay",
              "size": 10,
              "solidity": 0.2
             }
            },
            "type": "barpolar"
           }
          ],
          "carpet": [
           {
            "aaxis": {
             "endlinecolor": "#2a3f5f",
             "gridcolor": "white",
             "linecolor": "white",
             "minorgridcolor": "white",
             "startlinecolor": "#2a3f5f"
            },
            "baxis": {
             "endlinecolor": "#2a3f5f",
             "gridcolor": "white",
             "linecolor": "white",
             "minorgridcolor": "white",
             "startlinecolor": "#2a3f5f"
            },
            "type": "carpet"
           }
          ],
          "choropleth": [
           {
            "colorbar": {
             "outlinewidth": 0,
             "ticks": ""
            },
            "type": "choropleth"
           }
          ],
          "contour": [
           {
            "colorbar": {
             "outlinewidth": 0,
             "ticks": ""
            },
            "colorscale": [
             [
              0,
              "#0d0887"
             ],
             [
              0.1111111111111111,
              "#46039f"
             ],
             [
              0.2222222222222222,
              "#7201a8"
             ],
             [
              0.3333333333333333,
              "#9c179e"
             ],
             [
              0.4444444444444444,
              "#bd3786"
             ],
             [
              0.5555555555555556,
              "#d8576b"
             ],
             [
              0.6666666666666666,
              "#ed7953"
             ],
             [
              0.7777777777777778,
              "#fb9f3a"
             ],
             [
              0.8888888888888888,
              "#fdca26"
             ],
             [
              1,
              "#f0f921"
             ]
            ],
            "type": "contour"
           }
          ],
          "contourcarpet": [
           {
            "colorbar": {
             "outlinewidth": 0,
             "ticks": ""
            },
            "type": "contourcarpet"
           }
          ],
          "heatmap": [
           {
            "colorbar": {
             "outlinewidth": 0,
             "ticks": ""
            },
            "colorscale": [
             [
              0,
              "#0d0887"
             ],
             [
              0.1111111111111111,
              "#46039f"
             ],
             [
              0.2222222222222222,
              "#7201a8"
             ],
             [
              0.3333333333333333,
              "#9c179e"
             ],
             [
              0.4444444444444444,
              "#bd3786"
             ],
             [
              0.5555555555555556,
              "#d8576b"
             ],
             [
              0.6666666666666666,
              "#ed7953"
             ],
             [
              0.7777777777777778,
              "#fb9f3a"
             ],
             [
              0.8888888888888888,
              "#fdca26"
             ],
             [
              1,
              "#f0f921"
             ]
            ],
            "type": "heatmap"
           }
          ],
          "histogram": [
           {
            "marker": {
             "pattern": {
              "fillmode": "overlay",
              "size": 10,
              "solidity": 0.2
             }
            },
            "type": "histogram"
           }
          ],
          "histogram2d": [
           {
            "colorbar": {
             "outlinewidth": 0,
             "ticks": ""
            },
            "colorscale": [
             [
              0,
              "#0d0887"
             ],
             [
              0.1111111111111111,
              "#46039f"
             ],
             [
              0.2222222222222222,
              "#7201a8"
             ],
             [
              0.3333333333333333,
              "#9c179e"
             ],
             [
              0.4444444444444444,
              "#bd3786"
             ],
             [
              0.5555555555555556,
              "#d8576b"
             ],
             [
              0.6666666666666666,
              "#ed7953"
             ],
             [
              0.7777777777777778,
              "#fb9f3a"
             ],
             [
              0.8888888888888888,
              "#fdca26"
             ],
             [
              1,
              "#f0f921"
             ]
            ],
            "type": "histogram2d"
           }
          ],
          "histogram2dcontour": [
           {
            "colorbar": {
             "outlinewidth": 0,
             "ticks": ""
            },
            "colorscale": [
             [
              0,
              "#0d0887"
             ],
             [
              0.1111111111111111,
              "#46039f"
             ],
             [
              0.2222222222222222,
              "#7201a8"
             ],
             [
              0.3333333333333333,
              "#9c179e"
             ],
             [
              0.4444444444444444,
              "#bd3786"
             ],
             [
              0.5555555555555556,
              "#d8576b"
             ],
             [
              0.6666666666666666,
              "#ed7953"
             ],
             [
              0.7777777777777778,
              "#fb9f3a"
             ],
             [
              0.8888888888888888,
              "#fdca26"
             ],
             [
              1,
              "#f0f921"
             ]
            ],
            "type": "histogram2dcontour"
           }
          ],
          "mesh3d": [
           {
            "colorbar": {
             "outlinewidth": 0,
             "ticks": ""
            },
            "type": "mesh3d"
           }
          ],
          "parcoords": [
           {
            "line": {
             "colorbar": {
              "outlinewidth": 0,
              "ticks": ""
             }
            },
            "type": "parcoords"
           }
          ],
          "pie": [
           {
            "automargin": true,
            "type": "pie"
           }
          ],
          "scatter": [
           {
            "fillpattern": {
             "fillmode": "overlay",
             "size": 10,
             "solidity": 0.2
            },
            "type": "scatter"
           }
          ],
          "scatter3d": [
           {
            "line": {
             "colorbar": {
              "outlinewidth": 0,
              "ticks": ""
             }
            },
            "marker": {
             "colorbar": {
              "outlinewidth": 0,
              "ticks": ""
             }
            },
            "type": "scatter3d"
           }
          ],
          "scattercarpet": [
           {
            "marker": {
             "colorbar": {
              "outlinewidth": 0,
              "ticks": ""
             }
            },
            "type": "scattercarpet"
           }
          ],
          "scattergeo": [
           {
            "marker": {
             "colorbar": {
              "outlinewidth": 0,
              "ticks": ""
             }
            },
            "type": "scattergeo"
           }
          ],
          "scattergl": [
           {
            "marker": {
             "colorbar": {
              "outlinewidth": 0,
              "ticks": ""
             }
            },
            "type": "scattergl"
           }
          ],
          "scattermap": [
           {
            "marker": {
             "colorbar": {
              "outlinewidth": 0,
              "ticks": ""
             }
            },
            "type": "scattermap"
           }
          ],
          "scattermapbox": [
           {
            "marker": {
             "colorbar": {
              "outlinewidth": 0,
              "ticks": ""
             }
            },
            "type": "scattermapbox"
           }
          ],
          "scatterpolar": [
           {
            "marker": {
             "colorbar": {
              "outlinewidth": 0,
              "ticks": ""
             }
            },
            "type": "scatterpolar"
           }
          ],
          "scatterpolargl": [
           {
            "marker": {
             "colorbar": {
              "outlinewidth": 0,
              "ticks": ""
             }
            },
            "type": "scatterpolargl"
           }
          ],
          "scatterternary": [
           {
            "marker": {
             "colorbar": {
              "outlinewidth": 0,
              "ticks": ""
             }
            },
            "type": "scatterternary"
           }
          ],
          "surface": [
           {
            "colorbar": {
             "outlinewidth": 0,
             "ticks": ""
            },
            "colorscale": [
             [
              0,
              "#0d0887"
             ],
             [
              0.1111111111111111,
              "#46039f"
             ],
             [
              0.2222222222222222,
              "#7201a8"
             ],
             [
              0.3333333333333333,
              "#9c179e"
             ],
             [
              0.4444444444444444,
              "#bd3786"
             ],
             [
              0.5555555555555556,
              "#d8576b"
             ],
             [
              0.6666666666666666,
              "#ed7953"
             ],
             [
              0.7777777777777778,
              "#fb9f3a"
             ],
             [
              0.8888888888888888,
              "#fdca26"
             ],
             [
              1,
              "#f0f921"
             ]
            ],
            "type": "surface"
           }
          ],
          "table": [
           {
            "cells": {
             "fill": {
              "color": "#EBF0F8"
             },
             "line": {
              "color": "white"
             }
            },
            "header": {
             "fill": {
              "color": "#C8D4E3"
             },
             "line": {
              "color": "white"
             }
            },
            "type": "table"
           }
          ]
         },
         "layout": {
          "annotationdefaults": {
           "arrowcolor": "#2a3f5f",
           "arrowhead": 0,
           "arrowwidth": 1
          },
          "autotypenumbers": "strict",
          "coloraxis": {
           "colorbar": {
            "outlinewidth": 0,
            "ticks": ""
           }
          },
          "colorscale": {
           "diverging": [
            [
             0,
             "#8e0152"
            ],
            [
             0.1,
             "#c51b7d"
            ],
            [
             0.2,
             "#de77ae"
            ],
            [
             0.3,
             "#f1b6da"
            ],
            [
             0.4,
             "#fde0ef"
            ],
            [
             0.5,
             "#f7f7f7"
            ],
            [
             0.6,
             "#e6f5d0"
            ],
            [
             0.7,
             "#b8e186"
            ],
            [
             0.8,
             "#7fbc41"
            ],
            [
             0.9,
             "#4d9221"
            ],
            [
             1,
             "#276419"
            ]
           ],
           "sequential": [
            [
             0,
             "#0d0887"
            ],
            [
             0.1111111111111111,
             "#46039f"
            ],
            [
             0.2222222222222222,
             "#7201a8"
            ],
            [
             0.3333333333333333,
             "#9c179e"
            ],
            [
             0.4444444444444444,
             "#bd3786"
            ],
            [
             0.5555555555555556,
             "#d8576b"
            ],
            [
             0.6666666666666666,
             "#ed7953"
            ],
            [
             0.7777777777777778,
             "#fb9f3a"
            ],
            [
             0.8888888888888888,
             "#fdca26"
            ],
            [
             1,
             "#f0f921"
            ]
           ],
           "sequentialminus": [
            [
             0,
             "#0d0887"
            ],
            [
             0.1111111111111111,
             "#46039f"
            ],
            [
             0.2222222222222222,
             "#7201a8"
            ],
            [
             0.3333333333333333,
             "#9c179e"
            ],
            [
             0.4444444444444444,
             "#bd3786"
            ],
            [
             0.5555555555555556,
             "#d8576b"
            ],
            [
             0.6666666666666666,
             "#ed7953"
            ],
            [
             0.7777777777777778,
             "#fb9f3a"
            ],
            [
             0.8888888888888888,
             "#fdca26"
            ],
            [
             1,
             "#f0f921"
            ]
           ]
          },
          "colorway": [
           "#636efa",
           "#EF553B",
           "#00cc96",
           "#ab63fa",
           "#FFA15A",
           "#19d3f3",
           "#FF6692",
           "#B6E880",
           "#FF97FF",
           "#FECB52"
          ],
          "font": {
           "color": "#2a3f5f"
          },
          "geo": {
           "bgcolor": "white",
           "lakecolor": "white",
           "landcolor": "#E5ECF6",
           "showlakes": true,
           "showland": true,
           "subunitcolor": "white"
          },
          "hoverlabel": {
           "align": "left"
          },
          "hovermode": "closest",
          "mapbox": {
           "style": "light"
          },
          "paper_bgcolor": "white",
          "plot_bgcolor": "#E5ECF6",
          "polar": {
           "angularaxis": {
            "gridcolor": "white",
            "linecolor": "white",
            "ticks": ""
           },
           "bgcolor": "#E5ECF6",
           "radialaxis": {
            "gridcolor": "white",
            "linecolor": "white",
            "ticks": ""
           }
          },
          "scene": {
           "xaxis": {
            "backgroundcolor": "#E5ECF6",
            "gridcolor": "white",
            "gridwidth": 2,
            "linecolor": "white",
            "showbackground": true,
            "ticks": "",
            "zerolinecolor": "white"
           },
           "yaxis": {
            "backgroundcolor": "#E5ECF6",
            "gridcolor": "white",
            "gridwidth": 2,
            "linecolor": "white",
            "showbackground": true,
            "ticks": "",
            "zerolinecolor": "white"
           },
           "zaxis": {
            "backgroundcolor": "#E5ECF6",
            "gridcolor": "white",
            "gridwidth": 2,
            "linecolor": "white",
            "showbackground": true,
            "ticks": "",
            "zerolinecolor": "white"
           }
          },
          "shapedefaults": {
           "line": {
            "color": "#2a3f5f"
           }
          },
          "ternary": {
           "aaxis": {
            "gridcolor": "white",
            "linecolor": "white",
            "ticks": ""
           },
           "baxis": {
            "gridcolor": "white",
            "linecolor": "white",
            "ticks": ""
           },
           "bgcolor": "#E5ECF6",
           "caxis": {
            "gridcolor": "white",
            "linecolor": "white",
            "ticks": ""
           }
          },
          "title": {
           "x": 0.05
          },
          "xaxis": {
           "automargin": true,
           "gridcolor": "white",
           "linecolor": "white",
           "ticks": "",
           "title": {
            "standoff": 15
           },
           "zerolinecolor": "white",
           "zerolinewidth": 2
          },
          "yaxis": {
           "automargin": true,
           "gridcolor": "white",
           "linecolor": "white",
           "ticks": "",
           "title": {
            "standoff": 15
           },
           "zerolinecolor": "white",
           "zerolinewidth": 2
          }
         }
        },
        "title": {
         "text": "Distribution of number of faces per image"
        },
        "xaxis": {
         "anchor": "y",
         "domain": [
          0,
          1
         ],
         "title": {
          "text": "count"
         }
        },
        "yaxis": {
         "anchor": "x",
         "domain": [
          0,
          1
         ],
         "title": {
          "text": "count"
         }
        }
       }
      }
     },
     "metadata": {},
     "output_type": "display_data"
    },
    {
     "name": "stdout",
     "output_type": "stream",
     "text": [
      "Invalid bounding boxes count: 0\n"
     ]
    },
    {
     "data": {
      "application/vnd.plotly.v1+json": {
       "config": {
        "plotlyServerURL": "https://plot.ly"
       },
       "data": [
        {
         "hovertemplate": "bbox_width=%{x}<br>bbox_height=%{y}<extra></extra>",
         "legendgroup": "",
         "marker": {
          "color": "#636efa",
          "symbol": "circle"
         },
         "mode": "markers",
         "name": "",
         "showlegend": false,
         "type": "scattergl",
         "x": {
          "bdata": "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",
          "dtype": "i2"
         },
         "xaxis": "x",
         "y": {
          "bdata": "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",
          "dtype": "i2"
         },
         "yaxis": "y"
        }
       ],
       "layout": {
        "legend": {
         "tracegroupgap": 0
        },
        "template": {
         "data": {
          "bar": [
           {
            "error_x": {
             "color": "#2a3f5f"
            },
            "error_y": {
             "color": "#2a3f5f"
            },
            "marker": {
             "line": {
              "color": "#E5ECF6",
              "width": 0.5
             },
             "pattern": {
              "fillmode": "overlay",
              "size": 10,
              "solidity": 0.2
             }
            },
            "type": "bar"
           }
          ],
          "barpolar": [
           {
            "marker": {
             "line": {
              "color": "#E5ECF6",
              "width": 0.5
             },
             "pattern": {
              "fillmode": "overlay",
              "size": 10,
              "solidity": 0.2
             }
            },
            "type": "barpolar"
           }
          ],
          "carpet": [
           {
            "aaxis": {
             "endlinecolor": "#2a3f5f",
             "gridcolor": "white",
             "linecolor": "white",
             "minorgridcolor": "white",
             "startlinecolor": "#2a3f5f"
            },
            "baxis": {
             "endlinecolor": "#2a3f5f",
             "gridcolor": "white",
             "linecolor": "white",
             "minorgridcolor": "white",
             "startlinecolor": "#2a3f5f"
            },
            "type": "carpet"
           }
          ],
          "choropleth": [
           {
            "colorbar": {
             "outlinewidth": 0,
             "ticks": ""
            },
            "type": "choropleth"
           }
          ],
          "contour": [
           {
            "colorbar": {
             "outlinewidth": 0,
             "ticks": ""
            },
            "colorscale": [
             [
              0,
              "#0d0887"
             ],
             [
              0.1111111111111111,
              "#46039f"
             ],
             [
              0.2222222222222222,
              "#7201a8"
             ],
             [
              0.3333333333333333,
              "#9c179e"
             ],
             [
              0.4444444444444444,
              "#bd3786"
             ],
             [
              0.5555555555555556,
              "#d8576b"
             ],
             [
              0.6666666666666666,
              "#ed7953"
             ],
             [
              0.7777777777777778,
              "#fb9f3a"
             ],
             [
              0.8888888888888888,
              "#fdca26"
             ],
             [
              1,
              "#f0f921"
             ]
            ],
            "type": "contour"
           }
          ],
          "contourcarpet": [
           {
            "colorbar": {
             "outlinewidth": 0,
             "ticks": ""
            },
            "type": "contourcarpet"
           }
          ],
          "heatmap": [
           {
            "colorbar": {
             "outlinewidth": 0,
             "ticks": ""
            },
            "colorscale": [
             [
              0,
              "#0d0887"
             ],
             [
              0.1111111111111111,
              "#46039f"
             ],
             [
              0.2222222222222222,
              "#7201a8"
             ],
             [
              0.3333333333333333,
              "#9c179e"
             ],
             [
              0.4444444444444444,
              "#bd3786"
             ],
             [
              0.5555555555555556,
              "#d8576b"
             ],
             [
              0.6666666666666666,
              "#ed7953"
             ],
             [
              0.7777777777777778,
              "#fb9f3a"
             ],
             [
              0.8888888888888888,
              "#fdca26"
             ],
             [
              1,
              "#f0f921"
             ]
            ],
            "type": "heatmap"
           }
          ],
          "histogram": [
           {
            "marker": {
             "pattern": {
              "fillmode": "overlay",
              "size": 10,
              "solidity": 0.2
             }
            },
            "type": "histogram"
           }
          ],
          "histogram2d": [
           {
            "colorbar": {
             "outlinewidth": 0,
             "ticks": ""
            },
            "colorscale": [
             [
              0,
              "#0d0887"
             ],
             [
              0.1111111111111111,
              "#46039f"
             ],
             [
              0.2222222222222222,
              "#7201a8"
             ],
             [
              0.3333333333333333,
              "#9c179e"
             ],
             [
              0.4444444444444444,
              "#bd3786"
             ],
             [
              0.5555555555555556,
              "#d8576b"
             ],
             [
              0.6666666666666666,
              "#ed7953"
             ],
             [
              0.7777777777777778,
              "#fb9f3a"
             ],
             [
              0.8888888888888888,
              "#fdca26"
             ],
             [
              1,
              "#f0f921"
             ]
            ],
            "type": "histogram2d"
           }
          ],
          "histogram2dcontour": [
           {
            "colorbar": {
             "outlinewidth": 0,
             "ticks": ""
            },
            "colorscale": [
             [
              0,
              "#0d0887"
             ],
             [
              0.1111111111111111,
              "#46039f"
             ],
             [
              0.2222222222222222,
              "#7201a8"
             ],
             [
              0.3333333333333333,
              "#9c179e"
             ],
             [
              0.4444444444444444,
              "#bd3786"
             ],
             [
              0.5555555555555556,
              "#d8576b"
             ],
             [
              0.6666666666666666,
              "#ed7953"
             ],
             [
              0.7777777777777778,
              "#fb9f3a"
             ],
             [
              0.8888888888888888,
              "#fdca26"
             ],
             [
              1,
              "#f0f921"
             ]
            ],
            "type": "histogram2dcontour"
           }
          ],
          "mesh3d": [
           {
            "colorbar": {
             "outlinewidth": 0,
             "ticks": ""
            },
            "type": "mesh3d"
           }
          ],
          "parcoords": [
           {
            "line": {
             "colorbar": {
              "outlinewidth": 0,
              "ticks": ""
             }
            },
            "type": "parcoords"
           }
          ],
          "pie": [
           {
            "automargin": true,
            "type": "pie"
           }
          ],
          "scatter": [
           {
            "fillpattern": {
             "fillmode": "overlay",
             "size": 10,
             "solidity": 0.2
            },
            "type": "scatter"
           }
          ],
          "scatter3d": [
           {
            "line": {
             "colorbar": {
              "outlinewidth": 0,
              "ticks": ""
             }
            },
            "marker": {
             "colorbar": {
              "outlinewidth": 0,
              "ticks": ""
             }
            },
            "type": "scatter3d"
           }
          ],
          "scattercarpet": [
           {
            "marker": {
             "colorbar": {
              "outlinewidth": 0,
              "ticks": ""
             }
            },
            "type": "scattercarpet"
           }
          ],
          "scattergeo": [
           {
            "marker": {
             "colorbar": {
              "outlinewidth": 0,
              "ticks": ""
             }
            },
            "type": "scattergeo"
           }
          ],
          "scattergl": [
           {
            "marker": {
             "colorbar": {
              "outlinewidth": 0,
              "ticks": ""
             }
            },
            "type": "scattergl"
           }
          ],
          "scattermap": [
           {
            "marker": {
             "colorbar": {
              "outlinewidth": 0,
              "ticks": ""
             }
            },
            "type": "scattermap"
           }
          ],
          "scattermapbox": [
           {
            "marker": {
             "colorbar": {
              "outlinewidth": 0,
              "ticks": ""
             }
            },
            "type": "scattermapbox"
           }
          ],
          "scatterpolar": [
           {
            "marker": {
             "colorbar": {
              "outlinewidth": 0,
              "ticks": ""
             }
            },
            "type": "scatterpolar"
           }
          ],
          "scatterpolargl": [
           {
            "marker": {
             "colorbar": {
              "outlinewidth": 0,
              "ticks": ""
             }
            },
            "type": "scatterpolargl"
           }
          ],
          "scatterternary": [
           {
            "marker": {
             "colorbar": {
              "outlinewidth": 0,
              "ticks": ""
             }
            },
            "type": "scatterternary"
           }
          ],
          "surface": [
           {
            "colorbar": {
             "outlinewidth": 0,
             "ticks": ""
            },
            "colorscale": [
             [
              0,
              "#0d0887"
             ],
             [
              0.1111111111111111,
              "#46039f"
             ],
             [
              0.2222222222222222,
              "#7201a8"
             ],
             [
              0.3333333333333333,
              "#9c179e"
             ],
             [
              0.4444444444444444,
              "#bd3786"
             ],
             [
              0.5555555555555556,
              "#d8576b"
             ],
             [
              0.6666666666666666,
              "#ed7953"
             ],
             [
              0.7777777777777778,
              "#fb9f3a"
             ],
             [
              0.8888888888888888,
              "#fdca26"
             ],
             [
              1,
              "#f0f921"
             ]
            ],
            "type": "surface"
           }
          ],
          "table": [
           {
            "cells": {
             "fill": {
              "color": "#EBF0F8"
             },
             "line": {
              "color": "white"
             }
            },
            "header": {
             "fill": {
              "color": "#C8D4E3"
             },
             "line": {
              "color": "white"
             }
            },
            "type": "table"
           }
          ]
         },
         "layout": {
          "annotationdefaults": {
           "arrowcolor": "#2a3f5f",
           "arrowhead": 0,
           "arrowwidth": 1
          },
          "autotypenumbers": "strict",
          "coloraxis": {
           "colorbar": {
            "outlinewidth": 0,
            "ticks": ""
           }
          },
          "colorscale": {
           "diverging": [
            [
             0,
             "#8e0152"
            ],
            [
             0.1,
             "#c51b7d"
            ],
            [
             0.2,
             "#de77ae"
            ],
            [
             0.3,
             "#f1b6da"
            ],
            [
             0.4,
             "#fde0ef"
            ],
            [
             0.5,
             "#f7f7f7"
            ],
            [
             0.6,
             "#e6f5d0"
            ],
            [
             0.7,
             "#b8e186"
            ],
            [
             0.8,
             "#7fbc41"
            ],
            [
             0.9,
             "#4d9221"
            ],
            [
             1,
             "#276419"
            ]
           ],
           "sequential": [
            [
             0,
             "#0d0887"
            ],
            [
             0.1111111111111111,
             "#46039f"
            ],
            [
             0.2222222222222222,
             "#7201a8"
            ],
            [
             0.3333333333333333,
             "#9c179e"
            ],
            [
             0.4444444444444444,
             "#bd3786"
            ],
            [
             0.5555555555555556,
             "#d8576b"
            ],
            [
             0.6666666666666666,
             "#ed7953"
            ],
            [
             0.7777777777777778,
             "#fb9f3a"
            ],
            [
             0.8888888888888888,
             "#fdca26"
            ],
            [
             1,
             "#f0f921"
            ]
           ],
           "sequentialminus": [
            [
             0,
             "#0d0887"
            ],
            [
             0.1111111111111111,
             "#46039f"
            ],
            [
             0.2222222222222222,
             "#7201a8"
            ],
            [
             0.3333333333333333,
             "#9c179e"
            ],
            [
             0.4444444444444444,
             "#bd3786"
            ],
            [
             0.5555555555555556,
             "#d8576b"
            ],
            [
             0.6666666666666666,
             "#ed7953"
            ],
            [
             0.7777777777777778,
             "#fb9f3a"
            ],
            [
             0.8888888888888888,
             "#fdca26"
            ],
            [
             1,
             "#f0f921"
            ]
           ]
          },
          "colorway": [
           "#636efa",
           "#EF553B",
           "#00cc96",
           "#ab63fa",
           "#FFA15A",
           "#19d3f3",
           "#FF6692",
           "#B6E880",
           "#FF97FF",
           "#FECB52"
          ],
          "font": {
           "color": "#2a3f5f"
          },
          "geo": {
           "bgcolor": "white",
           "lakecolor": "white",
           "landcolor": "#E5ECF6",
           "showlakes": true,
           "showland": true,
           "subunitcolor": "white"
          },
          "hoverlabel": {
           "align": "left"
          },
          "hovermode": "closest",
          "mapbox": {
           "style": "light"
          },
          "paper_bgcolor": "white",
          "plot_bgcolor": "#E5ECF6",
          "polar": {
           "angularaxis": {
            "gridcolor": "white",
            "linecolor": "white",
            "ticks": ""
           },
           "bgcolor": "#E5ECF6",
           "radialaxis": {
            "gridcolor": "white",
            "linecolor": "white",
            "ticks": ""
           }
          },
          "scene": {
           "xaxis": {
            "backgroundcolor": "#E5ECF6",
            "gridcolor": "white",
            "gridwidth": 2,
            "linecolor": "white",
            "showbackground": true,
            "ticks": "",
            "zerolinecolor": "white"
           },
           "yaxis": {
            "backgroundcolor": "#E5ECF6",
            "gridcolor": "white",
            "gridwidth": 2,
            "linecolor": "white",
            "showbackground": true,
            "ticks": "",
            "zerolinecolor": "white"
           },
           "zaxis": {
            "backgroundcolor": "#E5ECF6",
            "gridcolor": "white",
            "gridwidth": 2,
            "linecolor": "white",
            "showbackground": true,
            "ticks": "",
            "zerolinecolor": "white"
           }
          },
          "shapedefaults": {
           "line": {
            "color": "#2a3f5f"
           }
          },
          "ternary": {
           "aaxis": {
            "gridcolor": "white",
            "linecolor": "white",
            "ticks": ""
           },
           "baxis": {
            "gridcolor": "white",
            "linecolor": "white",
            "ticks": ""
           },
           "bgcolor": "#E5ECF6",
           "caxis": {
            "gridcolor": "white",
            "linecolor": "white",
            "ticks": ""
           }
          },
          "title": {
           "x": 0.05
          },
          "xaxis": {
           "automargin": true,
           "gridcolor": "white",
           "linecolor": "white",
           "ticks": "",
           "title": {
            "standoff": 15
           },
           "zerolinecolor": "white",
           "zerolinewidth": 2
          },
          "yaxis": {
           "automargin": true,
           "gridcolor": "white",
           "linecolor": "white",
           "ticks": "",
           "title": {
            "standoff": 15
           },
           "zerolinecolor": "white",
           "zerolinewidth": 2
          }
         }
        },
        "title": {
         "text": "Scatter Plot of Bounding Box Width vs Height"
        },
        "xaxis": {
         "anchor": "y",
         "domain": [
          0,
          1
         ],
         "title": {
          "text": "bbox_width"
         }
        },
        "yaxis": {
         "anchor": "x",
         "domain": [
          0,
          1
         ],
         "title": {
          "text": "bbox_height"
         }
        }
       }
      }
     },
     "metadata": {},
     "output_type": "display_data"
    },
    {
     "name": "stdout",
     "output_type": "stream",
     "text": [
      "EDA complete.\n"
     ]
    }
   ],
   "source": [
    "import pandas as pd\n",
    "import plotly.express as px\n",
    "import plotly.graph_objects as go\n",
    "import cv2\n",
    "import os\n",
    "\n",
    "# Loading final annotations\n",
    "df_final = pd.read_csv(\"data/final_annotations.csv\")\n",
    "\n",
    "# 1. Image Count\n",
    "unique_images = df_final['image_name'].nunique()\n",
    "print(\"Total unique images:\", unique_images)\n",
    "\n",
    "# 2. Face Count\n",
    "face_count = len(df_final)\n",
    "print(\"Total faces in the dataset:\", face_count)\n",
    "\n",
    "# 3. Faces per image distribution\n",
    "faces_per_image = df_final.groupby('image_name').size().reset_index(name='count')\n",
    "fig_faces = px.histogram(faces_per_image, x='count', nbins=10,\n",
    "                         title=\"Distribution of number of faces per image\")\n",
    "fig_faces.show()\n",
    "\n",
    "# 4. Bounding Box Accuracy Check\n",
    "# Checking if bounding boxes are in a valid range \n",
    "invalid_bboxes = df_final[\n",
    "    (df_final['x0'] < 0) | (df_final['y0'] < 0) |\n",
    "    (df_final['x1'] <= df_final['x0']) |\n",
    "    (df_final['y1'] <= df_final['y0'])\n",
    "]\n",
    "print(\"Invalid bounding boxes count:\", len(invalid_bboxes))\n",
    "\n",
    "# 5. Resolution distribution (since all are resized to 224x224, it might be uniform)\n",
    "\n",
    "# 6. Quick visualization of bounding box sizes\n",
    "df_final['bbox_width'] = df_final['x1'] - df_final['x0']\n",
    "df_final['bbox_height'] = df_final['y1'] - df_final['y0']\n",
    "\n",
    "fig_bbox_size = px.scatter(df_final, x='bbox_width', y='bbox_height',\n",
    "                           title=\"Scatter Plot of Bounding Box Width vs Height\")\n",
    "fig_bbox_size.show()\n",
    "\n",
    "print(\"EDA complete.\")"
   ]
  },
  {
   "cell_type": "code",
   "execution_count": null,
   "metadata": {},
   "outputs": [
    {
     "name": "stdout",
     "output_type": "stream",
     "text": [
      "Training set size: 5360\n",
      "Validation set size: 670\n",
      "Test set size: 670\n",
      "YOLO dataset structure created under data/images and data/labels.\n"
     ]
    }
   ],
   "source": [
    "import os\n",
    "import shutil\n",
    "import pandas as pd\n",
    "from sklearn.model_selection import train_test_split\n",
    "\n",
    "# Loadig the final CSV which includes original + augmented\n",
    "df = pd.read_csv(\"data/final_annotations.csv\")\n",
    "\n",
    "# Splitting dataset into train / val / test\n",
    "df_train, df_temp = train_test_split(df, test_size=0.2, random_state=42)\n",
    "df_val, df_test = train_test_split(df_temp, test_size=0.5, random_state=42)\n",
    "\n",
    "print(\"Training set size:\", len(df_train))\n",
    "print(\"Validation set size:\", len(df_val))\n",
    "print(\"Test set size:\", len(df_test))\n",
    "\n",
    "# Creating YOLO directory structure\n",
    "os.makedirs(\"data/images/train\", exist_ok=True)\n",
    "os.makedirs(\"data/images/val\", exist_ok=True)\n",
    "os.makedirs(\"data/images/test\", exist_ok=True)\n",
    "os.makedirs(\"data/labels/train\", exist_ok=True)\n",
    "os.makedirs(\"data/labels/val\", exist_ok=True)\n",
    "os.makedirs(\"data/labels/test\", exist_ok=True)\n",
    "\n",
    "def convert_and_copy(df_split, split_name):\n",
    "    for idx, row in df_split.iterrows():\n",
    "        img_name = row['image_name']\n",
    "        width = row['width']\n",
    "        height = row['height']\n",
    "        x0 = row['x0']\n",
    "        y0 = row['y0']\n",
    "        x1 = row['x1']\n",
    "        y1 = row['y1']\n",
    "\n",
    "        # Source is the processed images directory\n",
    "        src_img_path = os.path.join(\"data/images_processed\", img_name)\n",
    "        if not os.path.exists(src_img_path):\n",
    "            continue\n",
    "        \n",
    "        # Destination path for this split\n",
    "        dst_img_path = os.path.join(f\"data/images/{split_name}\", img_name)\n",
    "        \n",
    "        if not os.path.exists(dst_img_path):\n",
    "            shutil.copy(src_img_path, dst_img_path)\n",
    "\n",
    "        # Creating YOLO label file name\n",
    "        label_file_name = os.path.splitext(img_name)[0] + \".txt\"\n",
    "        label_path = os.path.join(f\"data/labels/{split_name}\", label_file_name)\n",
    "\n",
    "        # Converting bounding box to normalized YOLO format:\n",
    "        #   class_id x_center y_center w h\n",
    "        #   all normalized to [0,1]\n",
    "        x_center = ((x0 + x1) / 2) / width\n",
    "        y_center = ((y0 + y1) / 2) / height\n",
    "        w_norm = (x1 - x0) / width\n",
    "        h_norm = (y1 - y0) / height\n",
    "\n",
    "        # Single-class case => class_id = 0 (face)\n",
    "        yolo_line = f\"0 {x_center} {y_center} {w_norm} {h_norm}\\n\"\n",
    "\n",
    "        # Appending to label file in case multiple bboxes per image\n",
    "        with open(label_path, \"a\") as f:\n",
    "            f.write(yolo_line)\n",
    "\n",
    "# Processing each split\n",
    "convert_and_copy(df_train, \"train\")\n",
    "convert_and_copy(df_val, \"val\")\n",
    "convert_and_copy(df_test, \"test\")\n",
    "\n",
    "print(\"YOLO dataset structure created under data/images and data/labels.\")"
   ]
  },
  {
   "cell_type": "code",
   "execution_count": null,
   "metadata": {},
   "outputs": [
    {
     "name": "stdout",
     "output_type": "stream",
     "text": [
      "data.yaml created successfully.\n"
     ]
    }
   ],
   "source": [
    "import os\n",
    "\n",
    "project_dir = r\"C:\\Users\\suraa\\OneDrive\\Documents\\Final Project\"\n",
    "train_dir = os.path.join(project_dir, \"data\", \"images\", \"train\")\n",
    "val_dir   = os.path.join(project_dir, \"data\", \"images\", \"val\")\n",
    "test_dir  = os.path.join(project_dir, \"data\", \"images\", \"test\")\n",
    "\n",
    "# Replacing backslashes with forward slashes for compatibility\n",
    "train_dir = train_dir.replace(\"\\\\\", \"/\")\n",
    "val_dir = val_dir.replace(\"\\\\\", \"/\")\n",
    "test_dir = test_dir.replace(\"\\\\\", \"/\")\n",
    "\n",
    "data_yaml_content = f\"\"\"# YOLOv8 data config\n",
    "train: {train_dir}\n",
    "val: {val_dir}\n",
    "test: {test_dir}\n",
    "\n",
    "# List of class names\n",
    "names:\n",
    "  0: face\n",
    "\"\"\"\n",
    "\n",
    "with open(\"data.yaml\", \"w\") as f:\n",
    "    f.write(data_yaml_content)\n",
    "\n",
    "print(\"data.yaml created successfully.\")"
   ]
  },
  {
   "cell_type": "code",
   "execution_count": null,
   "metadata": {},
   "outputs": [
    {
     "name": "stdout",
     "output_type": "stream",
     "text": [
      "Ultralytics 8.3.78  Python-3.10.0 torch-2.6.0+cpu CPU (Intel Core(TM) i7-14700HX)\n",
      "\u001b[34m\u001b[1mengine\\trainer: \u001b[0mtask=detect, mode=train, model=yolov8n.yaml, data=data.yaml, epochs=50, time=None, patience=100, batch=8, imgsz=224, save=True, save_period=-1, cache=False, device=None, workers=8, project=None, name=face_detection5, exist_ok=False, pretrained=True, optimizer=auto, verbose=True, seed=0, deterministic=True, single_cls=False, rect=False, cos_lr=False, close_mosaic=10, resume=False, amp=True, fraction=1.0, profile=False, freeze=None, multi_scale=False, overlap_mask=True, mask_ratio=4, dropout=0.0, val=True, split=val, save_json=False, save_hybrid=False, conf=None, iou=0.7, max_det=300, half=False, dnn=False, plots=True, source=None, vid_stride=1, stream_buffer=False, visualize=False, augment=False, agnostic_nms=False, classes=None, retina_masks=False, embed=None, show=False, save_frames=False, save_txt=False, save_conf=False, save_crop=False, show_labels=True, show_conf=True, show_boxes=True, line_width=None, format=torchscript, keras=False, optimize=False, int8=False, dynamic=False, simplify=True, opset=None, workspace=None, nms=False, lr0=0.01, lrf=0.01, momentum=0.937, weight_decay=0.0005, warmup_epochs=3.0, warmup_momentum=0.8, warmup_bias_lr=0.1, box=7.5, cls=0.5, dfl=1.5, pose=12.0, kobj=1.0, nbs=64, hsv_h=0.015, hsv_s=0.7, hsv_v=0.4, degrees=0.0, translate=0.1, scale=0.5, shear=0.0, perspective=0.0, flipud=0.0, fliplr=0.5, bgr=0.0, mosaic=1.0, mixup=0.0, copy_paste=0.0, copy_paste_mode=flip, auto_augment=randaugment, erasing=0.4, crop_fraction=1.0, cfg=None, tracker=botsort.yaml, save_dir=runs\\detect\\face_detection5\n",
      "Overriding model.yaml nc=80 with nc=1\n",
      "\n",
      "                   from  n    params  module                                       arguments                     \n",
      "  0                  -1  1       464  ultralytics.nn.modules.conv.Conv             [3, 16, 3, 2]                 \n",
      "  1                  -1  1      4672  ultralytics.nn.modules.conv.Conv             [16, 32, 3, 2]                \n",
      "  2                  -1  1      7360  ultralytics.nn.modules.block.C2f             [32, 32, 1, True]             \n",
      "  3                  -1  1     18560  ultralytics.nn.modules.conv.Conv             [32, 64, 3, 2]                \n",
      "  4                  -1  2     49664  ultralytics.nn.modules.block.C2f             [64, 64, 2, True]             \n",
      "  5                  -1  1     73984  ultralytics.nn.modules.conv.Conv             [64, 128, 3, 2]               \n",
      "  6                  -1  2    197632  ultralytics.nn.modules.block.C2f             [128, 128, 2, True]           \n",
      "  7                  -1  1    295424  ultralytics.nn.modules.conv.Conv             [128, 256, 3, 2]              \n",
      "  8                  -1  1    460288  ultralytics.nn.modules.block.C2f             [256, 256, 1, True]           \n",
      "  9                  -1  1    164608  ultralytics.nn.modules.block.SPPF            [256, 256, 5]                 \n",
      " 10                  -1  1         0  torch.nn.modules.upsampling.Upsample         [None, 2, 'nearest']          \n",
      " 11             [-1, 6]  1         0  ultralytics.nn.modules.conv.Concat           [1]                           \n",
      " 12                  -1  1    148224  ultralytics.nn.modules.block.C2f             [384, 128, 1]                 \n",
      " 13                  -1  1         0  torch.nn.modules.upsampling.Upsample         [None, 2, 'nearest']          \n",
      " 14             [-1, 4]  1         0  ultralytics.nn.modules.conv.Concat           [1]                           \n",
      " 15                  -1  1     37248  ultralytics.nn.modules.block.C2f             [192, 64, 1]                  \n",
      " 16                  -1  1     36992  ultralytics.nn.modules.conv.Conv             [64, 64, 3, 2]                \n",
      " 17            [-1, 12]  1         0  ultralytics.nn.modules.conv.Concat           [1]                           \n",
      " 18                  -1  1    123648  ultralytics.nn.modules.block.C2f             [192, 128, 1]                 \n",
      " 19                  -1  1    147712  ultralytics.nn.modules.conv.Conv             [128, 128, 3, 2]              \n",
      " 20             [-1, 9]  1         0  ultralytics.nn.modules.conv.Concat           [1]                           \n",
      " 21                  -1  1    493056  ultralytics.nn.modules.block.C2f             [384, 256, 1]                 \n",
      " 22        [15, 18, 21]  1    751507  ultralytics.nn.modules.head.Detect           [1, [64, 128, 256]]           \n",
      "YOLOv8n summary: 129 layers, 3,011,043 parameters, 3,011,027 gradients, 8.2 GFLOPs\n",
      "\n",
      "Freezing layer 'model.22.dfl.conv.weight'\n"
     ]
    },
    {
     "name": "stderr",
     "output_type": "stream",
     "text": [
      "\u001b[34m\u001b[1mtrain: \u001b[0mScanning C:\\Users\\suraa\\OneDrive\\Documents\\Final Project\\data\\labels\\train.cache... 4533 images, 0 backgrounds, 0 corrupt: 100%|██████████| 4533/4533 [00:00<?, ?it/s]\n"
     ]
    },
    {
     "name": "stdout",
     "output_type": "stream",
     "text": [
      "\u001b[34m\u001b[1malbumentations: \u001b[0mBlur(p=0.01, blur_limit=(3, 7)), MedianBlur(p=0.01, blur_limit=(3, 7)), ToGray(p=0.01, num_output_channels=3, method='weighted_average'), CLAHE(p=0.01, clip_limit=(1.0, 4.0), tile_grid_size=(8, 8))\n"
     ]
    },
    {
     "name": "stderr",
     "output_type": "stream",
     "text": [
      "\u001b[34m\u001b[1mval: \u001b[0mScanning C:\\Users\\suraa\\OneDrive\\Documents\\Final Project\\data\\labels\\val.cache... 643 images, 0 backgrounds, 0 corrupt: 100%|██████████| 643/643 [00:00<?, ?it/s]\n"
     ]
    },
    {
     "name": "stdout",
     "output_type": "stream",
     "text": [
      "Plotting labels to runs\\detect\\face_detection5\\labels.jpg... \n",
      "\u001b[34m\u001b[1moptimizer:\u001b[0m 'optimizer=auto' found, ignoring 'lr0=0.01' and 'momentum=0.937' and determining best 'optimizer', 'lr0' and 'momentum' automatically... \n",
      "\u001b[34m\u001b[1moptimizer:\u001b[0m AdamW(lr=0.002, momentum=0.9) with parameter groups 57 weight(decay=0.0), 64 weight(decay=0.0005), 63 bias(decay=0.0)\n",
      "Image sizes 224 train, 224 val\n",
      "Using 0 dataloader workers\n",
      "Logging results to \u001b[1mruns\\detect\\face_detection5\u001b[0m\n",
      "Starting training for 50 epochs...\n",
      "\n",
      "      Epoch    GPU_mem   box_loss   cls_loss   dfl_loss  Instances       Size\n"
     ]
    },
    {
     "name": "stderr",
     "output_type": "stream",
     "text": [
      "       1/50         0G      3.578       3.02      3.287         12        224: 100%|██████████| 567/567 [01:54<00:00,  4.94it/s]\n",
      "                 Class     Images  Instances      Box(P          R      mAP50  mAP50-95): 100%|██████████| 41/41 [00:07<00:00,  5.59it/s]"
     ]
    },
    {
     "name": "stdout",
     "output_type": "stream",
     "text": [
      "                   all        643        670      0.321      0.307      0.255      0.108\n"
     ]
    },
    {
     "name": "stderr",
     "output_type": "stream",
     "text": [
      "\n"
     ]
    },
    {
     "name": "stdout",
     "output_type": "stream",
     "text": [
      "\n",
      "      Epoch    GPU_mem   box_loss   cls_loss   dfl_loss  Instances       Size\n"
     ]
    },
    {
     "name": "stderr",
     "output_type": "stream",
     "text": [
      "       2/50         0G      2.327      2.084      2.156         13        224: 100%|██████████| 567/567 [01:40<00:00,  5.62it/s]\n",
      "                 Class     Images  Instances      Box(P          R      mAP50  mAP50-95): 100%|██████████| 41/41 [00:05<00:00,  7.84it/s]"
     ]
    },
    {
     "name": "stdout",
     "output_type": "stream",
     "text": [
      "                   all        643        670      0.318      0.393      0.297      0.102\n"
     ]
    },
    {
     "name": "stderr",
     "output_type": "stream",
     "text": [
      "\n"
     ]
    },
    {
     "name": "stdout",
     "output_type": "stream",
     "text": [
      "\n",
      "      Epoch    GPU_mem   box_loss   cls_loss   dfl_loss  Instances       Size\n"
     ]
    },
    {
     "name": "stderr",
     "output_type": "stream",
     "text": [
      "       3/50         0G       2.02      1.831      1.869          7        224: 100%|██████████| 567/567 [01:37<00:00,  5.83it/s]\n",
      "                 Class     Images  Instances      Box(P          R      mAP50  mAP50-95): 100%|██████████| 41/41 [00:04<00:00,  8.54it/s]\n"
     ]
    },
    {
     "name": "stdout",
     "output_type": "stream",
     "text": [
      "                   all        643        670      0.373      0.521      0.442      0.225\n",
      "\n",
      "      Epoch    GPU_mem   box_loss   cls_loss   dfl_loss  Instances       Size\n"
     ]
    },
    {
     "name": "stderr",
     "output_type": "stream",
     "text": [
      "       4/50         0G      1.868      1.686       1.75          8        224: 100%|██████████| 567/567 [01:37<00:00,  5.81it/s]\n",
      "                 Class     Images  Instances      Box(P          R      mAP50  mAP50-95): 100%|██████████| 41/41 [00:04<00:00,  8.61it/s]"
     ]
    },
    {
     "name": "stdout",
     "output_type": "stream",
     "text": [
      "                   all        643        670      0.566      0.543      0.586      0.335\n"
     ]
    },
    {
     "name": "stderr",
     "output_type": "stream",
     "text": [
      "\n"
     ]
    },
    {
     "name": "stdout",
     "output_type": "stream",
     "text": [
      "\n",
      "      Epoch    GPU_mem   box_loss   cls_loss   dfl_loss  Instances       Size\n"
     ]
    },
    {
     "name": "stderr",
     "output_type": "stream",
     "text": [
      "       5/50         0G      1.799      1.604      1.667          9        224: 100%|██████████| 567/567 [01:36<00:00,  5.90it/s]\n",
      "                 Class     Images  Instances      Box(P          R      mAP50  mAP50-95): 100%|██████████| 41/41 [00:04<00:00,  8.26it/s]"
     ]
    },
    {
     "name": "stdout",
     "output_type": "stream",
     "text": [
      "                   all        643        670      0.474      0.596      0.566      0.336\n"
     ]
    },
    {
     "name": "stderr",
     "output_type": "stream",
     "text": [
      "\n"
     ]
    },
    {
     "name": "stdout",
     "output_type": "stream",
     "text": [
      "\n",
      "      Epoch    GPU_mem   box_loss   cls_loss   dfl_loss  Instances       Size\n"
     ]
    },
    {
     "name": "stderr",
     "output_type": "stream",
     "text": [
      "       6/50         0G      1.703      1.504      1.608          5        224: 100%|██████████| 567/567 [01:37<00:00,  5.80it/s]\n",
      "                 Class     Images  Instances      Box(P          R      mAP50  mAP50-95): 100%|██████████| 41/41 [00:04<00:00,  8.24it/s]"
     ]
    },
    {
     "name": "stdout",
     "output_type": "stream",
     "text": [
      "                   all        643        670      0.618      0.588      0.664      0.418\n"
     ]
    },
    {
     "name": "stderr",
     "output_type": "stream",
     "text": [
      "\n"
     ]
    },
    {
     "name": "stdout",
     "output_type": "stream",
     "text": [
      "\n",
      "      Epoch    GPU_mem   box_loss   cls_loss   dfl_loss  Instances       Size\n"
     ]
    },
    {
     "name": "stderr",
     "output_type": "stream",
     "text": [
      "       7/50         0G      1.677      1.446      1.572          8        224: 100%|██████████| 567/567 [01:36<00:00,  5.88it/s]\n",
      "                 Class     Images  Instances      Box(P          R      mAP50  mAP50-95): 100%|██████████| 41/41 [00:04<00:00,  8.27it/s]"
     ]
    },
    {
     "name": "stdout",
     "output_type": "stream",
     "text": [
      "                   all        643        670      0.561      0.618       0.67      0.402\n"
     ]
    },
    {
     "name": "stderr",
     "output_type": "stream",
     "text": [
      "\n"
     ]
    },
    {
     "name": "stdout",
     "output_type": "stream",
     "text": [
      "\n",
      "      Epoch    GPU_mem   box_loss   cls_loss   dfl_loss  Instances       Size\n"
     ]
    },
    {
     "name": "stderr",
     "output_type": "stream",
     "text": [
      "       8/50         0G       1.63      1.428      1.547          5        224: 100%|██████████| 567/567 [01:36<00:00,  5.86it/s]\n",
      "                 Class     Images  Instances      Box(P          R      mAP50  mAP50-95): 100%|██████████| 41/41 [00:04<00:00,  8.72it/s]\n"
     ]
    },
    {
     "name": "stdout",
     "output_type": "stream",
     "text": [
      "                   all        643        670      0.594      0.558      0.593      0.343\n",
      "\n",
      "      Epoch    GPU_mem   box_loss   cls_loss   dfl_loss  Instances       Size\n"
     ]
    },
    {
     "name": "stderr",
     "output_type": "stream",
     "text": [
      "       9/50         0G      1.625      1.413       1.54          9        224: 100%|██████████| 567/567 [01:37<00:00,  5.83it/s]\n",
      "                 Class     Images  Instances      Box(P          R      mAP50  mAP50-95): 100%|██████████| 41/41 [00:04<00:00,  8.34it/s]"
     ]
    },
    {
     "name": "stdout",
     "output_type": "stream",
     "text": [
      "                   all        643        670        0.6      0.599      0.659      0.412\n"
     ]
    },
    {
     "name": "stderr",
     "output_type": "stream",
     "text": [
      "\n"
     ]
    },
    {
     "name": "stdout",
     "output_type": "stream",
     "text": [
      "\n",
      "      Epoch    GPU_mem   box_loss   cls_loss   dfl_loss  Instances       Size\n"
     ]
    },
    {
     "name": "stderr",
     "output_type": "stream",
     "text": [
      "      10/50         0G      1.568      1.353      1.503         11        224: 100%|██████████| 567/567 [01:36<00:00,  5.85it/s]\n",
      "                 Class     Images  Instances      Box(P          R      mAP50  mAP50-95): 100%|██████████| 41/41 [00:04<00:00,  8.20it/s]"
     ]
    },
    {
     "name": "stdout",
     "output_type": "stream",
     "text": [
      "                   all        643        670      0.628      0.626       0.71      0.443\n"
     ]
    },
    {
     "name": "stderr",
     "output_type": "stream",
     "text": [
      "\n"
     ]
    },
    {
     "name": "stdout",
     "output_type": "stream",
     "text": [
      "\n",
      "      Epoch    GPU_mem   box_loss   cls_loss   dfl_loss  Instances       Size\n"
     ]
    },
    {
     "name": "stderr",
     "output_type": "stream",
     "text": [
      "      11/50         0G      1.549      1.321      1.477         18        224: 100%|██████████| 567/567 [01:36<00:00,  5.89it/s]\n",
      "                 Class     Images  Instances      Box(P          R      mAP50  mAP50-95): 100%|██████████| 41/41 [00:04<00:00,  8.62it/s]"
     ]
    },
    {
     "name": "stdout",
     "output_type": "stream",
     "text": [
      "                   all        643        670      0.674      0.612      0.729      0.471\n"
     ]
    },
    {
     "name": "stderr",
     "output_type": "stream",
     "text": [
      "\n"
     ]
    },
    {
     "name": "stdout",
     "output_type": "stream",
     "text": [
      "\n",
      "      Epoch    GPU_mem   box_loss   cls_loss   dfl_loss  Instances       Size\n"
     ]
    },
    {
     "name": "stderr",
     "output_type": "stream",
     "text": [
      "      12/50         0G      1.526      1.293      1.478          7        224: 100%|██████████| 567/567 [01:37<00:00,  5.83it/s]\n",
      "                 Class     Images  Instances      Box(P          R      mAP50  mAP50-95): 100%|██████████| 41/41 [00:04<00:00,  8.50it/s]"
     ]
    },
    {
     "name": "stdout",
     "output_type": "stream",
     "text": [
      "                   all        643        670      0.657      0.587      0.688       0.42\n"
     ]
    },
    {
     "name": "stderr",
     "output_type": "stream",
     "text": [
      "\n"
     ]
    },
    {
     "name": "stdout",
     "output_type": "stream",
     "text": [
      "\n",
      "      Epoch    GPU_mem   box_loss   cls_loss   dfl_loss  Instances       Size\n"
     ]
    },
    {
     "name": "stderr",
     "output_type": "stream",
     "text": [
      "      13/50         0G      1.483      1.244      1.437          9        224: 100%|██████████| 567/567 [01:36<00:00,  5.85it/s]\n",
      "                 Class     Images  Instances      Box(P          R      mAP50  mAP50-95): 100%|██████████| 41/41 [00:04<00:00,  8.36it/s]"
     ]
    },
    {
     "name": "stdout",
     "output_type": "stream",
     "text": [
      "                   all        643        670      0.691      0.596      0.726      0.472\n"
     ]
    },
    {
     "name": "stderr",
     "output_type": "stream",
     "text": [
      "\n"
     ]
    },
    {
     "name": "stdout",
     "output_type": "stream",
     "text": [
      "\n",
      "      Epoch    GPU_mem   box_loss   cls_loss   dfl_loss  Instances       Size\n"
     ]
    },
    {
     "name": "stderr",
     "output_type": "stream",
     "text": [
      "      14/50         0G      1.479      1.261      1.432          6        224: 100%|██████████| 567/567 [01:36<00:00,  5.85it/s]\n",
      "                 Class     Images  Instances      Box(P          R      mAP50  mAP50-95): 100%|██████████| 41/41 [00:04<00:00,  8.41it/s]"
     ]
    },
    {
     "name": "stdout",
     "output_type": "stream",
     "text": [
      "                   all        643        670      0.649      0.606      0.724      0.481\n"
     ]
    },
    {
     "name": "stderr",
     "output_type": "stream",
     "text": [
      "\n"
     ]
    },
    {
     "name": "stdout",
     "output_type": "stream",
     "text": [
      "\n",
      "      Epoch    GPU_mem   box_loss   cls_loss   dfl_loss  Instances       Size\n"
     ]
    },
    {
     "name": "stderr",
     "output_type": "stream",
     "text": [
      "      15/50         0G      1.455      1.218      1.418          8        224: 100%|██████████| 567/567 [01:36<00:00,  5.89it/s]\n",
      "                 Class     Images  Instances      Box(P          R      mAP50  mAP50-95): 100%|██████████| 41/41 [00:04<00:00,  8.70it/s]"
     ]
    },
    {
     "name": "stdout",
     "output_type": "stream",
     "text": [
      "                   all        643        670      0.625      0.645      0.724      0.475\n"
     ]
    },
    {
     "name": "stderr",
     "output_type": "stream",
     "text": [
      "\n"
     ]
    },
    {
     "name": "stdout",
     "output_type": "stream",
     "text": [
      "\n",
      "      Epoch    GPU_mem   box_loss   cls_loss   dfl_loss  Instances       Size\n"
     ]
    },
    {
     "name": "stderr",
     "output_type": "stream",
     "text": [
      "      16/50         0G       1.45      1.228      1.421          8        224: 100%|██████████| 567/567 [01:36<00:00,  5.86it/s]\n",
      "                 Class     Images  Instances      Box(P          R      mAP50  mAP50-95): 100%|██████████| 41/41 [00:04<00:00,  8.42it/s]"
     ]
    },
    {
     "name": "stdout",
     "output_type": "stream",
     "text": [
      "                   all        643        670      0.699      0.614      0.734      0.488\n"
     ]
    },
    {
     "name": "stderr",
     "output_type": "stream",
     "text": [
      "\n"
     ]
    },
    {
     "name": "stdout",
     "output_type": "stream",
     "text": [
      "\n",
      "      Epoch    GPU_mem   box_loss   cls_loss   dfl_loss  Instances       Size\n"
     ]
    },
    {
     "name": "stderr",
     "output_type": "stream",
     "text": [
      "      17/50         0G      1.448      1.233       1.41          8        224: 100%|██████████| 567/567 [01:36<00:00,  5.87it/s]\n",
      "                 Class     Images  Instances      Box(P          R      mAP50  mAP50-95): 100%|██████████| 41/41 [00:04<00:00,  8.56it/s]"
     ]
    },
    {
     "name": "stdout",
     "output_type": "stream",
     "text": [
      "                   all        643        670      0.691      0.621      0.736      0.485\n"
     ]
    },
    {
     "name": "stderr",
     "output_type": "stream",
     "text": [
      "\n"
     ]
    },
    {
     "name": "stdout",
     "output_type": "stream",
     "text": [
      "\n",
      "      Epoch    GPU_mem   box_loss   cls_loss   dfl_loss  Instances       Size\n"
     ]
    },
    {
     "name": "stderr",
     "output_type": "stream",
     "text": [
      "      18/50         0G      1.423      1.197      1.396          4        224: 100%|██████████| 567/567 [01:39<00:00,  5.69it/s]\n",
      "                 Class     Images  Instances      Box(P          R      mAP50  mAP50-95): 100%|██████████| 41/41 [00:04<00:00,  8.38it/s]"
     ]
    },
    {
     "name": "stdout",
     "output_type": "stream",
     "text": [
      "                   all        643        670      0.712      0.584       0.74      0.498\n"
     ]
    },
    {
     "name": "stderr",
     "output_type": "stream",
     "text": [
      "\n"
     ]
    },
    {
     "name": "stdout",
     "output_type": "stream",
     "text": [
      "\n",
      "      Epoch    GPU_mem   box_loss   cls_loss   dfl_loss  Instances       Size\n"
     ]
    },
    {
     "name": "stderr",
     "output_type": "stream",
     "text": [
      "      19/50         0G      1.393      1.168      1.379          8        224: 100%|██████████| 567/567 [01:36<00:00,  5.85it/s]\n",
      "                 Class     Images  Instances      Box(P          R      mAP50  mAP50-95): 100%|██████████| 41/41 [00:04<00:00,  8.50it/s]"
     ]
    },
    {
     "name": "stdout",
     "output_type": "stream",
     "text": [
      "                   all        643        670      0.664       0.62      0.735      0.493\n"
     ]
    },
    {
     "name": "stderr",
     "output_type": "stream",
     "text": [
      "\n"
     ]
    },
    {
     "name": "stdout",
     "output_type": "stream",
     "text": [
      "\n",
      "      Epoch    GPU_mem   box_loss   cls_loss   dfl_loss  Instances       Size\n"
     ]
    },
    {
     "name": "stderr",
     "output_type": "stream",
     "text": [
      "      20/50         0G      1.372      1.157      1.374         12        224: 100%|██████████| 567/567 [01:36<00:00,  5.89it/s]\n",
      "                 Class     Images  Instances      Box(P          R      mAP50  mAP50-95): 100%|██████████| 41/41 [00:04<00:00,  8.45it/s]"
     ]
    },
    {
     "name": "stdout",
     "output_type": "stream",
     "text": [
      "                   all        643        670      0.746      0.573      0.749      0.502\n"
     ]
    },
    {
     "name": "stderr",
     "output_type": "stream",
     "text": [
      "\n"
     ]
    },
    {
     "name": "stdout",
     "output_type": "stream",
     "text": [
      "\n",
      "      Epoch    GPU_mem   box_loss   cls_loss   dfl_loss  Instances       Size\n"
     ]
    },
    {
     "name": "stderr",
     "output_type": "stream",
     "text": [
      "      21/50         0G      1.394       1.17      1.383          9        224: 100%|██████████| 567/567 [01:36<00:00,  5.90it/s]\n",
      "                 Class     Images  Instances      Box(P          R      mAP50  mAP50-95): 100%|██████████| 41/41 [00:04<00:00,  8.41it/s]"
     ]
    },
    {
     "name": "stdout",
     "output_type": "stream",
     "text": [
      "                   all        643        670      0.675      0.628      0.759      0.531\n"
     ]
    },
    {
     "name": "stderr",
     "output_type": "stream",
     "text": [
      "\n"
     ]
    },
    {
     "name": "stdout",
     "output_type": "stream",
     "text": [
      "\n",
      "      Epoch    GPU_mem   box_loss   cls_loss   dfl_loss  Instances       Size\n"
     ]
    },
    {
     "name": "stderr",
     "output_type": "stream",
     "text": [
      "      22/50         0G      1.361      1.136      1.354          9        224: 100%|██████████| 567/567 [01:36<00:00,  5.90it/s]\n",
      "                 Class     Images  Instances      Box(P          R      mAP50  mAP50-95): 100%|██████████| 41/41 [00:04<00:00,  8.72it/s]"
     ]
    },
    {
     "name": "stdout",
     "output_type": "stream",
     "text": [
      "                   all        643        670      0.691      0.604      0.748      0.497\n"
     ]
    },
    {
     "name": "stderr",
     "output_type": "stream",
     "text": [
      "\n"
     ]
    },
    {
     "name": "stdout",
     "output_type": "stream",
     "text": [
      "\n",
      "      Epoch    GPU_mem   box_loss   cls_loss   dfl_loss  Instances       Size\n"
     ]
    },
    {
     "name": "stderr",
     "output_type": "stream",
     "text": [
      "      23/50         0G       1.35      1.122      1.354          5        224: 100%|██████████| 567/567 [01:35<00:00,  5.91it/s]\n",
      "                 Class     Images  Instances      Box(P          R      mAP50  mAP50-95): 100%|██████████| 41/41 [00:04<00:00,  8.68it/s]"
     ]
    },
    {
     "name": "stdout",
     "output_type": "stream",
     "text": [
      "                   all        643        670      0.736      0.607      0.775      0.544\n"
     ]
    },
    {
     "name": "stderr",
     "output_type": "stream",
     "text": [
      "\n"
     ]
    },
    {
     "name": "stdout",
     "output_type": "stream",
     "text": [
      "\n",
      "      Epoch    GPU_mem   box_loss   cls_loss   dfl_loss  Instances       Size\n"
     ]
    },
    {
     "name": "stderr",
     "output_type": "stream",
     "text": [
      "      24/50         0G      1.341      1.121      1.358          8        224: 100%|██████████| 567/567 [02:17<00:00,  4.13it/s]\n",
      "                 Class     Images  Instances      Box(P          R      mAP50  mAP50-95): 100%|██████████| 41/41 [00:09<00:00,  4.38it/s]"
     ]
    },
    {
     "name": "stdout",
     "output_type": "stream",
     "text": [
      "                   all        643        670       0.74       0.59      0.764      0.527\n"
     ]
    },
    {
     "name": "stderr",
     "output_type": "stream",
     "text": [
      "\n"
     ]
    },
    {
     "name": "stdout",
     "output_type": "stream",
     "text": [
      "\n",
      "      Epoch    GPU_mem   box_loss   cls_loss   dfl_loss  Instances       Size\n"
     ]
    },
    {
     "name": "stderr",
     "output_type": "stream",
     "text": [
      "      25/50         0G       1.33      1.122      1.349         19        224: 100%|██████████| 567/567 [01:52<00:00,  5.03it/s]\n",
      "                 Class     Images  Instances      Box(P          R      mAP50  mAP50-95): 100%|██████████| 41/41 [00:04<00:00,  8.35it/s]"
     ]
    },
    {
     "name": "stdout",
     "output_type": "stream",
     "text": [
      "                   all        643        670      0.718      0.625       0.76      0.536\n"
     ]
    },
    {
     "name": "stderr",
     "output_type": "stream",
     "text": [
      "\n"
     ]
    },
    {
     "name": "stdout",
     "output_type": "stream",
     "text": [
      "\n",
      "      Epoch    GPU_mem   box_loss   cls_loss   dfl_loss  Instances       Size\n"
     ]
    },
    {
     "name": "stderr",
     "output_type": "stream",
     "text": [
      "      26/50         0G      1.328      1.097      1.351         10        224: 100%|██████████| 567/567 [01:36<00:00,  5.88it/s]\n",
      "                 Class     Images  Instances      Box(P          R      mAP50  mAP50-95): 100%|██████████| 41/41 [00:04<00:00,  8.41it/s]"
     ]
    },
    {
     "name": "stdout",
     "output_type": "stream",
     "text": [
      "                   all        643        670       0.74      0.619      0.769      0.542\n"
     ]
    },
    {
     "name": "stderr",
     "output_type": "stream",
     "text": [
      "\n"
     ]
    },
    {
     "name": "stdout",
     "output_type": "stream",
     "text": [
      "\n",
      "      Epoch    GPU_mem   box_loss   cls_loss   dfl_loss  Instances       Size\n"
     ]
    },
    {
     "name": "stderr",
     "output_type": "stream",
     "text": [
      "      27/50         0G      1.339      1.101      1.346         18        224: 100%|██████████| 567/567 [01:39<00:00,  5.73it/s]\n",
      "                 Class     Images  Instances      Box(P          R      mAP50  mAP50-95): 100%|██████████| 41/41 [00:04<00:00,  8.39it/s]"
     ]
    },
    {
     "name": "stdout",
     "output_type": "stream",
     "text": [
      "                   all        643        670      0.724      0.625      0.768      0.548\n"
     ]
    },
    {
     "name": "stderr",
     "output_type": "stream",
     "text": [
      "\n"
     ]
    },
    {
     "name": "stdout",
     "output_type": "stream",
     "text": [
      "\n",
      "      Epoch    GPU_mem   box_loss   cls_loss   dfl_loss  Instances       Size\n"
     ]
    },
    {
     "name": "stderr",
     "output_type": "stream",
     "text": [
      "      28/50         0G      1.326       1.09      1.339         11        224: 100%|██████████| 567/567 [01:39<00:00,  5.73it/s]\n",
      "                 Class     Images  Instances      Box(P          R      mAP50  mAP50-95): 100%|██████████| 41/41 [00:05<00:00,  7.72it/s]"
     ]
    },
    {
     "name": "stdout",
     "output_type": "stream",
     "text": [
      "                   all        643        670      0.698      0.621      0.769      0.539\n"
     ]
    },
    {
     "name": "stderr",
     "output_type": "stream",
     "text": [
      "\n"
     ]
    },
    {
     "name": "stdout",
     "output_type": "stream",
     "text": [
      "\n",
      "      Epoch    GPU_mem   box_loss   cls_loss   dfl_loss  Instances       Size\n"
     ]
    },
    {
     "name": "stderr",
     "output_type": "stream",
     "text": [
      "      29/50         0G      1.297      1.089      1.322         16        224: 100%|██████████| 567/567 [01:38<00:00,  5.73it/s]\n",
      "                 Class     Images  Instances      Box(P          R      mAP50  mAP50-95): 100%|██████████| 41/41 [00:04<00:00,  8.28it/s]"
     ]
    },
    {
     "name": "stdout",
     "output_type": "stream",
     "text": [
      "                   all        643        670      0.695      0.637      0.776      0.548\n"
     ]
    },
    {
     "name": "stderr",
     "output_type": "stream",
     "text": [
      "\n"
     ]
    },
    {
     "name": "stdout",
     "output_type": "stream",
     "text": [
      "\n",
      "      Epoch    GPU_mem   box_loss   cls_loss   dfl_loss  Instances       Size\n"
     ]
    },
    {
     "name": "stderr",
     "output_type": "stream",
     "text": [
      "      30/50         0G      1.306      1.076      1.327          8        224: 100%|██████████| 567/567 [01:37<00:00,  5.84it/s]\n",
      "                 Class     Images  Instances      Box(P          R      mAP50  mAP50-95): 100%|██████████| 41/41 [00:04<00:00,  8.43it/s]"
     ]
    },
    {
     "name": "stdout",
     "output_type": "stream",
     "text": [
      "                   all        643        670      0.745      0.606      0.773      0.547\n"
     ]
    },
    {
     "name": "stderr",
     "output_type": "stream",
     "text": [
      "\n"
     ]
    },
    {
     "name": "stdout",
     "output_type": "stream",
     "text": [
      "\n",
      "      Epoch    GPU_mem   box_loss   cls_loss   dfl_loss  Instances       Size\n"
     ]
    },
    {
     "name": "stderr",
     "output_type": "stream",
     "text": [
      "      31/50         0G      1.293      1.074      1.316          9        224: 100%|██████████| 567/567 [01:36<00:00,  5.86it/s]\n",
      "                 Class     Images  Instances      Box(P          R      mAP50  mAP50-95): 100%|██████████| 41/41 [00:04<00:00,  8.52it/s]"
     ]
    },
    {
     "name": "stdout",
     "output_type": "stream",
     "text": [
      "                   all        643        670      0.713      0.631      0.785      0.565\n"
     ]
    },
    {
     "name": "stderr",
     "output_type": "stream",
     "text": [
      "\n"
     ]
    },
    {
     "name": "stdout",
     "output_type": "stream",
     "text": [
      "\n",
      "      Epoch    GPU_mem   box_loss   cls_loss   dfl_loss  Instances       Size\n"
     ]
    },
    {
     "name": "stderr",
     "output_type": "stream",
     "text": [
      "      32/50         0G      1.275      1.056      1.304         13        224: 100%|██████████| 567/567 [01:36<00:00,  5.87it/s]\n",
      "                 Class     Images  Instances      Box(P          R      mAP50  mAP50-95): 100%|██████████| 41/41 [00:04<00:00,  8.68it/s]"
     ]
    },
    {
     "name": "stdout",
     "output_type": "stream",
     "text": [
      "                   all        643        670      0.688      0.649      0.777       0.55\n"
     ]
    },
    {
     "name": "stderr",
     "output_type": "stream",
     "text": [
      "\n"
     ]
    },
    {
     "name": "stdout",
     "output_type": "stream",
     "text": [
      "\n",
      "      Epoch    GPU_mem   box_loss   cls_loss   dfl_loss  Instances       Size\n"
     ]
    },
    {
     "name": "stderr",
     "output_type": "stream",
     "text": [
      "      33/50         0G      1.273      1.056      1.309         13        224: 100%|██████████| 567/567 [01:38<00:00,  5.74it/s]\n",
      "                 Class     Images  Instances      Box(P          R      mAP50  mAP50-95): 100%|██████████| 41/41 [00:04<00:00,  8.73it/s]"
     ]
    },
    {
     "name": "stdout",
     "output_type": "stream",
     "text": [
      "                   all        643        670      0.753      0.603      0.783      0.553\n"
     ]
    },
    {
     "name": "stderr",
     "output_type": "stream",
     "text": [
      "\n"
     ]
    },
    {
     "name": "stdout",
     "output_type": "stream",
     "text": [
      "\n",
      "      Epoch    GPU_mem   box_loss   cls_loss   dfl_loss  Instances       Size\n"
     ]
    },
    {
     "name": "stderr",
     "output_type": "stream",
     "text": [
      "      34/50         0G      1.262      1.046      1.308          8        224: 100%|██████████| 567/567 [01:37<00:00,  5.83it/s]\n",
      "                 Class     Images  Instances      Box(P          R      mAP50  mAP50-95): 100%|██████████| 41/41 [00:04<00:00,  8.37it/s]"
     ]
    },
    {
     "name": "stdout",
     "output_type": "stream",
     "text": [
      "                   all        643        670      0.671      0.678      0.784      0.565\n"
     ]
    },
    {
     "name": "stderr",
     "output_type": "stream",
     "text": [
      "\n"
     ]
    },
    {
     "name": "stdout",
     "output_type": "stream",
     "text": [
      "\n",
      "      Epoch    GPU_mem   box_loss   cls_loss   dfl_loss  Instances       Size\n"
     ]
    },
    {
     "name": "stderr",
     "output_type": "stream",
     "text": [
      "      35/50         0G      1.247      1.043      1.297          5        224: 100%|██████████| 567/567 [01:36<00:00,  5.87it/s]\n",
      "                 Class     Images  Instances      Box(P          R      mAP50  mAP50-95): 100%|██████████| 41/41 [00:05<00:00,  8.17it/s]"
     ]
    },
    {
     "name": "stdout",
     "output_type": "stream",
     "text": [
      "                   all        643        670      0.692      0.658      0.787      0.566\n"
     ]
    },
    {
     "name": "stderr",
     "output_type": "stream",
     "text": [
      "\n"
     ]
    },
    {
     "name": "stdout",
     "output_type": "stream",
     "text": [
      "\n",
      "      Epoch    GPU_mem   box_loss   cls_loss   dfl_loss  Instances       Size\n"
     ]
    },
    {
     "name": "stderr",
     "output_type": "stream",
     "text": [
      "      36/50         0G       1.25      1.046      1.295          6        224: 100%|██████████| 567/567 [01:36<00:00,  5.85it/s]\n",
      "                 Class     Images  Instances      Box(P          R      mAP50  mAP50-95): 100%|██████████| 41/41 [00:04<00:00,  8.55it/s]"
     ]
    },
    {
     "name": "stdout",
     "output_type": "stream",
     "text": [
      "                   all        643        670      0.744      0.622      0.777      0.555\n"
     ]
    },
    {
     "name": "stderr",
     "output_type": "stream",
     "text": [
      "\n"
     ]
    },
    {
     "name": "stdout",
     "output_type": "stream",
     "text": [
      "\n",
      "      Epoch    GPU_mem   box_loss   cls_loss   dfl_loss  Instances       Size\n"
     ]
    },
    {
     "name": "stderr",
     "output_type": "stream",
     "text": [
      "      37/50         0G      1.229      1.026      1.285         12        224: 100%|██████████| 567/567 [01:36<00:00,  5.87it/s]\n",
      "                 Class     Images  Instances      Box(P          R      mAP50  mAP50-95): 100%|██████████| 41/41 [00:04<00:00,  8.58it/s]"
     ]
    },
    {
     "name": "stdout",
     "output_type": "stream",
     "text": [
      "                   all        643        670      0.771      0.596      0.783      0.573\n"
     ]
    },
    {
     "name": "stderr",
     "output_type": "stream",
     "text": [
      "\n"
     ]
    },
    {
     "name": "stdout",
     "output_type": "stream",
     "text": [
      "\n",
      "      Epoch    GPU_mem   box_loss   cls_loss   dfl_loss  Instances       Size\n"
     ]
    },
    {
     "name": "stderr",
     "output_type": "stream",
     "text": [
      "      38/50         0G      1.234      1.036      1.293         11        224: 100%|██████████| 567/567 [01:36<00:00,  5.86it/s]\n",
      "                 Class     Images  Instances      Box(P          R      mAP50  mAP50-95): 100%|██████████| 41/41 [00:05<00:00,  8.11it/s]"
     ]
    },
    {
     "name": "stdout",
     "output_type": "stream",
     "text": [
      "                   all        643        670      0.701      0.661       0.79      0.577\n"
     ]
    },
    {
     "name": "stderr",
     "output_type": "stream",
     "text": [
      "\n"
     ]
    },
    {
     "name": "stdout",
     "output_type": "stream",
     "text": [
      "\n",
      "      Epoch    GPU_mem   box_loss   cls_loss   dfl_loss  Instances       Size\n"
     ]
    },
    {
     "name": "stderr",
     "output_type": "stream",
     "text": [
      "      39/50         0G      1.229      1.017      1.271          7        224: 100%|██████████| 567/567 [01:36<00:00,  5.86it/s]\n",
      "                 Class     Images  Instances      Box(P          R      mAP50  mAP50-95): 100%|██████████| 41/41 [00:04<00:00,  8.63it/s]"
     ]
    },
    {
     "name": "stdout",
     "output_type": "stream",
     "text": [
      "                   all        643        670      0.693      0.647      0.782       0.57\n"
     ]
    },
    {
     "name": "stderr",
     "output_type": "stream",
     "text": [
      "\n"
     ]
    },
    {
     "name": "stdout",
     "output_type": "stream",
     "text": [
      "\n",
      "      Epoch    GPU_mem   box_loss   cls_loss   dfl_loss  Instances       Size\n"
     ]
    },
    {
     "name": "stderr",
     "output_type": "stream",
     "text": [
      "      40/50         0G      1.229      1.035      1.287          9        224: 100%|██████████| 567/567 [01:39<00:00,  5.71it/s]\n",
      "                 Class     Images  Instances      Box(P          R      mAP50  mAP50-95): 100%|██████████| 41/41 [00:05<00:00,  8.16it/s]"
     ]
    },
    {
     "name": "stdout",
     "output_type": "stream",
     "text": [
      "                   all        643        670      0.712      0.636      0.778      0.566\n"
     ]
    },
    {
     "name": "stderr",
     "output_type": "stream",
     "text": [
      "\n"
     ]
    },
    {
     "name": "stdout",
     "output_type": "stream",
     "text": [
      "Closing dataloader mosaic\n",
      "\u001b[34m\u001b[1malbumentations: \u001b[0mBlur(p=0.01, blur_limit=(3, 7)), MedianBlur(p=0.01, blur_limit=(3, 7)), ToGray(p=0.01, num_output_channels=3, method='weighted_average'), CLAHE(p=0.01, clip_limit=(1.0, 4.0), tile_grid_size=(8, 8))\n",
      "\n",
      "      Epoch    GPU_mem   box_loss   cls_loss   dfl_loss  Instances       Size\n"
     ]
    },
    {
     "name": "stderr",
     "output_type": "stream",
     "text": [
      "      41/50         0G       1.06     0.8668      1.241          5        224: 100%|██████████| 567/567 [01:38<00:00,  5.75it/s]\n",
      "                 Class     Images  Instances      Box(P          R      mAP50  mAP50-95): 100%|██████████| 41/41 [00:05<00:00,  7.79it/s]"
     ]
    },
    {
     "name": "stdout",
     "output_type": "stream",
     "text": [
      "                   all        643        670      0.698      0.638      0.786      0.573\n"
     ]
    },
    {
     "name": "stderr",
     "output_type": "stream",
     "text": [
      "\n"
     ]
    },
    {
     "name": "stdout",
     "output_type": "stream",
     "text": [
      "\n",
      "      Epoch    GPU_mem   box_loss   cls_loss   dfl_loss  Instances       Size\n"
     ]
    },
    {
     "name": "stderr",
     "output_type": "stream",
     "text": [
      "      42/50         0G      1.042     0.8431      1.223          5        224: 100%|██████████| 567/567 [01:37<00:00,  5.83it/s]\n",
      "                 Class     Images  Instances      Box(P          R      mAP50  mAP50-95): 100%|██████████| 41/41 [00:04<00:00,  8.33it/s]"
     ]
    },
    {
     "name": "stdout",
     "output_type": "stream",
     "text": [
      "                   all        643        670      0.713      0.636       0.79      0.585\n"
     ]
    },
    {
     "name": "stderr",
     "output_type": "stream",
     "text": [
      "\n"
     ]
    },
    {
     "name": "stdout",
     "output_type": "stream",
     "text": [
      "\n",
      "      Epoch    GPU_mem   box_loss   cls_loss   dfl_loss  Instances       Size\n"
     ]
    },
    {
     "name": "stderr",
     "output_type": "stream",
     "text": [
      "      43/50         0G       1.03     0.8392      1.217          9        224: 100%|██████████| 567/567 [01:37<00:00,  5.84it/s]\n",
      "                 Class     Images  Instances      Box(P          R      mAP50  mAP50-95): 100%|██████████| 41/41 [00:04<00:00,  8.22it/s]"
     ]
    },
    {
     "name": "stdout",
     "output_type": "stream",
     "text": [
      "                   all        643        670      0.676      0.675      0.794      0.583\n"
     ]
    },
    {
     "name": "stderr",
     "output_type": "stream",
     "text": [
      "\n"
     ]
    },
    {
     "name": "stdout",
     "output_type": "stream",
     "text": [
      "\n",
      "      Epoch    GPU_mem   box_loss   cls_loss   dfl_loss  Instances       Size\n"
     ]
    },
    {
     "name": "stderr",
     "output_type": "stream",
     "text": [
      "      44/50         0G      1.028     0.8324      1.207          5        224: 100%|██████████| 567/567 [01:36<00:00,  5.85it/s]\n",
      "                 Class     Images  Instances      Box(P          R      mAP50  mAP50-95): 100%|██████████| 41/41 [00:04<00:00,  8.50it/s]"
     ]
    },
    {
     "name": "stdout",
     "output_type": "stream",
     "text": [
      "                   all        643        670      0.663      0.673      0.794      0.585\n"
     ]
    },
    {
     "name": "stderr",
     "output_type": "stream",
     "text": [
      "\n"
     ]
    },
    {
     "name": "stdout",
     "output_type": "stream",
     "text": [
      "\n",
      "      Epoch    GPU_mem   box_loss   cls_loss   dfl_loss  Instances       Size\n"
     ]
    },
    {
     "name": "stderr",
     "output_type": "stream",
     "text": [
      "      45/50         0G      1.008     0.8276        1.2          5        224: 100%|██████████| 567/567 [01:35<00:00,  5.95it/s]\n",
      "                 Class     Images  Instances      Box(P          R      mAP50  mAP50-95): 100%|██████████| 41/41 [00:04<00:00,  8.75it/s]"
     ]
    },
    {
     "name": "stdout",
     "output_type": "stream",
     "text": [
      "                   all        643        670      0.713      0.639      0.795      0.595\n"
     ]
    },
    {
     "name": "stderr",
     "output_type": "stream",
     "text": [
      "\n"
     ]
    },
    {
     "name": "stdout",
     "output_type": "stream",
     "text": [
      "\n",
      "      Epoch    GPU_mem   box_loss   cls_loss   dfl_loss  Instances       Size\n"
     ]
    },
    {
     "name": "stderr",
     "output_type": "stream",
     "text": [
      "      46/50         0G      1.002     0.8176      1.195          9        224: 100%|██████████| 567/567 [01:34<00:00,  6.02it/s]\n",
      "                 Class     Images  Instances      Box(P          R      mAP50  mAP50-95): 100%|██████████| 41/41 [00:04<00:00,  8.56it/s]"
     ]
    },
    {
     "name": "stdout",
     "output_type": "stream",
     "text": [
      "                   all        643        670      0.674      0.682      0.796      0.595\n"
     ]
    },
    {
     "name": "stderr",
     "output_type": "stream",
     "text": [
      "\n"
     ]
    },
    {
     "name": "stdout",
     "output_type": "stream",
     "text": [
      "\n",
      "      Epoch    GPU_mem   box_loss   cls_loss   dfl_loss  Instances       Size\n"
     ]
    },
    {
     "name": "stderr",
     "output_type": "stream",
     "text": [
      "      47/50         0G      1.003     0.8213      1.196          6        224: 100%|██████████| 567/567 [01:35<00:00,  5.94it/s]\n",
      "                 Class     Images  Instances      Box(P          R      mAP50  mAP50-95): 100%|██████████| 41/41 [00:04<00:00,  8.67it/s]"
     ]
    },
    {
     "name": "stdout",
     "output_type": "stream",
     "text": [
      "                   all        643        670      0.697       0.66      0.796      0.604\n"
     ]
    },
    {
     "name": "stderr",
     "output_type": "stream",
     "text": [
      "\n"
     ]
    },
    {
     "name": "stdout",
     "output_type": "stream",
     "text": [
      "\n",
      "      Epoch    GPU_mem   box_loss   cls_loss   dfl_loss  Instances       Size\n"
     ]
    },
    {
     "name": "stderr",
     "output_type": "stream",
     "text": [
      "      48/50         0G     0.9923     0.8165      1.189          6        224: 100%|██████████| 567/567 [01:36<00:00,  5.89it/s]\n",
      "                 Class     Images  Instances      Box(P          R      mAP50  mAP50-95): 100%|██████████| 41/41 [00:04<00:00,  8.32it/s]"
     ]
    },
    {
     "name": "stdout",
     "output_type": "stream",
     "text": [
      "                   all        643        670      0.689      0.665      0.796      0.601\n"
     ]
    },
    {
     "name": "stderr",
     "output_type": "stream",
     "text": [
      "\n"
     ]
    },
    {
     "name": "stdout",
     "output_type": "stream",
     "text": [
      "\n",
      "      Epoch    GPU_mem   box_loss   cls_loss   dfl_loss  Instances       Size\n"
     ]
    },
    {
     "name": "stderr",
     "output_type": "stream",
     "text": [
      "      49/50         0G     0.9772     0.8116      1.176          5        224: 100%|██████████| 567/567 [01:34<00:00,  6.00it/s]\n",
      "                 Class     Images  Instances      Box(P          R      mAP50  mAP50-95): 100%|██████████| 41/41 [00:04<00:00,  8.62it/s]"
     ]
    },
    {
     "name": "stdout",
     "output_type": "stream",
     "text": [
      "                   all        643        670      0.666      0.682      0.797      0.605\n"
     ]
    },
    {
     "name": "stderr",
     "output_type": "stream",
     "text": [
      "\n"
     ]
    },
    {
     "name": "stdout",
     "output_type": "stream",
     "text": [
      "\n",
      "      Epoch    GPU_mem   box_loss   cls_loss   dfl_loss  Instances       Size\n"
     ]
    },
    {
     "name": "stderr",
     "output_type": "stream",
     "text": [
      "      50/50         0G     0.9776     0.8047      1.173          7        224: 100%|██████████| 567/567 [01:33<00:00,  6.04it/s]\n",
      "                 Class     Images  Instances      Box(P          R      mAP50  mAP50-95): 100%|██████████| 41/41 [00:04<00:00,  8.33it/s]"
     ]
    },
    {
     "name": "stdout",
     "output_type": "stream",
     "text": [
      "                   all        643        670      0.751      0.607      0.798      0.605\n"
     ]
    },
    {
     "name": "stderr",
     "output_type": "stream",
     "text": [
      "\n"
     ]
    },
    {
     "name": "stdout",
     "output_type": "stream",
     "text": [
      "\n",
      "50 epochs completed in 1.441 hours.\n",
      "Optimizer stripped from runs\\detect\\face_detection5\\weights\\last.pt, 6.2MB\n",
      "Optimizer stripped from runs\\detect\\face_detection5\\weights\\best.pt, 6.2MB\n",
      "\n",
      "Validating runs\\detect\\face_detection5\\weights\\best.pt...\n",
      "Ultralytics 8.3.78  Python-3.10.0 torch-2.6.0+cpu CPU (Intel Core(TM) i7-14700HX)\n",
      "YOLOv8n summary (fused): 72 layers, 3,005,843 parameters, 0 gradients, 8.1 GFLOPs\n"
     ]
    },
    {
     "name": "stderr",
     "output_type": "stream",
     "text": [
      "                 Class     Images  Instances      Box(P          R      mAP50  mAP50-95): 100%|██████████| 41/41 [00:04<00:00,  9.44it/s]\n"
     ]
    },
    {
     "name": "stdout",
     "output_type": "stream",
     "text": [
      "                   all        643        670       0.75      0.607      0.798      0.605\n",
      "Speed: 0.1ms preprocess, 5.1ms inference, 0.0ms loss, 0.2ms postprocess per image\n",
      "Results saved to \u001b[1mruns\\detect\\face_detection5\u001b[0m\n"
     ]
    }
   ],
   "source": [
    "from ultralytics import YOLO\n",
    "\n",
    "model = YOLO('yolov8n.yaml')\n",
    "results = model.train(\n",
    "    data='data.yaml',\n",
    "    epochs=50,\n",
    "    imgsz=224,\n",
    "    batch=8,\n",
    "    name='face_detection'\n",
    ")"
   ]
  },
  {
   "cell_type": "code",
   "execution_count": null,
   "metadata": {},
   "outputs": [
    {
     "name": "stdout",
     "output_type": "stream",
     "text": [
      "Ultralytics 8.3.78  Python-3.10.0 torch-2.6.0+cpu CPU (Intel Core(TM) i7-14700HX)\n",
      "YOLOv8n summary (fused): 72 layers, 3,005,843 parameters, 0 gradients, 8.1 GFLOPs\n"
     ]
    },
    {
     "name": "stderr",
     "output_type": "stream",
     "text": [
      "\u001b[34m\u001b[1mval: \u001b[0mScanning C:\\Users\\suraa\\OneDrive\\Documents\\Final Project\\data\\labels\\val.cache... 643 images, 0 backgrounds, 0 corrupt: 100%|██████████| 643/643 [00:00<?, ?it/s]\n",
      "                 Class     Images  Instances      Box(P          R      mAP50  mAP50-95): 100%|██████████| 41/41 [00:04<00:00,  8.90it/s]\n"
     ]
    },
    {
     "name": "stdout",
     "output_type": "stream",
     "text": [
      "                   all        643        670       0.75      0.607      0.798      0.605\n",
      "Speed: 0.1ms preprocess, 5.6ms inference, 0.0ms loss, 0.2ms postprocess per image\n",
      "Results saved to \u001b[1mruns\\detect\\val3\u001b[0m\n",
      "ultralytics.utils.metrics.DetMetrics object with attributes:\n",
      "\n",
      "ap_class_index: array([0])\n",
      "box: ultralytics.utils.metrics.Metric object\n",
      "confusion_matrix: <ultralytics.utils.metrics.ConfusionMatrix object at 0x0000020563D1BF70>\n",
      "curves: ['Precision-Recall(B)', 'F1-Confidence(B)', 'Precision-Confidence(B)', 'Recall-Confidence(B)']\n",
      "curves_results: [[array([          0,    0.001001,    0.002002,    0.003003,    0.004004,    0.005005,    0.006006,    0.007007,    0.008008,    0.009009,     0.01001,    0.011011,    0.012012,    0.013013,    0.014014,    0.015015,    0.016016,    0.017017,    0.018018,    0.019019,     0.02002,    0.021021,    0.022022,    0.023023,\n",
      "          0.024024,    0.025025,    0.026026,    0.027027,    0.028028,    0.029029,     0.03003,    0.031031,    0.032032,    0.033033,    0.034034,    0.035035,    0.036036,    0.037037,    0.038038,    0.039039,     0.04004,    0.041041,    0.042042,    0.043043,    0.044044,    0.045045,    0.046046,    0.047047,\n",
      "          0.048048,    0.049049,     0.05005,    0.051051,    0.052052,    0.053053,    0.054054,    0.055055,    0.056056,    0.057057,    0.058058,    0.059059,     0.06006,    0.061061,    0.062062,    0.063063,    0.064064,    0.065065,    0.066066,    0.067067,    0.068068,    0.069069,     0.07007,    0.071071,\n",
      "          0.072072,    0.073073,    0.074074,    0.075075,    0.076076,    0.077077,    0.078078,    0.079079,     0.08008,    0.081081,    0.082082,    0.083083,    0.084084,    0.085085,    0.086086,    0.087087,    0.088088,    0.089089,     0.09009,    0.091091,    0.092092,    0.093093,    0.094094,    0.095095,\n",
      "          0.096096,    0.097097,    0.098098,    0.099099,      0.1001,      0.1011,      0.1021,      0.1031,      0.1041,     0.10511,     0.10611,     0.10711,     0.10811,     0.10911,     0.11011,     0.11111,     0.11211,     0.11311,     0.11411,     0.11512,     0.11612,     0.11712,     0.11812,     0.11912,\n",
      "           0.12012,     0.12112,     0.12212,     0.12312,     0.12412,     0.12513,     0.12613,     0.12713,     0.12813,     0.12913,     0.13013,     0.13113,     0.13213,     0.13313,     0.13413,     0.13514,     0.13614,     0.13714,     0.13814,     0.13914,     0.14014,     0.14114,     0.14214,     0.14314,\n",
      "           0.14414,     0.14515,     0.14615,     0.14715,     0.14815,     0.14915,     0.15015,     0.15115,     0.15215,     0.15315,     0.15415,     0.15516,     0.15616,     0.15716,     0.15816,     0.15916,     0.16016,     0.16116,     0.16216,     0.16316,     0.16416,     0.16517,     0.16617,     0.16717,\n",
      "           0.16817,     0.16917,     0.17017,     0.17117,     0.17217,     0.17317,     0.17417,     0.17518,     0.17618,     0.17718,     0.17818,     0.17918,     0.18018,     0.18118,     0.18218,     0.18318,     0.18418,     0.18519,     0.18619,     0.18719,     0.18819,     0.18919,     0.19019,     0.19119,\n",
      "           0.19219,     0.19319,     0.19419,      0.1952,      0.1962,      0.1972,      0.1982,      0.1992,      0.2002,      0.2012,      0.2022,      0.2032,      0.2042,     0.20521,     0.20621,     0.20721,     0.20821,     0.20921,     0.21021,     0.21121,     0.21221,     0.21321,     0.21421,     0.21522,\n",
      "           0.21622,     0.21722,     0.21822,     0.21922,     0.22022,     0.22122,     0.22222,     0.22322,     0.22422,     0.22523,     0.22623,     0.22723,     0.22823,     0.22923,     0.23023,     0.23123,     0.23223,     0.23323,     0.23423,     0.23524,     0.23624,     0.23724,     0.23824,     0.23924,\n",
      "           0.24024,     0.24124,     0.24224,     0.24324,     0.24424,     0.24525,     0.24625,     0.24725,     0.24825,     0.24925,     0.25025,     0.25125,     0.25225,     0.25325,     0.25425,     0.25526,     0.25626,     0.25726,     0.25826,     0.25926,     0.26026,     0.26126,     0.26226,     0.26326,\n",
      "           0.26426,     0.26527,     0.26627,     0.26727,     0.26827,     0.26927,     0.27027,     0.27127,     0.27227,     0.27327,     0.27427,     0.27528,     0.27628,     0.27728,     0.27828,     0.27928,     0.28028,     0.28128,     0.28228,     0.28328,     0.28428,     0.28529,     0.28629,     0.28729,\n",
      "           0.28829,     0.28929,     0.29029,     0.29129,     0.29229,     0.29329,     0.29429,      0.2953,      0.2963,      0.2973,      0.2983,      0.2993,      0.3003,      0.3013,      0.3023,      0.3033,      0.3043,     0.30531,     0.30631,     0.30731,     0.30831,     0.30931,     0.31031,     0.31131,\n",
      "           0.31231,     0.31331,     0.31431,     0.31532,     0.31632,     0.31732,     0.31832,     0.31932,     0.32032,     0.32132,     0.32232,     0.32332,     0.32432,     0.32533,     0.32633,     0.32733,     0.32833,     0.32933,     0.33033,     0.33133,     0.33233,     0.33333,     0.33433,     0.33534,\n",
      "           0.33634,     0.33734,     0.33834,     0.33934,     0.34034,     0.34134,     0.34234,     0.34334,     0.34434,     0.34535,     0.34635,     0.34735,     0.34835,     0.34935,     0.35035,     0.35135,     0.35235,     0.35335,     0.35435,     0.35536,     0.35636,     0.35736,     0.35836,     0.35936,\n",
      "           0.36036,     0.36136,     0.36236,     0.36336,     0.36436,     0.36537,     0.36637,     0.36737,     0.36837,     0.36937,     0.37037,     0.37137,     0.37237,     0.37337,     0.37437,     0.37538,     0.37638,     0.37738,     0.37838,     0.37938,     0.38038,     0.38138,     0.38238,     0.38338,\n",
      "           0.38438,     0.38539,     0.38639,     0.38739,     0.38839,     0.38939,     0.39039,     0.39139,     0.39239,     0.39339,     0.39439,      0.3954,      0.3964,      0.3974,      0.3984,      0.3994,      0.4004,      0.4014,      0.4024,      0.4034,      0.4044,     0.40541,     0.40641,     0.40741,\n",
      "           0.40841,     0.40941,     0.41041,     0.41141,     0.41241,     0.41341,     0.41441,     0.41542,     0.41642,     0.41742,     0.41842,     0.41942,     0.42042,     0.42142,     0.42242,     0.42342,     0.42442,     0.42543,     0.42643,     0.42743,     0.42843,     0.42943,     0.43043,     0.43143,\n",
      "           0.43243,     0.43343,     0.43443,     0.43544,     0.43644,     0.43744,     0.43844,     0.43944,     0.44044,     0.44144,     0.44244,     0.44344,     0.44444,     0.44545,     0.44645,     0.44745,     0.44845,     0.44945,     0.45045,     0.45145,     0.45245,     0.45345,     0.45445,     0.45546,\n",
      "           0.45646,     0.45746,     0.45846,     0.45946,     0.46046,     0.46146,     0.46246,     0.46346,     0.46446,     0.46547,     0.46647,     0.46747,     0.46847,     0.46947,     0.47047,     0.47147,     0.47247,     0.47347,     0.47447,     0.47548,     0.47648,     0.47748,     0.47848,     0.47948,\n",
      "           0.48048,     0.48148,     0.48248,     0.48348,     0.48448,     0.48549,     0.48649,     0.48749,     0.48849,     0.48949,     0.49049,     0.49149,     0.49249,     0.49349,     0.49449,      0.4955,      0.4965,      0.4975,      0.4985,      0.4995,      0.5005,      0.5015,      0.5025,      0.5035,\n",
      "            0.5045,     0.50551,     0.50651,     0.50751,     0.50851,     0.50951,     0.51051,     0.51151,     0.51251,     0.51351,     0.51451,     0.51552,     0.51652,     0.51752,     0.51852,     0.51952,     0.52052,     0.52152,     0.52252,     0.52352,     0.52452,     0.52553,     0.52653,     0.52753,\n",
      "           0.52853,     0.52953,     0.53053,     0.53153,     0.53253,     0.53353,     0.53453,     0.53554,     0.53654,     0.53754,     0.53854,     0.53954,     0.54054,     0.54154,     0.54254,     0.54354,     0.54454,     0.54555,     0.54655,     0.54755,     0.54855,     0.54955,     0.55055,     0.55155,\n",
      "           0.55255,     0.55355,     0.55455,     0.55556,     0.55656,     0.55756,     0.55856,     0.55956,     0.56056,     0.56156,     0.56256,     0.56356,     0.56456,     0.56557,     0.56657,     0.56757,     0.56857,     0.56957,     0.57057,     0.57157,     0.57257,     0.57357,     0.57457,     0.57558,\n",
      "           0.57658,     0.57758,     0.57858,     0.57958,     0.58058,     0.58158,     0.58258,     0.58358,     0.58458,     0.58559,     0.58659,     0.58759,     0.58859,     0.58959,     0.59059,     0.59159,     0.59259,     0.59359,     0.59459,      0.5956,      0.5966,      0.5976,      0.5986,      0.5996,\n",
      "            0.6006,      0.6016,      0.6026,      0.6036,      0.6046,     0.60561,     0.60661,     0.60761,     0.60861,     0.60961,     0.61061,     0.61161,     0.61261,     0.61361,     0.61461,     0.61562,     0.61662,     0.61762,     0.61862,     0.61962,     0.62062,     0.62162,     0.62262,     0.62362,\n",
      "           0.62462,     0.62563,     0.62663,     0.62763,     0.62863,     0.62963,     0.63063,     0.63163,     0.63263,     0.63363,     0.63463,     0.63564,     0.63664,     0.63764,     0.63864,     0.63964,     0.64064,     0.64164,     0.64264,     0.64364,     0.64464,     0.64565,     0.64665,     0.64765,\n",
      "           0.64865,     0.64965,     0.65065,     0.65165,     0.65265,     0.65365,     0.65465,     0.65566,     0.65666,     0.65766,     0.65866,     0.65966,     0.66066,     0.66166,     0.66266,     0.66366,     0.66466,     0.66567,     0.66667,     0.66767,     0.66867,     0.66967,     0.67067,     0.67167,\n",
      "           0.67267,     0.67367,     0.67467,     0.67568,     0.67668,     0.67768,     0.67868,     0.67968,     0.68068,     0.68168,     0.68268,     0.68368,     0.68468,     0.68569,     0.68669,     0.68769,     0.68869,     0.68969,     0.69069,     0.69169,     0.69269,     0.69369,     0.69469,      0.6957,\n",
      "            0.6967,      0.6977,      0.6987,      0.6997,      0.7007,      0.7017,      0.7027,      0.7037,      0.7047,     0.70571,     0.70671,     0.70771,     0.70871,     0.70971,     0.71071,     0.71171,     0.71271,     0.71371,     0.71471,     0.71572,     0.71672,     0.71772,     0.71872,     0.71972,\n",
      "           0.72072,     0.72172,     0.72272,     0.72372,     0.72472,     0.72573,     0.72673,     0.72773,     0.72873,     0.72973,     0.73073,     0.73173,     0.73273,     0.73373,     0.73473,     0.73574,     0.73674,     0.73774,     0.73874,     0.73974,     0.74074,     0.74174,     0.74274,     0.74374,\n",
      "           0.74474,     0.74575,     0.74675,     0.74775,     0.74875,     0.74975,     0.75075,     0.75175,     0.75275,     0.75375,     0.75475,     0.75576,     0.75676,     0.75776,     0.75876,     0.75976,     0.76076,     0.76176,     0.76276,     0.76376,     0.76476,     0.76577,     0.76677,     0.76777,\n",
      "           0.76877,     0.76977,     0.77077,     0.77177,     0.77277,     0.77377,     0.77477,     0.77578,     0.77678,     0.77778,     0.77878,     0.77978,     0.78078,     0.78178,     0.78278,     0.78378,     0.78478,     0.78579,     0.78679,     0.78779,     0.78879,     0.78979,     0.79079,     0.79179,\n",
      "           0.79279,     0.79379,     0.79479,      0.7958,      0.7968,      0.7978,      0.7988,      0.7998,      0.8008,      0.8018,      0.8028,      0.8038,      0.8048,     0.80581,     0.80681,     0.80781,     0.80881,     0.80981,     0.81081,     0.81181,     0.81281,     0.81381,     0.81481,     0.81582,\n",
      "           0.81682,     0.81782,     0.81882,     0.81982,     0.82082,     0.82182,     0.82282,     0.82382,     0.82482,     0.82583,     0.82683,     0.82783,     0.82883,     0.82983,     0.83083,     0.83183,     0.83283,     0.83383,     0.83483,     0.83584,     0.83684,     0.83784,     0.83884,     0.83984,\n",
      "           0.84084,     0.84184,     0.84284,     0.84384,     0.84484,     0.84585,     0.84685,     0.84785,     0.84885,     0.84985,     0.85085,     0.85185,     0.85285,     0.85385,     0.85485,     0.85586,     0.85686,     0.85786,     0.85886,     0.85986,     0.86086,     0.86186,     0.86286,     0.86386,\n",
      "           0.86486,     0.86587,     0.86687,     0.86787,     0.86887,     0.86987,     0.87087,     0.87187,     0.87287,     0.87387,     0.87487,     0.87588,     0.87688,     0.87788,     0.87888,     0.87988,     0.88088,     0.88188,     0.88288,     0.88388,     0.88488,     0.88589,     0.88689,     0.88789,\n",
      "           0.88889,     0.88989,     0.89089,     0.89189,     0.89289,     0.89389,     0.89489,      0.8959,      0.8969,      0.8979,      0.8989,      0.8999,      0.9009,      0.9019,      0.9029,      0.9039,      0.9049,     0.90591,     0.90691,     0.90791,     0.90891,     0.90991,     0.91091,     0.91191,\n",
      "           0.91291,     0.91391,     0.91491,     0.91592,     0.91692,     0.91792,     0.91892,     0.91992,     0.92092,     0.92192,     0.92292,     0.92392,     0.92492,     0.92593,     0.92693,     0.92793,     0.92893,     0.92993,     0.93093,     0.93193,     0.93293,     0.93393,     0.93493,     0.93594,\n",
      "           0.93694,     0.93794,     0.93894,     0.93994,     0.94094,     0.94194,     0.94294,     0.94394,     0.94494,     0.94595,     0.94695,     0.94795,     0.94895,     0.94995,     0.95095,     0.95195,     0.95295,     0.95395,     0.95495,     0.95596,     0.95696,     0.95796,     0.95896,     0.95996,\n",
      "           0.96096,     0.96196,     0.96296,     0.96396,     0.96496,     0.96597,     0.96697,     0.96797,     0.96897,     0.96997,     0.97097,     0.97197,     0.97297,     0.97397,     0.97497,     0.97598,     0.97698,     0.97798,     0.97898,     0.97998,     0.98098,     0.98198,     0.98298,     0.98398,\n",
      "           0.98498,     0.98599,     0.98699,     0.98799,     0.98899,     0.98999,     0.99099,     0.99199,     0.99299,     0.99399,     0.99499,       0.996,       0.997,       0.998,       0.999,           1]), array([[          1,           1,           1,           1,           1,           1,           1,           1,           1,           1,           1,           1,           1,           1,           1,           1,           1,           1,           1,           1,           1,           1,           1,\n",
      "                  1,           1,           1,           1,           1,           1,           1,           1,           1,           1,           1,           1,           1,           1,           1,           1,           1,           1,           1,           1,           1,           1,           1,\n",
      "                  1,           1,           1,           1,           1,           1,           1,           1,           1,           1,           1,           1,           1,           1,           1,           1,           1,           1,           1,           1,           1,           1,           1,\n",
      "                  1,           1,           1,           1,           1,           1,           1,           1,           1,           1,           1,           1,           1,           1,           1,           1,           1,           1,           1,           1,           1,           1,           1,\n",
      "                  1,           1,           1,           1,           1,           1,           1,           1,           1,           1,           1,           1,           1,           1,           1,           1,           1,           1,           1,           1,           1,           1,           1,\n",
      "                  1,           1,           1,           1,           1,           1,           1,           1,           1,           1,           1,           1,           1,           1,           1,           1,           1,           1,           1,           1,           1,           1,           1,\n",
      "                  1,           1,           1,           1,           1,           1,           1,           1,           1,           1,           1,           1,           1,           1,           1,           1,           1,           1,           1,           1,           1,           1,           1,\n",
      "                  1,           1,           1,           1,           1,           1,           1,           1,           1,           1,           1,           1,           1,           1,           1,           1,           1,           1,           1,           1,           1,           1,           1,\n",
      "                  1,           1,           1,           1,           1,           1,           1,           1,           1,           1,           1,           1,           1,           1,           1,           1,           1,           1,           1,           1,           1,           1,           1,\n",
      "                  1,           1,           1,           1,           1,           1,           1,           1,           1,           1,           1,           1,           1,           1,           1,           1,           1,           1,           1,           1,           1,           1,           1,\n",
      "                  1,           1,           1,           1,           1,           1,           1,           1,           1,           1,           1,           1,           1,           1,           1,           1,           1,           1,           1,           1,           1,           1,           1,\n",
      "                  1,           1,           1,           1,           1,           1,           1,           1,           1,           1,           1,           1,           1,           1,           1,           1,           1,           1,           1,           1,           1,           1,           1,\n",
      "                  1,           1,           1,           1,           1,           1,           1,           1,           1,           1,           1,           1,           1,           1,           1,           1,           1,           1,           1,           1,           1,           1,           1,\n",
      "                  1,           1,           1,           1,           1,           1,           1,           1,           1,           1,     0.99524,     0.99524,     0.99524,     0.99095,     0.99095,     0.99095,     0.99095,     0.99095,     0.99095,     0.99095,     0.99095,     0.99095,     0.99095,\n",
      "            0.99095,     0.99095,     0.99095,     0.99095,     0.99095,     0.98814,     0.98814,     0.98814,     0.98814,     0.98814,     0.98814,     0.98814,     0.98814,     0.98814,     0.98814,     0.98814,     0.98814,     0.98814,     0.98814,     0.98814,     0.98814,     0.98814,     0.98814,\n",
      "            0.98814,     0.98814,     0.98814,     0.98814,     0.98814,     0.98814,     0.98814,     0.98814,     0.98814,     0.98814,     0.98814,     0.98814,     0.98814,     0.98814,     0.98814,     0.98814,     0.98814,     0.98814,     0.98814,     0.98814,     0.98814,     0.98814,     0.98814,\n",
      "            0.98814,     0.98814,     0.98814,     0.98814,     0.98814,     0.98577,     0.98577,     0.98577,     0.98577,     0.98577,     0.98577,     0.98577,     0.98577,     0.98577,     0.98577,     0.98577,     0.98577,     0.98577,     0.98577,     0.98577,     0.98577,     0.98577,     0.98577,\n",
      "            0.98577,     0.98577,     0.98577,     0.98577,     0.98577,     0.98577,     0.98577,     0.98577,     0.98577,     0.98577,     0.98577,     0.98577,     0.98577,     0.98577,     0.98577,     0.98577,     0.98577,     0.98577,     0.98577,     0.98577,     0.98577,     0.98577,     0.98577,\n",
      "            0.98233,     0.97924,     0.97924,     0.97924,     0.97924,     0.97924,     0.97924,     0.97924,      0.9726,      0.9726,     0.97106,     0.97106,     0.97106,     0.97106,     0.97106,     0.97106,     0.97106,     0.97106,     0.97106,     0.97106,     0.97106,     0.97106,     0.97106,\n",
      "            0.97106,     0.97106,     0.97106,     0.97106,     0.97106,     0.97106,     0.97106,     0.97106,     0.97106,     0.97106,     0.97106,     0.97106,     0.97106,     0.97106,     0.96497,     0.95937,     0.95937,     0.95937,     0.95937,     0.95937,     0.95937,     0.95356,     0.95356,\n",
      "            0.95107,     0.95107,     0.95107,     0.95107,     0.94545,     0.94545,     0.93175,     0.93175,     0.93175,     0.92982,     0.92982,     0.92982,     0.92982,     0.92982,     0.92982,     0.92733,     0.92219,     0.92219,        0.92,        0.92,        0.92,     0.91549,     0.91549,\n",
      "            0.91549,     0.91549,     0.91061,     0.91061,     0.90859,     0.90859,     0.90859,     0.90634,     0.90489,     0.90489,     0.90489,     0.90489,     0.90489,     0.90489,     0.90296,     0.90296,     0.90296,      0.9016,      0.9016,      0.9016,      0.9016,      0.9016,      0.9016,\n",
      "             0.8971,     0.89501,     0.89501,     0.89062,      0.8852,      0.8852,      0.8852,      0.8852,      0.8852,      0.8852,      0.8852,      0.8852,     0.88325,     0.87909,     0.87909,       0.875,     0.87129,     0.87129,     0.87129,     0.86946,     0.86946,     0.86618,     0.86618,\n",
      "            0.86618,     0.86618,     0.86441,     0.86441,     0.86265,     0.86091,     0.86091,     0.85106,     0.84778,     0.84778,     0.84778,     0.84259,     0.84259,     0.84259,     0.83908,     0.83908,     0.83753,     0.83636,     0.83636,     0.83636,     0.83484,     0.83484,     0.82774,\n",
      "            0.82705,     0.82705,     0.82705,     0.82705,     0.82705,     0.82599,     0.82599,     0.82599,     0.82314,     0.82314,     0.82314,     0.82213,     0.82213,     0.82213,     0.82073,     0.81935,     0.81935,     0.81876,     0.81876,     0.81876,     0.81876,     0.81741,     0.81741,\n",
      "            0.81263,     0.80453,     0.80453,     0.80453,     0.80453,     0.80453,     0.80453,     0.80453,     0.80448,     0.80448,     0.80448,     0.80448,     0.80448,     0.80448,     0.80325,     0.80325,     0.79879,     0.79283,     0.79283,     0.78895,     0.78895,     0.78895,      0.7832,\n",
      "            0.77606,     0.77606,     0.77395,     0.77395,     0.77395,     0.76705,     0.76604,     0.76604,     0.75231,        0.75,        0.75,     0.74771,     0.74188,     0.74188,     0.74188,     0.74107,     0.74107,     0.74107,     0.74107,     0.74107,     0.74107,     0.74021,     0.74021,\n",
      "            0.73805,     0.73721,     0.73721,      0.7338,     0.72664,     0.72664,     0.72633,     0.72633,     0.72633,     0.72556,     0.72526,     0.72526,     0.72526,     0.72326,     0.72326,     0.72128,     0.71739,     0.71739,     0.71739,     0.70608,     0.70608,      0.7054,     0.70358,\n",
      "            0.70358,      0.7034,      0.7034,      0.7034,     0.70161,      0.6992,      0.6992,      0.6992,     0.69745,     0.69745,     0.69731,     0.69731,     0.69731,     0.69497,     0.69497,     0.69497,     0.69436,     0.69375,     0.69375,     0.69315,     0.68934,     0.68934,     0.68712,\n",
      "            0.68712,     0.68493,     0.68493,     0.68493,      0.6823,      0.6823,      0.6797,     0.67713,     0.67713,     0.66277,     0.65942,     0.65942,     0.65517,     0.65473,     0.65473,     0.65335,     0.65106,     0.65106,     0.64958,     0.64958,     0.64958,     0.64958,     0.64958,\n",
      "            0.64958,     0.64958,     0.64958,     0.64958,     0.64958,     0.64958,     0.64958,     0.64958,     0.64958,     0.64958,     0.64917,     0.64521,     0.64521,     0.64481,     0.64151,     0.64151,     0.64151,     0.64151,     0.64151,     0.64151,     0.64113,     0.64113,     0.63989,\n",
      "            0.63528,     0.63528,     0.63241,     0.63206,     0.63206,     0.63103,     0.63103,     0.63103,     0.63103,     0.62758,     0.62758,     0.62758,     0.62758,     0.62758,     0.62564,     0.62293,     0.62293,     0.62262,     0.61995,     0.61995,     0.61809,     0.61779,     0.61779,\n",
      "             0.6175,     0.61718,     0.61718,     0.61718,     0.61718,     0.61718,     0.61718,     0.61718,     0.61718,     0.61718,     0.61718,     0.61718,     0.61718,     0.61718,     0.61158,     0.61158,     0.61158,     0.61158,     0.61158,     0.61158,     0.60984,     0.60984,     0.60595,\n",
      "            0.60449,     0.60449,     0.60449,     0.60449,     0.60449,     0.59907,     0.59907,     0.59907,     0.59884,     0.59769,     0.59769,     0.59769,     0.59404,     0.59404,     0.59179,     0.59024,     0.59024,     0.58937,     0.58916,     0.58916,     0.58896,     0.58837,     0.58837,\n",
      "            0.58837,     0.58837,     0.58837,     0.57849,     0.57592,     0.57592,     0.57592,     0.57592,     0.57592,     0.57592,     0.57514,     0.57514,     0.57312,     0.56809,     0.56809,     0.56674,     0.55833,     0.55833,     0.55809,     0.55809,     0.55809,     0.55797,     0.55271,\n",
      "            0.55271,     0.54702,     0.54472,     0.54472,     0.54138,     0.54129,     0.54129,      0.5332,      0.5332,      0.5332,     0.53198,     0.53198,     0.53198,     0.53198,      0.5314,      0.5314,     0.53128,     0.53128,     0.53128,     0.51779,     0.51631,     0.51631,      0.5158,\n",
      "            0.51197,     0.51197,     0.50772,     0.50772,     0.50772,     0.50772,     0.50679,     0.50676,     0.50676,     0.50676,     0.50539,     0.50539,     0.50312,     0.50133,     0.50133,         0.5,     0.49912,     0.49912,     0.49869,     0.49869,     0.49869,     0.49782,     0.49353,\n",
      "            0.49353,     0.49353,     0.49147,     0.49147,     0.49147,     0.49147,     0.49147,     0.49147,     0.48774,     0.48774,     0.48533,     0.48533,     0.48533,     0.48293,     0.47588,     0.47588,     0.47588,     0.47398,     0.47398,     0.47326,     0.47292,     0.47292,     0.47106,\n",
      "            0.47002,     0.47002,     0.47002,      0.4684,      0.4684,      0.4684,      0.4684,      0.4684,      0.4684,      0.4684,      0.4684,     0.46772,     0.46667,     0.46667,     0.46459,     0.46459,     0.46459,     0.46429,     0.46338,     0.46338,     0.46338,     0.46338,     0.46338,\n",
      "            0.45919,     0.45856,     0.45856,     0.45619,     0.45605,     0.45605,     0.45605,     0.45605,     0.45605,     0.45407,     0.45212,     0.45212,     0.45052,     0.44893,     0.44893,      0.4481,      0.4481,      0.4481,     0.44557,     0.44501,     0.44325,     0.44325,     0.44325,\n",
      "            0.43839,     0.43839,     0.43839,     0.43601,     0.43601,     0.43588,     0.43588,     0.43588,     0.43424,     0.43424,     0.43424,     0.43313,     0.43143,     0.43143,     0.42857,     0.42634,     0.42634,     0.42586,     0.42453,     0.42453,     0.42207,     0.42161,     0.42161,\n",
      "            0.42088,     0.42025,     0.42025,     0.42025,     0.41623,     0.41623,     0.40886,     0.40793,     0.40793,     0.40597,     0.40583,     0.40583,     0.40138,       0.401,       0.401,     0.40012,     0.39533,     0.39533,     0.39329,      0.3827,      0.3827,     0.38199,     0.38199,\n",
      "            0.38199,     0.38199,     0.37681,     0.37681,     0.36655,     0.36384,     0.36384,     0.36117,     0.35796,     0.35796,     0.35064,     0.35061,     0.35061,     0.34947,     0.34796,     0.34796,     0.34004,     0.33968,     0.33968,     0.33915,     0.33587,     0.33587,     0.33401,\n",
      "            0.32693,     0.32693,     0.32064,     0.31912,     0.31912,     0.31052,      0.3059,      0.3059,      0.3059,     0.10459,           0]]), 'Recall', 'Precision'], [array([          0,    0.001001,    0.002002,    0.003003,    0.004004,    0.005005,    0.006006,    0.007007,    0.008008,    0.009009,     0.01001,    0.011011,    0.012012,    0.013013,    0.014014,    0.015015,    0.016016,    0.017017,    0.018018,    0.019019,     0.02002,    0.021021,    0.022022,    0.023023,\n",
      "          0.024024,    0.025025,    0.026026,    0.027027,    0.028028,    0.029029,     0.03003,    0.031031,    0.032032,    0.033033,    0.034034,    0.035035,    0.036036,    0.037037,    0.038038,    0.039039,     0.04004,    0.041041,    0.042042,    0.043043,    0.044044,    0.045045,    0.046046,    0.047047,\n",
      "          0.048048,    0.049049,     0.05005,    0.051051,    0.052052,    0.053053,    0.054054,    0.055055,    0.056056,    0.057057,    0.058058,    0.059059,     0.06006,    0.061061,    0.062062,    0.063063,    0.064064,    0.065065,    0.066066,    0.067067,    0.068068,    0.069069,     0.07007,    0.071071,\n",
      "          0.072072,    0.073073,    0.074074,    0.075075,    0.076076,    0.077077,    0.078078,    0.079079,     0.08008,    0.081081,    0.082082,    0.083083,    0.084084,    0.085085,    0.086086,    0.087087,    0.088088,    0.089089,     0.09009,    0.091091,    0.092092,    0.093093,    0.094094,    0.095095,\n",
      "          0.096096,    0.097097,    0.098098,    0.099099,      0.1001,      0.1011,      0.1021,      0.1031,      0.1041,     0.10511,     0.10611,     0.10711,     0.10811,     0.10911,     0.11011,     0.11111,     0.11211,     0.11311,     0.11411,     0.11512,     0.11612,     0.11712,     0.11812,     0.11912,\n",
      "           0.12012,     0.12112,     0.12212,     0.12312,     0.12412,     0.12513,     0.12613,     0.12713,     0.12813,     0.12913,     0.13013,     0.13113,     0.13213,     0.13313,     0.13413,     0.13514,     0.13614,     0.13714,     0.13814,     0.13914,     0.14014,     0.14114,     0.14214,     0.14314,\n",
      "           0.14414,     0.14515,     0.14615,     0.14715,     0.14815,     0.14915,     0.15015,     0.15115,     0.15215,     0.15315,     0.15415,     0.15516,     0.15616,     0.15716,     0.15816,     0.15916,     0.16016,     0.16116,     0.16216,     0.16316,     0.16416,     0.16517,     0.16617,     0.16717,\n",
      "           0.16817,     0.16917,     0.17017,     0.17117,     0.17217,     0.17317,     0.17417,     0.17518,     0.17618,     0.17718,     0.17818,     0.17918,     0.18018,     0.18118,     0.18218,     0.18318,     0.18418,     0.18519,     0.18619,     0.18719,     0.18819,     0.18919,     0.19019,     0.19119,\n",
      "           0.19219,     0.19319,     0.19419,      0.1952,      0.1962,      0.1972,      0.1982,      0.1992,      0.2002,      0.2012,      0.2022,      0.2032,      0.2042,     0.20521,     0.20621,     0.20721,     0.20821,     0.20921,     0.21021,     0.21121,     0.21221,     0.21321,     0.21421,     0.21522,\n",
      "           0.21622,     0.21722,     0.21822,     0.21922,     0.22022,     0.22122,     0.22222,     0.22322,     0.22422,     0.22523,     0.22623,     0.22723,     0.22823,     0.22923,     0.23023,     0.23123,     0.23223,     0.23323,     0.23423,     0.23524,     0.23624,     0.23724,     0.23824,     0.23924,\n",
      "           0.24024,     0.24124,     0.24224,     0.24324,     0.24424,     0.24525,     0.24625,     0.24725,     0.24825,     0.24925,     0.25025,     0.25125,     0.25225,     0.25325,     0.25425,     0.25526,     0.25626,     0.25726,     0.25826,     0.25926,     0.26026,     0.26126,     0.26226,     0.26326,\n",
      "           0.26426,     0.26527,     0.26627,     0.26727,     0.26827,     0.26927,     0.27027,     0.27127,     0.27227,     0.27327,     0.27427,     0.27528,     0.27628,     0.27728,     0.27828,     0.27928,     0.28028,     0.28128,     0.28228,     0.28328,     0.28428,     0.28529,     0.28629,     0.28729,\n",
      "           0.28829,     0.28929,     0.29029,     0.29129,     0.29229,     0.29329,     0.29429,      0.2953,      0.2963,      0.2973,      0.2983,      0.2993,      0.3003,      0.3013,      0.3023,      0.3033,      0.3043,     0.30531,     0.30631,     0.30731,     0.30831,     0.30931,     0.31031,     0.31131,\n",
      "           0.31231,     0.31331,     0.31431,     0.31532,     0.31632,     0.31732,     0.31832,     0.31932,     0.32032,     0.32132,     0.32232,     0.32332,     0.32432,     0.32533,     0.32633,     0.32733,     0.32833,     0.32933,     0.33033,     0.33133,     0.33233,     0.33333,     0.33433,     0.33534,\n",
      "           0.33634,     0.33734,     0.33834,     0.33934,     0.34034,     0.34134,     0.34234,     0.34334,     0.34434,     0.34535,     0.34635,     0.34735,     0.34835,     0.34935,     0.35035,     0.35135,     0.35235,     0.35335,     0.35435,     0.35536,     0.35636,     0.35736,     0.35836,     0.35936,\n",
      "           0.36036,     0.36136,     0.36236,     0.36336,     0.36436,     0.36537,     0.36637,     0.36737,     0.36837,     0.36937,     0.37037,     0.37137,     0.37237,     0.37337,     0.37437,     0.37538,     0.37638,     0.37738,     0.37838,     0.37938,     0.38038,     0.38138,     0.38238,     0.38338,\n",
      "           0.38438,     0.38539,     0.38639,     0.38739,     0.38839,     0.38939,     0.39039,     0.39139,     0.39239,     0.39339,     0.39439,      0.3954,      0.3964,      0.3974,      0.3984,      0.3994,      0.4004,      0.4014,      0.4024,      0.4034,      0.4044,     0.40541,     0.40641,     0.40741,\n",
      "           0.40841,     0.40941,     0.41041,     0.41141,     0.41241,     0.41341,     0.41441,     0.41542,     0.41642,     0.41742,     0.41842,     0.41942,     0.42042,     0.42142,     0.42242,     0.42342,     0.42442,     0.42543,     0.42643,     0.42743,     0.42843,     0.42943,     0.43043,     0.43143,\n",
      "           0.43243,     0.43343,     0.43443,     0.43544,     0.43644,     0.43744,     0.43844,     0.43944,     0.44044,     0.44144,     0.44244,     0.44344,     0.44444,     0.44545,     0.44645,     0.44745,     0.44845,     0.44945,     0.45045,     0.45145,     0.45245,     0.45345,     0.45445,     0.45546,\n",
      "           0.45646,     0.45746,     0.45846,     0.45946,     0.46046,     0.46146,     0.46246,     0.46346,     0.46446,     0.46547,     0.46647,     0.46747,     0.46847,     0.46947,     0.47047,     0.47147,     0.47247,     0.47347,     0.47447,     0.47548,     0.47648,     0.47748,     0.47848,     0.47948,\n",
      "           0.48048,     0.48148,     0.48248,     0.48348,     0.48448,     0.48549,     0.48649,     0.48749,     0.48849,     0.48949,     0.49049,     0.49149,     0.49249,     0.49349,     0.49449,      0.4955,      0.4965,      0.4975,      0.4985,      0.4995,      0.5005,      0.5015,      0.5025,      0.5035,\n",
      "            0.5045,     0.50551,     0.50651,     0.50751,     0.50851,     0.50951,     0.51051,     0.51151,     0.51251,     0.51351,     0.51451,     0.51552,     0.51652,     0.51752,     0.51852,     0.51952,     0.52052,     0.52152,     0.52252,     0.52352,     0.52452,     0.52553,     0.52653,     0.52753,\n",
      "           0.52853,     0.52953,     0.53053,     0.53153,     0.53253,     0.53353,     0.53453,     0.53554,     0.53654,     0.53754,     0.53854,     0.53954,     0.54054,     0.54154,     0.54254,     0.54354,     0.54454,     0.54555,     0.54655,     0.54755,     0.54855,     0.54955,     0.55055,     0.55155,\n",
      "           0.55255,     0.55355,     0.55455,     0.55556,     0.55656,     0.55756,     0.55856,     0.55956,     0.56056,     0.56156,     0.56256,     0.56356,     0.56456,     0.56557,     0.56657,     0.56757,     0.56857,     0.56957,     0.57057,     0.57157,     0.57257,     0.57357,     0.57457,     0.57558,\n",
      "           0.57658,     0.57758,     0.57858,     0.57958,     0.58058,     0.58158,     0.58258,     0.58358,     0.58458,     0.58559,     0.58659,     0.58759,     0.58859,     0.58959,     0.59059,     0.59159,     0.59259,     0.59359,     0.59459,      0.5956,      0.5966,      0.5976,      0.5986,      0.5996,\n",
      "            0.6006,      0.6016,      0.6026,      0.6036,      0.6046,     0.60561,     0.60661,     0.60761,     0.60861,     0.60961,     0.61061,     0.61161,     0.61261,     0.61361,     0.61461,     0.61562,     0.61662,     0.61762,     0.61862,     0.61962,     0.62062,     0.62162,     0.62262,     0.62362,\n",
      "           0.62462,     0.62563,     0.62663,     0.62763,     0.62863,     0.62963,     0.63063,     0.63163,     0.63263,     0.63363,     0.63463,     0.63564,     0.63664,     0.63764,     0.63864,     0.63964,     0.64064,     0.64164,     0.64264,     0.64364,     0.64464,     0.64565,     0.64665,     0.64765,\n",
      "           0.64865,     0.64965,     0.65065,     0.65165,     0.65265,     0.65365,     0.65465,     0.65566,     0.65666,     0.65766,     0.65866,     0.65966,     0.66066,     0.66166,     0.66266,     0.66366,     0.66466,     0.66567,     0.66667,     0.66767,     0.66867,     0.66967,     0.67067,     0.67167,\n",
      "           0.67267,     0.67367,     0.67467,     0.67568,     0.67668,     0.67768,     0.67868,     0.67968,     0.68068,     0.68168,     0.68268,     0.68368,     0.68468,     0.68569,     0.68669,     0.68769,     0.68869,     0.68969,     0.69069,     0.69169,     0.69269,     0.69369,     0.69469,      0.6957,\n",
      "            0.6967,      0.6977,      0.6987,      0.6997,      0.7007,      0.7017,      0.7027,      0.7037,      0.7047,     0.70571,     0.70671,     0.70771,     0.70871,     0.70971,     0.71071,     0.71171,     0.71271,     0.71371,     0.71471,     0.71572,     0.71672,     0.71772,     0.71872,     0.71972,\n",
      "           0.72072,     0.72172,     0.72272,     0.72372,     0.72472,     0.72573,     0.72673,     0.72773,     0.72873,     0.72973,     0.73073,     0.73173,     0.73273,     0.73373,     0.73473,     0.73574,     0.73674,     0.73774,     0.73874,     0.73974,     0.74074,     0.74174,     0.74274,     0.74374,\n",
      "           0.74474,     0.74575,     0.74675,     0.74775,     0.74875,     0.74975,     0.75075,     0.75175,     0.75275,     0.75375,     0.75475,     0.75576,     0.75676,     0.75776,     0.75876,     0.75976,     0.76076,     0.76176,     0.76276,     0.76376,     0.76476,     0.76577,     0.76677,     0.76777,\n",
      "           0.76877,     0.76977,     0.77077,     0.77177,     0.77277,     0.77377,     0.77477,     0.77578,     0.77678,     0.77778,     0.77878,     0.77978,     0.78078,     0.78178,     0.78278,     0.78378,     0.78478,     0.78579,     0.78679,     0.78779,     0.78879,     0.78979,     0.79079,     0.79179,\n",
      "           0.79279,     0.79379,     0.79479,      0.7958,      0.7968,      0.7978,      0.7988,      0.7998,      0.8008,      0.8018,      0.8028,      0.8038,      0.8048,     0.80581,     0.80681,     0.80781,     0.80881,     0.80981,     0.81081,     0.81181,     0.81281,     0.81381,     0.81481,     0.81582,\n",
      "           0.81682,     0.81782,     0.81882,     0.81982,     0.82082,     0.82182,     0.82282,     0.82382,     0.82482,     0.82583,     0.82683,     0.82783,     0.82883,     0.82983,     0.83083,     0.83183,     0.83283,     0.83383,     0.83483,     0.83584,     0.83684,     0.83784,     0.83884,     0.83984,\n",
      "           0.84084,     0.84184,     0.84284,     0.84384,     0.84484,     0.84585,     0.84685,     0.84785,     0.84885,     0.84985,     0.85085,     0.85185,     0.85285,     0.85385,     0.85485,     0.85586,     0.85686,     0.85786,     0.85886,     0.85986,     0.86086,     0.86186,     0.86286,     0.86386,\n",
      "           0.86486,     0.86587,     0.86687,     0.86787,     0.86887,     0.86987,     0.87087,     0.87187,     0.87287,     0.87387,     0.87487,     0.87588,     0.87688,     0.87788,     0.87888,     0.87988,     0.88088,     0.88188,     0.88288,     0.88388,     0.88488,     0.88589,     0.88689,     0.88789,\n",
      "           0.88889,     0.88989,     0.89089,     0.89189,     0.89289,     0.89389,     0.89489,      0.8959,      0.8969,      0.8979,      0.8989,      0.8999,      0.9009,      0.9019,      0.9029,      0.9039,      0.9049,     0.90591,     0.90691,     0.90791,     0.90891,     0.90991,     0.91091,     0.91191,\n",
      "           0.91291,     0.91391,     0.91491,     0.91592,     0.91692,     0.91792,     0.91892,     0.91992,     0.92092,     0.92192,     0.92292,     0.92392,     0.92492,     0.92593,     0.92693,     0.92793,     0.92893,     0.92993,     0.93093,     0.93193,     0.93293,     0.93393,     0.93493,     0.93594,\n",
      "           0.93694,     0.93794,     0.93894,     0.93994,     0.94094,     0.94194,     0.94294,     0.94394,     0.94494,     0.94595,     0.94695,     0.94795,     0.94895,     0.94995,     0.95095,     0.95195,     0.95295,     0.95395,     0.95495,     0.95596,     0.95696,     0.95796,     0.95896,     0.95996,\n",
      "           0.96096,     0.96196,     0.96296,     0.96396,     0.96496,     0.96597,     0.96697,     0.96797,     0.96897,     0.96997,     0.97097,     0.97197,     0.97297,     0.97397,     0.97497,     0.97598,     0.97698,     0.97798,     0.97898,     0.97998,     0.98098,     0.98198,     0.98298,     0.98398,\n",
      "           0.98498,     0.98599,     0.98699,     0.98799,     0.98899,     0.98999,     0.99099,     0.99199,     0.99299,     0.99399,     0.99499,       0.996,       0.997,       0.998,       0.999,           1]), array([[    0.26976,      0.2698,     0.33344,     0.36587,     0.38808,     0.40153,       0.414,     0.42386,     0.43097,     0.43633,     0.44118,     0.44637,     0.45014,     0.45313,     0.45651,     0.46093,     0.46459,     0.46674,     0.46794,     0.46943,      0.4718,     0.47321,     0.47468,\n",
      "            0.47551,     0.47684,      0.4795,     0.48114,     0.48265,     0.48333,     0.48464,     0.48555,     0.48686,     0.48805,     0.48856,     0.48956,     0.49021,     0.49122,     0.49274,     0.49306,     0.49452,     0.49547,     0.49732,     0.49904,     0.49975,     0.50039,      0.5009,\n",
      "            0.50146,     0.50245,     0.50306,     0.50384,     0.50425,     0.50502,     0.50469,     0.50547,     0.50648,     0.50687,     0.50745,     0.50855,      0.5092,     0.50973,     0.51066,      0.5121,     0.51278,     0.51343,     0.51458,     0.51521,     0.51499,     0.51603,     0.51614,\n",
      "            0.51621,     0.51646,     0.51658,     0.51705,     0.51774,     0.51912,     0.52064,     0.52215,     0.52252,     0.52303,     0.52345,     0.52334,     0.52373,     0.52405,     0.52451,     0.52586,     0.52685,     0.52854,     0.52944,     0.52918,     0.52964,     0.53072,      0.5322,\n",
      "            0.53248,      0.5333,     0.53562,     0.53702,     0.53766,     0.53782,     0.53864,     0.53972,     0.54139,     0.54255,     0.54266,     0.54287,      0.5431,     0.54332,     0.54353,     0.54412,     0.54477,     0.54558,      0.5465,     0.54629,      0.5478,     0.54749,     0.54871,\n",
      "            0.54958,     0.55059,     0.55111,     0.55162,      0.5533,     0.55408,     0.55572,     0.55638,     0.55759,     0.55817,     0.55802,     0.55856,     0.55966,     0.55984,     0.56131,     0.56302,     0.56344,     0.56417,     0.56532,     0.56511,     0.56779,     0.56918,     0.56947,\n",
      "            0.56942,     0.56944,     0.56972,     0.57068,     0.57059,     0.57095,     0.57214,     0.57279,     0.57336,     0.57421,     0.57569,      0.5778,     0.57853,     0.58023,     0.58192,     0.58221,      0.5827,     0.58315,     0.58439,     0.58506,     0.58581,     0.58587,     0.58687,\n",
      "            0.58729,     0.58928,     0.58984,     0.59106,     0.59109,      0.5919,      0.5919,     0.59294,     0.59237,     0.59227,     0.59408,      0.5934,      0.5964,     0.59839,      0.5991,      0.5996,     0.59906,      0.5997,     0.60132,     0.60164,     0.60104,      0.6017,     0.60227,\n",
      "             0.6035,     0.60478,     0.60511,     0.60652,     0.60571,     0.60579,     0.60635,     0.60746,     0.60747,     0.60837,     0.60932,     0.61005,     0.61016,     0.61076,     0.61067,     0.60997,     0.61118,     0.61154,     0.61221,     0.61146,     0.61143,     0.61064,     0.61109,\n",
      "            0.61076,     0.61156,     0.61185,     0.61315,     0.61331,     0.61512,     0.61622,     0.61977,     0.62129,     0.62102,     0.62266,     0.62224,     0.62382,     0.62403,     0.62487,     0.62533,     0.62656,     0.62722,     0.62796,      0.6279,     0.62766,     0.62836,      0.6295,\n",
      "            0.63079,     0.63069,        0.63,     0.63069,      0.6328,     0.63571,     0.63499,     0.63588,     0.63851,     0.64053,     0.64256,     0.64458,     0.64535,     0.64499,     0.64456,     0.64411,     0.64345,     0.64398,     0.64458,     0.64724,     0.64842,     0.64889,     0.64937,\n",
      "            0.65048,     0.65239,     0.65457,     0.65639,     0.65825,     0.65825,     0.65746,      0.6589,     0.66099,     0.66289,     0.66522,     0.66664,     0.66533,     0.66504,     0.66608,     0.66725,     0.66854,     0.67038,      0.6723,     0.67179,     0.67111,     0.67121,     0.67083,\n",
      "            0.67071,      0.6698,      0.6701,     0.67087,     0.67165,      0.6719,      0.6726,     0.67252,     0.67203,     0.67118,     0.67195,     0.67378,     0.67487,     0.67281,     0.67381,     0.67479,     0.67577,     0.67528,     0.67621,     0.67528,     0.67391,      0.6754,     0.67619,\n",
      "            0.67637,     0.67428,     0.67078,     0.67149,     0.67131,      0.6711,     0.67119,      0.6709,     0.67156,     0.67228,     0.67175,     0.67184,     0.67156,     0.67233,     0.67226,     0.67353,     0.67161,     0.67341,     0.67251,     0.67216,     0.67225,     0.67162,       0.671,\n",
      "            0.67158,      0.6722,     0.67248,      0.6734,     0.67387,     0.67236,     0.67273,      0.6721,      0.6715,     0.67096,     0.67224,     0.67319,     0.67368,     0.67109,     0.66941,     0.66755,     0.66712,     0.66711,     0.66756,      0.6667,     0.66724,      0.6669,     0.66749,\n",
      "            0.66793,     0.66775,     0.66777,      0.6676,     0.66807,     0.66854,     0.66949,     0.67007,     0.67021,      0.6712,     0.67168,     0.67275,     0.67347,     0.67477,     0.67508,     0.67578,     0.67647,     0.67612,     0.67753,     0.67794,     0.67643,     0.67651,     0.67638,\n",
      "            0.67672,     0.67821,      0.6774,     0.67745,     0.67688,     0.67662,     0.67518,     0.67564,     0.67622,      0.6756,     0.67447,     0.67467,     0.67487,     0.67452,     0.67286,     0.67306,     0.67327,     0.67352,     0.67381,     0.67365,     0.67303,     0.67272,     0.67217,\n",
      "            0.67268,     0.67188,     0.67145,     0.67237,     0.67431,     0.67485,     0.67571,     0.67605,     0.67515,     0.67617,     0.67576,     0.67601,     0.67633,     0.67572,     0.67615,     0.67622,     0.67497,     0.67496,     0.67487,     0.67426,     0.67419,      0.6726,     0.67284,\n",
      "            0.67373,     0.67388,     0.67403,     0.67421,     0.67505,     0.67458,     0.67504,      0.6758,     0.67551,     0.67519,     0.67486,     0.67479,     0.67502,     0.67525,     0.67397,     0.67213,     0.67172,     0.67203,     0.67176,     0.67149,     0.67122,      0.6715,     0.67075,\n",
      "            0.66943,     0.67042,     0.67077,     0.67113,     0.67162,     0.67183,     0.67203,     0.67163,     0.67191,     0.67196,     0.67137,     0.67212,      0.6724,     0.67292,     0.67403,     0.67474,     0.67506,     0.67523,      0.6754,     0.67616,     0.67657,     0.67564,     0.67565,\n",
      "            0.67509,     0.67532,      0.6765,     0.67721,     0.67591,     0.67585,      0.6765,     0.67687,     0.67704,     0.67722,     0.67739,     0.67759,     0.67778,     0.67799,     0.67827,     0.67821,     0.67887,     0.67923,     0.67941,     0.67958,     0.67916,     0.67789,     0.67754,\n",
      "            0.67769,     0.67784,     0.67799,     0.67835,     0.67911,     0.67887,     0.67991,     0.68024,     0.67963,     0.67968,     0.68033,     0.68028,     0.67817,     0.67612,     0.67643,     0.67532,     0.67444,     0.67325,     0.67115,     0.67135,     0.67156,     0.67178,      0.6722,\n",
      "            0.67356,      0.6743,      0.6746,     0.67451,     0.67394,     0.67396,      0.6729,     0.67197,     0.67121,     0.67068,     0.67037,     0.67077,     0.66976,     0.67016,     0.66973,     0.66921,     0.66824,     0.66823,      0.6661,     0.66649,     0.66719,     0.66687,     0.66656,\n",
      "            0.66624,      0.6659,     0.66555,      0.6652,     0.66494,     0.66514,     0.66382,     0.66288,     0.66242,     0.66218,     0.66195,     0.66171,     0.66148,     0.66137,     0.66176,     0.66309,     0.66319,      0.6633,      0.6634,      0.6635,      0.6636,     0.66256,     0.66257,\n",
      "             0.6607,       0.661,     0.66096,     0.66026,     0.66006,     0.66057,     0.65894,     0.65869,     0.65907,     0.65937,     0.65959,      0.6598,     0.65875,     0.65767,     0.65813,     0.65873,     0.65952,     0.65988,     0.66041,     0.65997,     0.65988,     0.65908,     0.65864,\n",
      "             0.6582,     0.65828,     0.65858,     0.65727,     0.65677,     0.65627,     0.65501,     0.65527,     0.65555,     0.65567,      0.6549,     0.65501,     0.65512,     0.65523,     0.65535,     0.65546,     0.65311,     0.65377,     0.65296,     0.65334,      0.6537,     0.65404,     0.65295,\n",
      "            0.65405,     0.65319,     0.65237,     0.65073,     0.65032,      0.6499,     0.64754,     0.64789,     0.64807,     0.64825,     0.64871,     0.64769,     0.64833,     0.64866,     0.64765,      0.6479,     0.64818,     0.64704,     0.64718,     0.64732,     0.64746,     0.64803,     0.64764,\n",
      "            0.64704,      0.6455,     0.64473,      0.6435,      0.6421,     0.64109,     0.64082,     0.63907,     0.63808,     0.63737,     0.63683,      0.6364,     0.63673,     0.63678,     0.63595,     0.63588,     0.63518,     0.63371,     0.63398,     0.63404,     0.63364,     0.63324,     0.63284,\n",
      "            0.63038,      0.6291,     0.62895,     0.62923,     0.62799,     0.62817,     0.62836,     0.62854,      0.6282,     0.62703,     0.62661,     0.62618,     0.62576,     0.62556,     0.62536,     0.62517,     0.62497,     0.62478,     0.62459,     0.62439,     0.62344,     0.62307,     0.62271,\n",
      "            0.62234,     0.62096,     0.62113,     0.62129,     0.62146,     0.62178,     0.62218,     0.62271,     0.62299,     0.62185,     0.61982,     0.62016,     0.62008,     0.61952,     0.61896,     0.61948,     0.61966,     0.61975,     0.61985,     0.61995,     0.62005,     0.62015,      0.6188,\n",
      "            0.61825,      0.6177,     0.61582,      0.6156,     0.61473,     0.61521,     0.61541,     0.61562,     0.61478,     0.61243,     0.61165,     0.60996,     0.60912,     0.60852,     0.60829,     0.60805,     0.60782,     0.60759,     0.60736,      0.6071,     0.60678,     0.60646,     0.60614,\n",
      "            0.60581,     0.60218,     0.60116,     0.60071,     0.60027,     0.59974,     0.59909,      0.5971,     0.59425,     0.59237,     0.59195,     0.59152,     0.59004,     0.58957,      0.5891,     0.58938,     0.59001,     0.58931,     0.58863,     0.58808,     0.58752,     0.58685,     0.58608,\n",
      "            0.58486,     0.58285,      0.5832,     0.58268,     0.58215,     0.58252,     0.58036,     0.57837,     0.57443,     0.57277,     0.57143,     0.56993,     0.56834,     0.56657,     0.56558,     0.56478,     0.56423,     0.56386,      0.5635,     0.56314,     0.56273,     0.56223,     0.56172,\n",
      "            0.56108,     0.56007,     0.55769,     0.55654,     0.55503,     0.55369,      0.5503,     0.54946,     0.54803,     0.54543,     0.54433,     0.54379,     0.54328,     0.54277,     0.54055,     0.53852,     0.53773,     0.53687,     0.53364,      0.5326,     0.53179,     0.53114,     0.52882,\n",
      "            0.52765,     0.52611,     0.52529,     0.52471,     0.52413,     0.51875,     0.51405,     0.51155,     0.50919,     0.50716,     0.50596,     0.50465,     0.50254,     0.50193,     0.50132,     0.49937,     0.49785,     0.49544,     0.49453,     0.49311,     0.48783,     0.48557,     0.48233,\n",
      "            0.47989,     0.47448,     0.47478,     0.47431,     0.47385,     0.47338,     0.47013,     0.46448,     0.46336,     0.46197,     0.46076,     0.45933,     0.45531,     0.45262,      0.4519,     0.45118,     0.44952,     0.44425,      0.4409,     0.43884,     0.43249,     0.42797,     0.42288,\n",
      "            0.42024,     0.41752,     0.41679,     0.41569,     0.41264,     0.40892,     0.40763,     0.40647,     0.40483,     0.39998,     0.39814,     0.39548,      0.3855,     0.38088,     0.37806,     0.37162,      0.3692,     0.36762,     0.36281,     0.35645,      0.3538,     0.35098,     0.34703,\n",
      "            0.34118,        0.34,     0.33549,     0.33294,     0.33126,     0.32357,     0.31818,     0.31521,     0.30982,     0.30592,     0.30279,     0.29463,     0.29041,     0.28677,     0.28087,     0.27896,     0.27621,     0.26957,      0.2613,     0.25808,     0.25358,     0.24793,     0.24635,\n",
      "            0.24093,     0.23985,     0.23784,     0.23446,     0.23137,     0.22673,     0.22193,     0.21819,     0.21454,     0.20372,     0.19537,     0.19213,     0.18151,      0.1797,     0.16863,     0.15875,     0.15493,     0.14939,     0.14725,     0.14584,     0.14469,     0.14082,     0.13784,\n",
      "             0.1303,     0.12837,     0.12768,       0.127,     0.12632,     0.12415,     0.12075,     0.10967,     0.10701,     0.10047,    0.095986,    0.094472,     0.09223,    0.087595,    0.084414,    0.079426,    0.078031,    0.073231,    0.069645,    0.064678,    0.063338,    0.062811,    0.062283,\n",
      "           0.061754,    0.061226,    0.060296,    0.056929,    0.052909,    0.052092,    0.051816,     0.05154,    0.051263,    0.050987,     0.05071,    0.050433,    0.050157,     0.04988,    0.049603,    0.045942,    0.044044,     0.04152,    0.040454,    0.039833,    0.039212,    0.038591,    0.035123,\n",
      "             0.0344,    0.033677,    0.032953,    0.032283,    0.032075,    0.031867,    0.031658,     0.03145,    0.031241,    0.031033,    0.030824,    0.030616,    0.030407,    0.030199,     0.02999,    0.029781,    0.029572,    0.027217,    0.025568,     0.02455,    0.023492,     0.02189,    0.020246,\n",
      "           0.018473,    0.016517,    0.014365,    0.011904,   0.0088824,   0.0076969,     0.00651,   0.0057584,   0.0053926,   0.0050267,   0.0046607,   0.0042945,   0.0039282,   0.0035618,   0.0031952,           0,           0,           0,           0,           0,           0,           0,           0,\n",
      "                  0,           0,           0,           0,           0,           0,           0,           0,           0,           0,           0]]), 'Confidence', 'F1'], [array([          0,    0.001001,    0.002002,    0.003003,    0.004004,    0.005005,    0.006006,    0.007007,    0.008008,    0.009009,     0.01001,    0.011011,    0.012012,    0.013013,    0.014014,    0.015015,    0.016016,    0.017017,    0.018018,    0.019019,     0.02002,    0.021021,    0.022022,    0.023023,\n",
      "          0.024024,    0.025025,    0.026026,    0.027027,    0.028028,    0.029029,     0.03003,    0.031031,    0.032032,    0.033033,    0.034034,    0.035035,    0.036036,    0.037037,    0.038038,    0.039039,     0.04004,    0.041041,    0.042042,    0.043043,    0.044044,    0.045045,    0.046046,    0.047047,\n",
      "          0.048048,    0.049049,     0.05005,    0.051051,    0.052052,    0.053053,    0.054054,    0.055055,    0.056056,    0.057057,    0.058058,    0.059059,     0.06006,    0.061061,    0.062062,    0.063063,    0.064064,    0.065065,    0.066066,    0.067067,    0.068068,    0.069069,     0.07007,    0.071071,\n",
      "          0.072072,    0.073073,    0.074074,    0.075075,    0.076076,    0.077077,    0.078078,    0.079079,     0.08008,    0.081081,    0.082082,    0.083083,    0.084084,    0.085085,    0.086086,    0.087087,    0.088088,    0.089089,     0.09009,    0.091091,    0.092092,    0.093093,    0.094094,    0.095095,\n",
      "          0.096096,    0.097097,    0.098098,    0.099099,      0.1001,      0.1011,      0.1021,      0.1031,      0.1041,     0.10511,     0.10611,     0.10711,     0.10811,     0.10911,     0.11011,     0.11111,     0.11211,     0.11311,     0.11411,     0.11512,     0.11612,     0.11712,     0.11812,     0.11912,\n",
      "           0.12012,     0.12112,     0.12212,     0.12312,     0.12412,     0.12513,     0.12613,     0.12713,     0.12813,     0.12913,     0.13013,     0.13113,     0.13213,     0.13313,     0.13413,     0.13514,     0.13614,     0.13714,     0.13814,     0.13914,     0.14014,     0.14114,     0.14214,     0.14314,\n",
      "           0.14414,     0.14515,     0.14615,     0.14715,     0.14815,     0.14915,     0.15015,     0.15115,     0.15215,     0.15315,     0.15415,     0.15516,     0.15616,     0.15716,     0.15816,     0.15916,     0.16016,     0.16116,     0.16216,     0.16316,     0.16416,     0.16517,     0.16617,     0.16717,\n",
      "           0.16817,     0.16917,     0.17017,     0.17117,     0.17217,     0.17317,     0.17417,     0.17518,     0.17618,     0.17718,     0.17818,     0.17918,     0.18018,     0.18118,     0.18218,     0.18318,     0.18418,     0.18519,     0.18619,     0.18719,     0.18819,     0.18919,     0.19019,     0.19119,\n",
      "           0.19219,     0.19319,     0.19419,      0.1952,      0.1962,      0.1972,      0.1982,      0.1992,      0.2002,      0.2012,      0.2022,      0.2032,      0.2042,     0.20521,     0.20621,     0.20721,     0.20821,     0.20921,     0.21021,     0.21121,     0.21221,     0.21321,     0.21421,     0.21522,\n",
      "           0.21622,     0.21722,     0.21822,     0.21922,     0.22022,     0.22122,     0.22222,     0.22322,     0.22422,     0.22523,     0.22623,     0.22723,     0.22823,     0.22923,     0.23023,     0.23123,     0.23223,     0.23323,     0.23423,     0.23524,     0.23624,     0.23724,     0.23824,     0.23924,\n",
      "           0.24024,     0.24124,     0.24224,     0.24324,     0.24424,     0.24525,     0.24625,     0.24725,     0.24825,     0.24925,     0.25025,     0.25125,     0.25225,     0.25325,     0.25425,     0.25526,     0.25626,     0.25726,     0.25826,     0.25926,     0.26026,     0.26126,     0.26226,     0.26326,\n",
      "           0.26426,     0.26527,     0.26627,     0.26727,     0.26827,     0.26927,     0.27027,     0.27127,     0.27227,     0.27327,     0.27427,     0.27528,     0.27628,     0.27728,     0.27828,     0.27928,     0.28028,     0.28128,     0.28228,     0.28328,     0.28428,     0.28529,     0.28629,     0.28729,\n",
      "           0.28829,     0.28929,     0.29029,     0.29129,     0.29229,     0.29329,     0.29429,      0.2953,      0.2963,      0.2973,      0.2983,      0.2993,      0.3003,      0.3013,      0.3023,      0.3033,      0.3043,     0.30531,     0.30631,     0.30731,     0.30831,     0.30931,     0.31031,     0.31131,\n",
      "           0.31231,     0.31331,     0.31431,     0.31532,     0.31632,     0.31732,     0.31832,     0.31932,     0.32032,     0.32132,     0.32232,     0.32332,     0.32432,     0.32533,     0.32633,     0.32733,     0.32833,     0.32933,     0.33033,     0.33133,     0.33233,     0.33333,     0.33433,     0.33534,\n",
      "           0.33634,     0.33734,     0.33834,     0.33934,     0.34034,     0.34134,     0.34234,     0.34334,     0.34434,     0.34535,     0.34635,     0.34735,     0.34835,     0.34935,     0.35035,     0.35135,     0.35235,     0.35335,     0.35435,     0.35536,     0.35636,     0.35736,     0.35836,     0.35936,\n",
      "           0.36036,     0.36136,     0.36236,     0.36336,     0.36436,     0.36537,     0.36637,     0.36737,     0.36837,     0.36937,     0.37037,     0.37137,     0.37237,     0.37337,     0.37437,     0.37538,     0.37638,     0.37738,     0.37838,     0.37938,     0.38038,     0.38138,     0.38238,     0.38338,\n",
      "           0.38438,     0.38539,     0.38639,     0.38739,     0.38839,     0.38939,     0.39039,     0.39139,     0.39239,     0.39339,     0.39439,      0.3954,      0.3964,      0.3974,      0.3984,      0.3994,      0.4004,      0.4014,      0.4024,      0.4034,      0.4044,     0.40541,     0.40641,     0.40741,\n",
      "           0.40841,     0.40941,     0.41041,     0.41141,     0.41241,     0.41341,     0.41441,     0.41542,     0.41642,     0.41742,     0.41842,     0.41942,     0.42042,     0.42142,     0.42242,     0.42342,     0.42442,     0.42543,     0.42643,     0.42743,     0.42843,     0.42943,     0.43043,     0.43143,\n",
      "           0.43243,     0.43343,     0.43443,     0.43544,     0.43644,     0.43744,     0.43844,     0.43944,     0.44044,     0.44144,     0.44244,     0.44344,     0.44444,     0.44545,     0.44645,     0.44745,     0.44845,     0.44945,     0.45045,     0.45145,     0.45245,     0.45345,     0.45445,     0.45546,\n",
      "           0.45646,     0.45746,     0.45846,     0.45946,     0.46046,     0.46146,     0.46246,     0.46346,     0.46446,     0.46547,     0.46647,     0.46747,     0.46847,     0.46947,     0.47047,     0.47147,     0.47247,     0.47347,     0.47447,     0.47548,     0.47648,     0.47748,     0.47848,     0.47948,\n",
      "           0.48048,     0.48148,     0.48248,     0.48348,     0.48448,     0.48549,     0.48649,     0.48749,     0.48849,     0.48949,     0.49049,     0.49149,     0.49249,     0.49349,     0.49449,      0.4955,      0.4965,      0.4975,      0.4985,      0.4995,      0.5005,      0.5015,      0.5025,      0.5035,\n",
      "            0.5045,     0.50551,     0.50651,     0.50751,     0.50851,     0.50951,     0.51051,     0.51151,     0.51251,     0.51351,     0.51451,     0.51552,     0.51652,     0.51752,     0.51852,     0.51952,     0.52052,     0.52152,     0.52252,     0.52352,     0.52452,     0.52553,     0.52653,     0.52753,\n",
      "           0.52853,     0.52953,     0.53053,     0.53153,     0.53253,     0.53353,     0.53453,     0.53554,     0.53654,     0.53754,     0.53854,     0.53954,     0.54054,     0.54154,     0.54254,     0.54354,     0.54454,     0.54555,     0.54655,     0.54755,     0.54855,     0.54955,     0.55055,     0.55155,\n",
      "           0.55255,     0.55355,     0.55455,     0.55556,     0.55656,     0.55756,     0.55856,     0.55956,     0.56056,     0.56156,     0.56256,     0.56356,     0.56456,     0.56557,     0.56657,     0.56757,     0.56857,     0.56957,     0.57057,     0.57157,     0.57257,     0.57357,     0.57457,     0.57558,\n",
      "           0.57658,     0.57758,     0.57858,     0.57958,     0.58058,     0.58158,     0.58258,     0.58358,     0.58458,     0.58559,     0.58659,     0.58759,     0.58859,     0.58959,     0.59059,     0.59159,     0.59259,     0.59359,     0.59459,      0.5956,      0.5966,      0.5976,      0.5986,      0.5996,\n",
      "            0.6006,      0.6016,      0.6026,      0.6036,      0.6046,     0.60561,     0.60661,     0.60761,     0.60861,     0.60961,     0.61061,     0.61161,     0.61261,     0.61361,     0.61461,     0.61562,     0.61662,     0.61762,     0.61862,     0.61962,     0.62062,     0.62162,     0.62262,     0.62362,\n",
      "           0.62462,     0.62563,     0.62663,     0.62763,     0.62863,     0.62963,     0.63063,     0.63163,     0.63263,     0.63363,     0.63463,     0.63564,     0.63664,     0.63764,     0.63864,     0.63964,     0.64064,     0.64164,     0.64264,     0.64364,     0.64464,     0.64565,     0.64665,     0.64765,\n",
      "           0.64865,     0.64965,     0.65065,     0.65165,     0.65265,     0.65365,     0.65465,     0.65566,     0.65666,     0.65766,     0.65866,     0.65966,     0.66066,     0.66166,     0.66266,     0.66366,     0.66466,     0.66567,     0.66667,     0.66767,     0.66867,     0.66967,     0.67067,     0.67167,\n",
      "           0.67267,     0.67367,     0.67467,     0.67568,     0.67668,     0.67768,     0.67868,     0.67968,     0.68068,     0.68168,     0.68268,     0.68368,     0.68468,     0.68569,     0.68669,     0.68769,     0.68869,     0.68969,     0.69069,     0.69169,     0.69269,     0.69369,     0.69469,      0.6957,\n",
      "            0.6967,      0.6977,      0.6987,      0.6997,      0.7007,      0.7017,      0.7027,      0.7037,      0.7047,     0.70571,     0.70671,     0.70771,     0.70871,     0.70971,     0.71071,     0.71171,     0.71271,     0.71371,     0.71471,     0.71572,     0.71672,     0.71772,     0.71872,     0.71972,\n",
      "           0.72072,     0.72172,     0.72272,     0.72372,     0.72472,     0.72573,     0.72673,     0.72773,     0.72873,     0.72973,     0.73073,     0.73173,     0.73273,     0.73373,     0.73473,     0.73574,     0.73674,     0.73774,     0.73874,     0.73974,     0.74074,     0.74174,     0.74274,     0.74374,\n",
      "           0.74474,     0.74575,     0.74675,     0.74775,     0.74875,     0.74975,     0.75075,     0.75175,     0.75275,     0.75375,     0.75475,     0.75576,     0.75676,     0.75776,     0.75876,     0.75976,     0.76076,     0.76176,     0.76276,     0.76376,     0.76476,     0.76577,     0.76677,     0.76777,\n",
      "           0.76877,     0.76977,     0.77077,     0.77177,     0.77277,     0.77377,     0.77477,     0.77578,     0.77678,     0.77778,     0.77878,     0.77978,     0.78078,     0.78178,     0.78278,     0.78378,     0.78478,     0.78579,     0.78679,     0.78779,     0.78879,     0.78979,     0.79079,     0.79179,\n",
      "           0.79279,     0.79379,     0.79479,      0.7958,      0.7968,      0.7978,      0.7988,      0.7998,      0.8008,      0.8018,      0.8028,      0.8038,      0.8048,     0.80581,     0.80681,     0.80781,     0.80881,     0.80981,     0.81081,     0.81181,     0.81281,     0.81381,     0.81481,     0.81582,\n",
      "           0.81682,     0.81782,     0.81882,     0.81982,     0.82082,     0.82182,     0.82282,     0.82382,     0.82482,     0.82583,     0.82683,     0.82783,     0.82883,     0.82983,     0.83083,     0.83183,     0.83283,     0.83383,     0.83483,     0.83584,     0.83684,     0.83784,     0.83884,     0.83984,\n",
      "           0.84084,     0.84184,     0.84284,     0.84384,     0.84484,     0.84585,     0.84685,     0.84785,     0.84885,     0.84985,     0.85085,     0.85185,     0.85285,     0.85385,     0.85485,     0.85586,     0.85686,     0.85786,     0.85886,     0.85986,     0.86086,     0.86186,     0.86286,     0.86386,\n",
      "           0.86486,     0.86587,     0.86687,     0.86787,     0.86887,     0.86987,     0.87087,     0.87187,     0.87287,     0.87387,     0.87487,     0.87588,     0.87688,     0.87788,     0.87888,     0.87988,     0.88088,     0.88188,     0.88288,     0.88388,     0.88488,     0.88589,     0.88689,     0.88789,\n",
      "           0.88889,     0.88989,     0.89089,     0.89189,     0.89289,     0.89389,     0.89489,      0.8959,      0.8969,      0.8979,      0.8989,      0.8999,      0.9009,      0.9019,      0.9029,      0.9039,      0.9049,     0.90591,     0.90691,     0.90791,     0.90891,     0.90991,     0.91091,     0.91191,\n",
      "           0.91291,     0.91391,     0.91491,     0.91592,     0.91692,     0.91792,     0.91892,     0.91992,     0.92092,     0.92192,     0.92292,     0.92392,     0.92492,     0.92593,     0.92693,     0.92793,     0.92893,     0.92993,     0.93093,     0.93193,     0.93293,     0.93393,     0.93493,     0.93594,\n",
      "           0.93694,     0.93794,     0.93894,     0.93994,     0.94094,     0.94194,     0.94294,     0.94394,     0.94494,     0.94595,     0.94695,     0.94795,     0.94895,     0.94995,     0.95095,     0.95195,     0.95295,     0.95395,     0.95495,     0.95596,     0.95696,     0.95796,     0.95896,     0.95996,\n",
      "           0.96096,     0.96196,     0.96296,     0.96396,     0.96496,     0.96597,     0.96697,     0.96797,     0.96897,     0.96997,     0.97097,     0.97197,     0.97297,     0.97397,     0.97497,     0.97598,     0.97698,     0.97798,     0.97898,     0.97998,     0.98098,     0.98198,     0.98298,     0.98398,\n",
      "           0.98498,     0.98599,     0.98699,     0.98799,     0.98899,     0.98999,     0.99099,     0.99199,     0.99299,     0.99399,     0.99499,       0.996,       0.997,       0.998,       0.999,           1]), array([[    0.15594,     0.15597,     0.20014,     0.22397,     0.24084,     0.25129,     0.26114,     0.26903,     0.27479,     0.27916,     0.28314,     0.28743,     0.29056,     0.29306,     0.29589,     0.29962,     0.30272,     0.30455,     0.30571,     0.30713,     0.30916,     0.31041,     0.31179,\n",
      "             0.3125,     0.31365,     0.31596,     0.31738,      0.3187,     0.31945,     0.32059,     0.32154,     0.32269,     0.32374,     0.32419,     0.32507,     0.32564,      0.3267,     0.32805,     0.32832,     0.32963,     0.33046,     0.33212,     0.33377,     0.33446,     0.33503,     0.33566,\n",
      "            0.33617,     0.33705,      0.3376,     0.33831,     0.33886,     0.33955,     0.33943,     0.34031,     0.34123,     0.34159,     0.34211,     0.34311,      0.3437,     0.34419,     0.34503,     0.34635,     0.34697,     0.34776,     0.34881,     0.34939,     0.34938,     0.35033,     0.35063,\n",
      "            0.35088,     0.35112,     0.35123,     0.35167,      0.3523,     0.35358,     0.35499,     0.35639,     0.35675,     0.35722,     0.35761,     0.35771,     0.35807,     0.35838,      0.3588,     0.36006,      0.3612,     0.36279,     0.36364,      0.3636,     0.36404,     0.36506,     0.36646,\n",
      "            0.36694,     0.36772,     0.36993,     0.37127,     0.37188,     0.37203,     0.37282,     0.37385,     0.37545,     0.37666,     0.37691,      0.3771,     0.37733,     0.37755,     0.37774,     0.37832,     0.37894,     0.37973,     0.38062,     0.38103,     0.38259,     0.38251,      0.3837,\n",
      "            0.38456,     0.38555,     0.38606,     0.38656,     0.38821,     0.38898,      0.3906,     0.39125,     0.39245,     0.39303,     0.39304,     0.39366,     0.39475,     0.39509,     0.39665,     0.39836,     0.39878,     0.39951,     0.40093,     0.40124,     0.40395,     0.40536,     0.40565,\n",
      "            0.40587,     0.40617,     0.40645,     0.40742,     0.40761,     0.40798,     0.40947,     0.41014,     0.41072,     0.41159,     0.41312,     0.41529,     0.41633,     0.41809,     0.41986,     0.42104,     0.42195,     0.42263,     0.42394,     0.42494,     0.42604,     0.42641,     0.42747,\n",
      "            0.42824,     0.43035,     0.43116,     0.43258,     0.43293,       0.434,     0.43445,     0.43557,     0.43561,     0.43584,     0.43779,     0.43773,     0.44101,     0.44318,     0.44466,     0.44557,     0.44525,     0.44603,     0.44782,     0.44892,     0.44859,     0.44933,     0.45022,\n",
      "             0.4517,     0.45352,     0.45426,     0.45585,     0.45569,     0.45618,     0.45718,     0.45845,     0.45902,     0.46027,     0.46135,     0.46277,     0.46352,     0.46425,     0.46451,     0.46451,     0.46592,     0.46675,     0.46795,      0.4679,     0.46808,     0.46779,     0.46874,\n",
      "            0.46921,     0.47015,     0.47093,      0.4727,     0.47398,     0.47704,     0.47837,     0.48267,     0.48497,       0.485,      0.4876,     0.48757,     0.48951,     0.49173,     0.49277,     0.49435,     0.49589,     0.49672,     0.49773,     0.49912,     0.49969,     0.50106,     0.50325,\n",
      "            0.50517,     0.50696,     0.50717,     0.50863,     0.51171,     0.51578,     0.51597,     0.51774,     0.52124,     0.52393,     0.52666,     0.52938,     0.53091,     0.53116,     0.53121,      0.5314,     0.53132,     0.53283,     0.53443,     0.53809,     0.53973,     0.54103,     0.54238,\n",
      "             0.5446,     0.54797,     0.55105,     0.55435,     0.55701,      0.5576,     0.55803,     0.56084,     0.56388,     0.56817,      0.5716,     0.57447,     0.57496,     0.57604,     0.57841,     0.58018,     0.58213,     0.58492,     0.58785,     0.58791,     0.58856,     0.58887,     0.58867,\n",
      "            0.58879,      0.5891,        0.59,     0.59163,     0.59392,     0.59499,     0.59609,     0.59776,     0.59867,     0.59836,     0.59958,     0.60251,     0.60441,     0.60375,     0.60632,     0.60791,     0.60951,     0.60967,     0.61119,     0.61096,     0.61073,      0.6138,      0.6151,\n",
      "            0.61661,     0.61603,     0.61521,     0.61646,      0.6172,      0.6175,     0.61804,     0.61862,     0.62081,     0.62204,     0.62222,     0.62276,     0.62298,      0.6243,      0.6252,     0.62749,      0.6275,     0.63065,     0.63045,     0.63085,     0.63206,     0.63173,     0.63216,\n",
      "            0.63318,      0.6343,     0.63598,     0.63761,     0.63967,     0.64057,     0.64136,     0.64104,     0.64073,      0.6405,     0.64532,     0.64708,     0.64884,     0.64818,     0.64732,     0.64636,     0.64679,     0.64739,     0.64825,     0.64857,      0.6503,     0.65069,     0.65214,\n",
      "            0.65298,     0.65316,     0.65404,      0.6551,     0.65738,     0.65913,     0.66155,      0.6627,     0.66441,     0.66635,     0.66731,     0.66941,     0.67085,     0.67342,     0.67404,     0.67545,     0.67683,     0.67763,     0.68199,      0.6848,     0.68407,     0.68652,     0.68743,\n",
      "            0.68975,     0.69308,     0.69269,     0.69356,     0.69328,     0.69442,     0.69417,      0.6957,     0.69722,     0.69692,     0.69656,     0.69699,     0.69742,     0.69837,     0.69824,     0.69868,     0.69914,     0.69968,      0.7003,     0.70169,     0.70274,     0.70319,     0.70378,\n",
      "            0.70489,     0.70492,     0.70563,     0.70781,     0.71213,     0.71333,     0.71527,     0.71712,     0.71775,     0.72008,     0.72105,     0.72163,     0.72234,     0.72288,     0.72388,     0.72502,     0.72446,     0.72504,     0.72542,     0.72515,     0.72612,     0.72552,     0.72811,\n",
      "            0.73019,     0.73054,     0.73089,     0.73132,     0.73331,      0.7335,     0.73534,     0.73715,     0.73708,     0.73694,     0.73679,     0.73892,     0.73948,     0.74003,     0.74072,     0.73992,     0.74007,     0.74097,     0.74086,     0.74074,     0.74063,     0.74171,     0.74153,\n",
      "            0.74096,     0.74346,     0.74432,     0.74521,     0.74643,     0.74693,     0.74744,     0.74869,     0.74938,     0.74992,     0.75029,     0.75218,     0.75519,     0.75649,     0.75932,     0.76112,     0.76194,     0.76237,     0.76281,     0.76474,       0.766,     0.76562,     0.76685,\n",
      "            0.76663,     0.76737,     0.77043,     0.77369,     0.77381,     0.77616,     0.77786,     0.77885,     0.77931,     0.77976,     0.78023,     0.78075,     0.78126,     0.78182,     0.78255,     0.78309,     0.78673,      0.7877,     0.78818,     0.78865,     0.78876,     0.78828,     0.78837,\n",
      "            0.78878,     0.78919,      0.7896,     0.79056,     0.79264,     0.79466,     0.79749,     0.79874,     0.79852,     0.79958,     0.80139,     0.80402,     0.80368,     0.80296,      0.8044,     0.80412,     0.80381,     0.80339,     0.80265,      0.8043,     0.80491,     0.80552,     0.80674,\n",
      "            0.81066,     0.81581,     0.81669,      0.8173,     0.81777,     0.81866,     0.81831,       0.818,     0.81889,     0.81913,      0.8195,     0.82069,      0.8208,       0.822,     0.82197,      0.8218,     0.82148,     0.82308,     0.82245,     0.82362,     0.82597,     0.82587,     0.82576,\n",
      "            0.82566,     0.82555,     0.82544,     0.82532,      0.8254,     0.82694,     0.82652,     0.82621,     0.82772,     0.82764,     0.82757,     0.82749,     0.82741,     0.82761,     0.82882,     0.83302,     0.83334,     0.83366,     0.83398,      0.8343,     0.83463,      0.8345,     0.83621,\n",
      "            0.83578,     0.83674,     0.83744,     0.83789,     0.83891,     0.84243,     0.84209,     0.84354,     0.84478,     0.84577,     0.84648,     0.84719,     0.84742,      0.8471,     0.85279,      0.8548,     0.85748,      0.8587,      0.8605,     0.86076,     0.86264,     0.86435,     0.86424,\n",
      "            0.86412,     0.86491,     0.86616,     0.86582,     0.86569,     0.86555,     0.86554,     0.86644,     0.86743,     0.86934,     0.86919,     0.86959,     0.86998,     0.87037,     0.87077,     0.87116,      0.8711,     0.87344,     0.87475,     0.87611,      0.8774,     0.87861,     0.87894,\n",
      "            0.88294,     0.88412,     0.88495,     0.88457,     0.88447,     0.88437,     0.88532,     0.88663,      0.8873,     0.88798,     0.88969,     0.89034,     0.89283,     0.89409,     0.89474,     0.89581,     0.89689,     0.89717,     0.89772,     0.89827,     0.89882,     0.90099,     0.90149,\n",
      "            0.90136,     0.90105,     0.90089,     0.90252,     0.90266,     0.90246,     0.90473,     0.90439,     0.90419,     0.90405,     0.90394,     0.90401,     0.90533,      0.9063,     0.90613,     0.90851,     0.90838,     0.90841,     0.91057,     0.91547,      0.9154,     0.91533,     0.91526,\n",
      "            0.91578,     0.91961,      0.9207,     0.92189,     0.92212,     0.92292,     0.92371,      0.9245,     0.92717,     0.92961,     0.92954,     0.92948,     0.92941,     0.92938,     0.92935,     0.92932,     0.92929,     0.92926,     0.92923,     0.92921,     0.93172,     0.93167,     0.93161,\n",
      "            0.93156,     0.93163,     0.93238,     0.93313,     0.93388,     0.93532,     0.93715,     0.93953,     0.94533,     0.95085,     0.95109,     0.95271,     0.95353,     0.95348,     0.95342,      0.9559,     0.95677,     0.95723,      0.9577,     0.95817,     0.95864,     0.95911,     0.95925,\n",
      "             0.9592,     0.95915,     0.95897,     0.96495,     0.96626,     0.96862,     0.96964,     0.97066,       0.971,     0.97084,     0.97079,     0.97068,     0.97062,     0.97058,     0.97057,     0.97055,     0.97054,     0.97052,      0.9705,     0.97049,     0.97046,     0.97044,     0.97042,\n",
      "             0.9704,     0.97015,     0.97008,     0.97005,     0.97002,     0.96998,     0.96994,      0.9698,      0.9696,     0.96946,     0.96943,      0.9694,     0.97045,     0.97255,     0.97321,     0.97475,     0.97923,      0.9792,     0.97916,     0.97913,     0.97911,     0.97907,     0.97904,\n",
      "            0.97898,     0.97908,      0.9811,      0.9823,     0.98353,     0.98562,     0.98569,     0.98562,     0.98549,     0.98543,     0.98538,     0.98533,     0.98527,     0.98521,     0.98517,     0.98514,     0.98512,     0.98511,      0.9851,     0.98508,     0.98507,     0.98505,     0.98503,\n",
      "            0.98501,     0.98497,     0.98488,     0.98484,     0.98478,     0.98473,     0.98461,     0.98457,     0.98452,     0.98442,     0.98438,     0.98436,     0.98434,     0.98432,     0.98811,     0.98805,     0.98802,       0.988,      0.9879,     0.98787,     0.98784,     0.98782,     0.98775,\n",
      "            0.98771,     0.98767,     0.98764,     0.98762,      0.9876,     0.98743,     0.98728,      0.9872,     0.98712,     0.98705,     0.98701,     0.98696,     0.98689,     0.98687,     0.98685,     0.98678,     0.98673,     0.98664,     0.98661,     0.98656,     0.99086,      0.9908,     0.99072,\n",
      "            0.99066,     0.99072,     0.99524,     0.99523,     0.99522,     0.99522,           1,           1,           1,           1,           1,           1,           1,           1,           1,           1,           1,           1,           1,           1,           1,           1,           1,\n",
      "                  1,           1,           1,           1,           1,           1,           1,           1,           1,           1,           1,           1,           1,           1,           1,           1,           1,           1,           1,           1,           1,           1,           1,\n",
      "                  1,           1,           1,           1,           1,           1,           1,           1,           1,           1,           1,           1,           1,           1,           1,           1,           1,           1,           1,           1,           1,           1,           1,\n",
      "                  1,           1,           1,           1,           1,           1,           1,           1,           1,           1,           1,           1,           1,           1,           1,           1,           1,           1,           1,           1,           1,           1,           1,\n",
      "                  1,           1,           1,           1,           1,           1,           1,           1,           1,           1,           1,           1,           1,           1,           1,           1,           1,           1,           1,           1,           1,           1,           1,\n",
      "                  1,           1,           1,           1,           1,           1,           1,           1,           1,           1,           1,           1,           1,           1,           1,           1,           1,           1,           1,           1,           1,           1,           1,\n",
      "                  1,           1,           1,           1,           1,           1,           1,           1,           1,           1,           1,           1,           1,           1,           1,           1,           1,           1,           1,           1,           1,           1,           1,\n",
      "                  1,           1,           1,           1,           1,           1,           1,           1,           1,           1,           1,           1,           1,           1,           1,           1,           1,           1,           1,           1,           1,           1,           1,\n",
      "                  1,           1,           1,           1,           1,           1,           1,           1,           1,           1,           1]]), 'Confidence', 'Precision'], [array([          0,    0.001001,    0.002002,    0.003003,    0.004004,    0.005005,    0.006006,    0.007007,    0.008008,    0.009009,     0.01001,    0.011011,    0.012012,    0.013013,    0.014014,    0.015015,    0.016016,    0.017017,    0.018018,    0.019019,     0.02002,    0.021021,    0.022022,    0.023023,\n",
      "          0.024024,    0.025025,    0.026026,    0.027027,    0.028028,    0.029029,     0.03003,    0.031031,    0.032032,    0.033033,    0.034034,    0.035035,    0.036036,    0.037037,    0.038038,    0.039039,     0.04004,    0.041041,    0.042042,    0.043043,    0.044044,    0.045045,    0.046046,    0.047047,\n",
      "          0.048048,    0.049049,     0.05005,    0.051051,    0.052052,    0.053053,    0.054054,    0.055055,    0.056056,    0.057057,    0.058058,    0.059059,     0.06006,    0.061061,    0.062062,    0.063063,    0.064064,    0.065065,    0.066066,    0.067067,    0.068068,    0.069069,     0.07007,    0.071071,\n",
      "          0.072072,    0.073073,    0.074074,    0.075075,    0.076076,    0.077077,    0.078078,    0.079079,     0.08008,    0.081081,    0.082082,    0.083083,    0.084084,    0.085085,    0.086086,    0.087087,    0.088088,    0.089089,     0.09009,    0.091091,    0.092092,    0.093093,    0.094094,    0.095095,\n",
      "          0.096096,    0.097097,    0.098098,    0.099099,      0.1001,      0.1011,      0.1021,      0.1031,      0.1041,     0.10511,     0.10611,     0.10711,     0.10811,     0.10911,     0.11011,     0.11111,     0.11211,     0.11311,     0.11411,     0.11512,     0.11612,     0.11712,     0.11812,     0.11912,\n",
      "           0.12012,     0.12112,     0.12212,     0.12312,     0.12412,     0.12513,     0.12613,     0.12713,     0.12813,     0.12913,     0.13013,     0.13113,     0.13213,     0.13313,     0.13413,     0.13514,     0.13614,     0.13714,     0.13814,     0.13914,     0.14014,     0.14114,     0.14214,     0.14314,\n",
      "           0.14414,     0.14515,     0.14615,     0.14715,     0.14815,     0.14915,     0.15015,     0.15115,     0.15215,     0.15315,     0.15415,     0.15516,     0.15616,     0.15716,     0.15816,     0.15916,     0.16016,     0.16116,     0.16216,     0.16316,     0.16416,     0.16517,     0.16617,     0.16717,\n",
      "           0.16817,     0.16917,     0.17017,     0.17117,     0.17217,     0.17317,     0.17417,     0.17518,     0.17618,     0.17718,     0.17818,     0.17918,     0.18018,     0.18118,     0.18218,     0.18318,     0.18418,     0.18519,     0.18619,     0.18719,     0.18819,     0.18919,     0.19019,     0.19119,\n",
      "           0.19219,     0.19319,     0.19419,      0.1952,      0.1962,      0.1972,      0.1982,      0.1992,      0.2002,      0.2012,      0.2022,      0.2032,      0.2042,     0.20521,     0.20621,     0.20721,     0.20821,     0.20921,     0.21021,     0.21121,     0.21221,     0.21321,     0.21421,     0.21522,\n",
      "           0.21622,     0.21722,     0.21822,     0.21922,     0.22022,     0.22122,     0.22222,     0.22322,     0.22422,     0.22523,     0.22623,     0.22723,     0.22823,     0.22923,     0.23023,     0.23123,     0.23223,     0.23323,     0.23423,     0.23524,     0.23624,     0.23724,     0.23824,     0.23924,\n",
      "           0.24024,     0.24124,     0.24224,     0.24324,     0.24424,     0.24525,     0.24625,     0.24725,     0.24825,     0.24925,     0.25025,     0.25125,     0.25225,     0.25325,     0.25425,     0.25526,     0.25626,     0.25726,     0.25826,     0.25926,     0.26026,     0.26126,     0.26226,     0.26326,\n",
      "           0.26426,     0.26527,     0.26627,     0.26727,     0.26827,     0.26927,     0.27027,     0.27127,     0.27227,     0.27327,     0.27427,     0.27528,     0.27628,     0.27728,     0.27828,     0.27928,     0.28028,     0.28128,     0.28228,     0.28328,     0.28428,     0.28529,     0.28629,     0.28729,\n",
      "           0.28829,     0.28929,     0.29029,     0.29129,     0.29229,     0.29329,     0.29429,      0.2953,      0.2963,      0.2973,      0.2983,      0.2993,      0.3003,      0.3013,      0.3023,      0.3033,      0.3043,     0.30531,     0.30631,     0.30731,     0.30831,     0.30931,     0.31031,     0.31131,\n",
      "           0.31231,     0.31331,     0.31431,     0.31532,     0.31632,     0.31732,     0.31832,     0.31932,     0.32032,     0.32132,     0.32232,     0.32332,     0.32432,     0.32533,     0.32633,     0.32733,     0.32833,     0.32933,     0.33033,     0.33133,     0.33233,     0.33333,     0.33433,     0.33534,\n",
      "           0.33634,     0.33734,     0.33834,     0.33934,     0.34034,     0.34134,     0.34234,     0.34334,     0.34434,     0.34535,     0.34635,     0.34735,     0.34835,     0.34935,     0.35035,     0.35135,     0.35235,     0.35335,     0.35435,     0.35536,     0.35636,     0.35736,     0.35836,     0.35936,\n",
      "           0.36036,     0.36136,     0.36236,     0.36336,     0.36436,     0.36537,     0.36637,     0.36737,     0.36837,     0.36937,     0.37037,     0.37137,     0.37237,     0.37337,     0.37437,     0.37538,     0.37638,     0.37738,     0.37838,     0.37938,     0.38038,     0.38138,     0.38238,     0.38338,\n",
      "           0.38438,     0.38539,     0.38639,     0.38739,     0.38839,     0.38939,     0.39039,     0.39139,     0.39239,     0.39339,     0.39439,      0.3954,      0.3964,      0.3974,      0.3984,      0.3994,      0.4004,      0.4014,      0.4024,      0.4034,      0.4044,     0.40541,     0.40641,     0.40741,\n",
      "           0.40841,     0.40941,     0.41041,     0.41141,     0.41241,     0.41341,     0.41441,     0.41542,     0.41642,     0.41742,     0.41842,     0.41942,     0.42042,     0.42142,     0.42242,     0.42342,     0.42442,     0.42543,     0.42643,     0.42743,     0.42843,     0.42943,     0.43043,     0.43143,\n",
      "           0.43243,     0.43343,     0.43443,     0.43544,     0.43644,     0.43744,     0.43844,     0.43944,     0.44044,     0.44144,     0.44244,     0.44344,     0.44444,     0.44545,     0.44645,     0.44745,     0.44845,     0.44945,     0.45045,     0.45145,     0.45245,     0.45345,     0.45445,     0.45546,\n",
      "           0.45646,     0.45746,     0.45846,     0.45946,     0.46046,     0.46146,     0.46246,     0.46346,     0.46446,     0.46547,     0.46647,     0.46747,     0.46847,     0.46947,     0.47047,     0.47147,     0.47247,     0.47347,     0.47447,     0.47548,     0.47648,     0.47748,     0.47848,     0.47948,\n",
      "           0.48048,     0.48148,     0.48248,     0.48348,     0.48448,     0.48549,     0.48649,     0.48749,     0.48849,     0.48949,     0.49049,     0.49149,     0.49249,     0.49349,     0.49449,      0.4955,      0.4965,      0.4975,      0.4985,      0.4995,      0.5005,      0.5015,      0.5025,      0.5035,\n",
      "            0.5045,     0.50551,     0.50651,     0.50751,     0.50851,     0.50951,     0.51051,     0.51151,     0.51251,     0.51351,     0.51451,     0.51552,     0.51652,     0.51752,     0.51852,     0.51952,     0.52052,     0.52152,     0.52252,     0.52352,     0.52452,     0.52553,     0.52653,     0.52753,\n",
      "           0.52853,     0.52953,     0.53053,     0.53153,     0.53253,     0.53353,     0.53453,     0.53554,     0.53654,     0.53754,     0.53854,     0.53954,     0.54054,     0.54154,     0.54254,     0.54354,     0.54454,     0.54555,     0.54655,     0.54755,     0.54855,     0.54955,     0.55055,     0.55155,\n",
      "           0.55255,     0.55355,     0.55455,     0.55556,     0.55656,     0.55756,     0.55856,     0.55956,     0.56056,     0.56156,     0.56256,     0.56356,     0.56456,     0.56557,     0.56657,     0.56757,     0.56857,     0.56957,     0.57057,     0.57157,     0.57257,     0.57357,     0.57457,     0.57558,\n",
      "           0.57658,     0.57758,     0.57858,     0.57958,     0.58058,     0.58158,     0.58258,     0.58358,     0.58458,     0.58559,     0.58659,     0.58759,     0.58859,     0.58959,     0.59059,     0.59159,     0.59259,     0.59359,     0.59459,      0.5956,      0.5966,      0.5976,      0.5986,      0.5996,\n",
      "            0.6006,      0.6016,      0.6026,      0.6036,      0.6046,     0.60561,     0.60661,     0.60761,     0.60861,     0.60961,     0.61061,     0.61161,     0.61261,     0.61361,     0.61461,     0.61562,     0.61662,     0.61762,     0.61862,     0.61962,     0.62062,     0.62162,     0.62262,     0.62362,\n",
      "           0.62462,     0.62563,     0.62663,     0.62763,     0.62863,     0.62963,     0.63063,     0.63163,     0.63263,     0.63363,     0.63463,     0.63564,     0.63664,     0.63764,     0.63864,     0.63964,     0.64064,     0.64164,     0.64264,     0.64364,     0.64464,     0.64565,     0.64665,     0.64765,\n",
      "           0.64865,     0.64965,     0.65065,     0.65165,     0.65265,     0.65365,     0.65465,     0.65566,     0.65666,     0.65766,     0.65866,     0.65966,     0.66066,     0.66166,     0.66266,     0.66366,     0.66466,     0.66567,     0.66667,     0.66767,     0.66867,     0.66967,     0.67067,     0.67167,\n",
      "           0.67267,     0.67367,     0.67467,     0.67568,     0.67668,     0.67768,     0.67868,     0.67968,     0.68068,     0.68168,     0.68268,     0.68368,     0.68468,     0.68569,     0.68669,     0.68769,     0.68869,     0.68969,     0.69069,     0.69169,     0.69269,     0.69369,     0.69469,      0.6957,\n",
      "            0.6967,      0.6977,      0.6987,      0.6997,      0.7007,      0.7017,      0.7027,      0.7037,      0.7047,     0.70571,     0.70671,     0.70771,     0.70871,     0.70971,     0.71071,     0.71171,     0.71271,     0.71371,     0.71471,     0.71572,     0.71672,     0.71772,     0.71872,     0.71972,\n",
      "           0.72072,     0.72172,     0.72272,     0.72372,     0.72472,     0.72573,     0.72673,     0.72773,     0.72873,     0.72973,     0.73073,     0.73173,     0.73273,     0.73373,     0.73473,     0.73574,     0.73674,     0.73774,     0.73874,     0.73974,     0.74074,     0.74174,     0.74274,     0.74374,\n",
      "           0.74474,     0.74575,     0.74675,     0.74775,     0.74875,     0.74975,     0.75075,     0.75175,     0.75275,     0.75375,     0.75475,     0.75576,     0.75676,     0.75776,     0.75876,     0.75976,     0.76076,     0.76176,     0.76276,     0.76376,     0.76476,     0.76577,     0.76677,     0.76777,\n",
      "           0.76877,     0.76977,     0.77077,     0.77177,     0.77277,     0.77377,     0.77477,     0.77578,     0.77678,     0.77778,     0.77878,     0.77978,     0.78078,     0.78178,     0.78278,     0.78378,     0.78478,     0.78579,     0.78679,     0.78779,     0.78879,     0.78979,     0.79079,     0.79179,\n",
      "           0.79279,     0.79379,     0.79479,      0.7958,      0.7968,      0.7978,      0.7988,      0.7998,      0.8008,      0.8018,      0.8028,      0.8038,      0.8048,     0.80581,     0.80681,     0.80781,     0.80881,     0.80981,     0.81081,     0.81181,     0.81281,     0.81381,     0.81481,     0.81582,\n",
      "           0.81682,     0.81782,     0.81882,     0.81982,     0.82082,     0.82182,     0.82282,     0.82382,     0.82482,     0.82583,     0.82683,     0.82783,     0.82883,     0.82983,     0.83083,     0.83183,     0.83283,     0.83383,     0.83483,     0.83584,     0.83684,     0.83784,     0.83884,     0.83984,\n",
      "           0.84084,     0.84184,     0.84284,     0.84384,     0.84484,     0.84585,     0.84685,     0.84785,     0.84885,     0.84985,     0.85085,     0.85185,     0.85285,     0.85385,     0.85485,     0.85586,     0.85686,     0.85786,     0.85886,     0.85986,     0.86086,     0.86186,     0.86286,     0.86386,\n",
      "           0.86486,     0.86587,     0.86687,     0.86787,     0.86887,     0.86987,     0.87087,     0.87187,     0.87287,     0.87387,     0.87487,     0.87588,     0.87688,     0.87788,     0.87888,     0.87988,     0.88088,     0.88188,     0.88288,     0.88388,     0.88488,     0.88589,     0.88689,     0.88789,\n",
      "           0.88889,     0.88989,     0.89089,     0.89189,     0.89289,     0.89389,     0.89489,      0.8959,      0.8969,      0.8979,      0.8989,      0.8999,      0.9009,      0.9019,      0.9029,      0.9039,      0.9049,     0.90591,     0.90691,     0.90791,     0.90891,     0.90991,     0.91091,     0.91191,\n",
      "           0.91291,     0.91391,     0.91491,     0.91592,     0.91692,     0.91792,     0.91892,     0.91992,     0.92092,     0.92192,     0.92292,     0.92392,     0.92492,     0.92593,     0.92693,     0.92793,     0.92893,     0.92993,     0.93093,     0.93193,     0.93293,     0.93393,     0.93493,     0.93594,\n",
      "           0.93694,     0.93794,     0.93894,     0.93994,     0.94094,     0.94194,     0.94294,     0.94394,     0.94494,     0.94595,     0.94695,     0.94795,     0.94895,     0.94995,     0.95095,     0.95195,     0.95295,     0.95395,     0.95495,     0.95596,     0.95696,     0.95796,     0.95896,     0.95996,\n",
      "           0.96096,     0.96196,     0.96296,     0.96396,     0.96496,     0.96597,     0.96697,     0.96797,     0.96897,     0.96997,     0.97097,     0.97197,     0.97297,     0.97397,     0.97497,     0.97598,     0.97698,     0.97798,     0.97898,     0.97998,     0.98098,     0.98198,     0.98298,     0.98398,\n",
      "           0.98498,     0.98599,     0.98699,     0.98799,     0.98899,     0.98999,     0.99099,     0.99199,     0.99299,     0.99399,     0.99499,       0.996,       0.997,       0.998,       0.999,           1]), array([[    0.99851,     0.99851,     0.99851,     0.99851,     0.99851,     0.99851,     0.99851,     0.99851,     0.99851,     0.99851,     0.99851,     0.99851,     0.99851,     0.99851,     0.99851,     0.99851,     0.99851,     0.99851,     0.99701,     0.99552,     0.99552,     0.99503,     0.99403,\n",
      "            0.99403,     0.99403,     0.99403,     0.99403,     0.99403,     0.99254,     0.99254,     0.99104,     0.99104,     0.99104,     0.99104,     0.99104,     0.99104,     0.98955,     0.98955,     0.98955,     0.98955,     0.98955,     0.98955,     0.98851,     0.98806,     0.98806,     0.98657,\n",
      "            0.98657,     0.98657,     0.98657,     0.98657,     0.98507,     0.98507,     0.98358,     0.98209,     0.98209,     0.98209,     0.98209,     0.98209,     0.98209,     0.98209,     0.98209,     0.98209,     0.98209,      0.9806,      0.9806,      0.9806,      0.9791,      0.9791,     0.97761,\n",
      "            0.97612,     0.97612,     0.97612,     0.97612,     0.97612,     0.97612,     0.97612,     0.97612,     0.97612,     0.97612,     0.97612,     0.97463,     0.97463,     0.97463,     0.97463,     0.97463,     0.97313,     0.97313,     0.97313,     0.97164,     0.97164,     0.97164,     0.97164,\n",
      "            0.97015,     0.97015,     0.97015,     0.97015,     0.97015,     0.97015,     0.97015,     0.97015,     0.97015,     0.96953,     0.96866,     0.96866,     0.96866,     0.96866,     0.96866,     0.96866,     0.96866,     0.96866,     0.96866,     0.96471,     0.96418,     0.96269,     0.96269,\n",
      "            0.96269,     0.96269,     0.96269,     0.96269,     0.96269,     0.96269,     0.96269,     0.96269,     0.96269,     0.96269,     0.96167,     0.96119,     0.96119,     0.96023,      0.9597,      0.9597,      0.9597,      0.9597,     0.95821,     0.95522,     0.95522,     0.95522,     0.95522,\n",
      "            0.95373,     0.95224,     0.95224,     0.95224,     0.95075,     0.95075,     0.94925,     0.94925,     0.94925,     0.94925,     0.94925,     0.94925,     0.94776,     0.94776,     0.94776,     0.94328,     0.94132,      0.9403,      0.9403,     0.93881,     0.93731,     0.93582,     0.93582,\n",
      "            0.93433,     0.93433,     0.93332,     0.93284,     0.93134,     0.93042,     0.92836,     0.92836,     0.92537,     0.92388,     0.92388,      0.9209,      0.9209,      0.9209,     0.91791,      0.9164,     0.91522,     0.91493,     0.91493,     0.91187,     0.91045,     0.91045,     0.90937,\n",
      "            0.90896,     0.90746,     0.90597,     0.90597,     0.90299,     0.90144,         0.9,         0.9,     0.89787,     0.89701,     0.89701,     0.89484,     0.89254,      0.8924,     0.89104,     0.88806,     0.88806,     0.88657,     0.88507,     0.88209,     0.88131,      0.8791,     0.87761,\n",
      "            0.87463,     0.87463,     0.87313,     0.87236,     0.86866,     0.86567,     0.86567,     0.86567,     0.86418,     0.86305,     0.86119,      0.8597,      0.8597,     0.85373,     0.85373,     0.85075,     0.85075,     0.85075,     0.85046,     0.84626,     0.84374,     0.84238,      0.8403,\n",
      "            0.83956,     0.83433,     0.83134,     0.82985,     0.82898,      0.8283,     0.82537,     0.82388,     0.82388,     0.82388,     0.82388,     0.82388,     0.82267,      0.8209,      0.8194,     0.81751,     0.81557,     0.81371,     0.81194,     0.81194,     0.81194,     0.81045,     0.80896,\n",
      "            0.80746,     0.80597,     0.80597,     0.80448,     0.80448,     0.80325,         0.8,     0.79851,     0.79851,     0.79552,     0.79552,     0.79403,     0.78941,     0.78657,     0.78507,     0.78507,     0.78507,     0.78507,     0.78507,     0.78359,      0.7806,     0.78031,     0.77965,\n",
      "             0.7791,     0.77612,     0.77537,     0.77463,     0.77277,     0.77164,     0.77164,     0.76866,     0.76588,     0.76418,     0.76418,     0.76418,     0.76393,      0.7597,     0.75821,     0.75821,     0.75821,     0.75672,     0.75672,     0.75474,     0.75167,     0.75075,     0.75075,\n",
      "            0.74895,     0.74471,     0.73738,     0.73731,     0.73582,      0.7349,     0.73433,     0.73284,     0.73134,     0.73134,     0.72985,     0.72931,     0.72836,     0.72836,     0.72699,     0.72687,     0.72239,     0.72239,     0.72059,     0.71927,      0.7179,     0.71689,     0.71493,\n",
      "            0.71493,     0.71493,     0.71343,     0.71343,     0.71194,     0.70746,     0.70732,     0.70632,     0.70538,     0.70448,     0.70149,     0.70149,     0.70049,     0.69569,     0.69307,     0.69017,     0.68875,     0.68806,     0.68806,     0.68587,     0.68507,     0.68393,     0.68358,\n",
      "            0.68358,     0.68301,     0.68209,      0.6806,      0.6791,     0.67822,     0.67761,     0.67761,     0.67612,     0.67612,     0.67612,     0.67612,     0.67612,     0.67612,     0.67612,     0.67612,     0.67612,     0.67463,     0.67313,     0.67122,     0.66896,      0.6668,     0.66567,\n",
      "            0.66418,     0.66396,     0.66277,     0.66208,     0.66123,      0.6597,     0.65721,     0.65672,     0.65645,     0.65553,     0.65373,     0.65373,     0.65373,     0.65224,     0.64926,     0.64925,     0.64925,     0.64925,     0.64925,     0.64776,     0.64572,     0.64478,     0.64328,\n",
      "            0.64328,     0.64179,     0.64042,      0.6403,      0.6403,      0.6403,      0.6403,     0.63943,     0.63731,     0.63731,     0.63582,     0.63582,     0.63582,     0.63433,     0.63433,     0.63358,     0.63181,     0.63134,     0.63091,     0.63004,     0.62919,     0.62687,     0.62537,\n",
      "            0.62537,     0.62537,     0.62537,     0.62537,     0.62537,     0.62442,     0.62388,     0.62388,     0.62344,     0.62299,     0.62253,      0.6209,      0.6209,      0.6209,     0.61826,     0.61571,     0.61493,     0.61482,     0.61445,     0.61408,     0.61371,     0.61343,     0.61231,\n",
      "             0.6105,     0.61045,     0.61045,     0.61045,     0.61045,     0.61045,     0.61045,     0.60896,     0.60896,     0.60868,     0.60746,     0.60746,     0.60597,     0.60597,     0.60597,     0.60597,     0.60597,     0.60597,     0.60597,     0.60597,     0.60584,     0.60458,     0.60383,\n",
      "            0.60308,     0.60299,     0.60299,     0.60212,         0.6,     0.59851,     0.59851,     0.59851,     0.59851,     0.59851,     0.59851,     0.59851,     0.59851,     0.59851,     0.59851,     0.59811,     0.59701,     0.59701,     0.59701,     0.59701,     0.59631,     0.59462,     0.59403,\n",
      "            0.59403,     0.59403,     0.59403,     0.59403,     0.59403,     0.59254,     0.59254,     0.59236,     0.59155,     0.59104,     0.59104,     0.58955,     0.58656,     0.58389,     0.58358,     0.58209,     0.58094,     0.57939,     0.57668,     0.57612,     0.57612,     0.57612,     0.57612,\n",
      "            0.57612,     0.57463,     0.57463,      0.5742,     0.57313,     0.57273,     0.57137,     0.57018,     0.56866,     0.56779,     0.56716,     0.56716,     0.56567,     0.56567,     0.56507,     0.56441,     0.56319,     0.56243,      0.5597,      0.5597,     0.55962,     0.55922,     0.55882,\n",
      "            0.55842,       0.558,     0.55756,     0.55712,     0.55672,      0.5563,     0.55465,     0.55346,     0.55215,     0.55186,     0.55156,     0.55127,     0.55098,     0.55075,     0.55075,     0.55075,     0.55075,     0.55075,     0.55075,     0.55075,     0.55075,     0.54938,     0.54864,\n",
      "            0.54627,     0.54627,     0.54592,     0.54478,     0.54408,     0.54328,     0.54123,      0.5403,      0.5403,      0.5403,      0.5403,      0.5403,      0.5388,     0.53748,     0.53582,     0.53582,     0.53582,     0.53582,     0.53582,     0.53514,      0.5343,      0.5326,     0.53207,\n",
      "            0.53154,     0.53134,     0.53126,     0.52968,     0.52908,     0.52849,     0.52687,     0.52687,     0.52687,     0.52631,     0.52537,     0.52537,     0.52537,     0.52537,     0.52537,     0.52537,     0.52239,     0.52239,      0.5209,      0.5209,      0.5209,      0.5209,      0.5194,\n",
      "             0.5194,     0.51791,      0.5166,     0.51468,     0.51419,      0.5137,     0.51045,     0.51045,     0.51045,     0.51045,     0.51045,     0.50897,     0.50896,     0.50896,      0.5075,     0.50746,     0.50746,     0.50597,     0.50597,     0.50597,     0.50597,     0.50597,     0.50534,\n",
      "            0.50465,     0.50288,     0.50199,         0.5,     0.49827,     0.49711,      0.4961,     0.49412,     0.49299,     0.49218,     0.49158,     0.49104,     0.49104,     0.49082,     0.48988,     0.48911,     0.48832,     0.48657,     0.48628,     0.48496,     0.48451,     0.48406,     0.48362,\n",
      "             0.4806,     0.47808,     0.47761,     0.47761,     0.47612,     0.47612,     0.47612,     0.47612,     0.47502,     0.47305,     0.47259,     0.47213,     0.47166,     0.47144,     0.47123,     0.47101,      0.4708,     0.47059,     0.47037,     0.47016,     0.46845,     0.46805,     0.46764,\n",
      "            0.46724,     0.46567,     0.46567,     0.46567,     0.46567,     0.46567,     0.46567,     0.46567,     0.46458,     0.46199,      0.4597,      0.4597,     0.45942,     0.45882,     0.45822,     0.45821,     0.45821,     0.45821,     0.45821,     0.45821,     0.45821,     0.45821,      0.4567,\n",
      "            0.45612,     0.45554,     0.45353,     0.45197,     0.45075,     0.45075,     0.45075,     0.45075,     0.44977,      0.4473,     0.44648,      0.4447,     0.44382,     0.44319,     0.44295,      0.4427,     0.44246,     0.44222,     0.44198,     0.44171,     0.44137,     0.44104,      0.4407,\n",
      "            0.44037,     0.43659,     0.43553,     0.43507,     0.43461,     0.43406,     0.43339,     0.43133,      0.4284,     0.42648,     0.42605,     0.42561,     0.42388,       0.423,     0.42239,     0.42239,      0.4222,     0.42149,      0.4208,     0.42024,     0.41967,       0.419,     0.41822,\n",
      "            0.41699,     0.41493,     0.41493,     0.41418,     0.41343,     0.41343,     0.41125,     0.40926,     0.40536,     0.40371,     0.40239,     0.40091,     0.39935,     0.39761,     0.39665,     0.39587,     0.39532,     0.39497,     0.39462,     0.39426,     0.39386,     0.39337,     0.39289,\n",
      "            0.39226,     0.39128,     0.38897,     0.38787,      0.3864,     0.38512,     0.38187,     0.38106,     0.37969,     0.37722,     0.37617,     0.37566,     0.37517,     0.37469,     0.37204,     0.37012,     0.36938,     0.36857,     0.36555,     0.36458,     0.36382,     0.36322,     0.36106,\n",
      "            0.35997,     0.35855,     0.35779,     0.35726,     0.35672,     0.35178,     0.34749,     0.34522,     0.34308,     0.34125,     0.34017,     0.33899,      0.3371,     0.33655,     0.33601,     0.33427,     0.33291,     0.33077,     0.32996,      0.3287,     0.32357,     0.32158,     0.31876,\n",
      "            0.31664,     0.31194,     0.31175,     0.31135,     0.31095,     0.31055,      0.3073,     0.30249,     0.30154,     0.30037,     0.29934,     0.29814,     0.29476,     0.29251,     0.29191,      0.2913,     0.28992,     0.28555,      0.2828,      0.2811,     0.27591,     0.27224,     0.26813,\n",
      "            0.26601,     0.26384,     0.26325,     0.26238,     0.25995,     0.25701,     0.25599,     0.25508,     0.25378,     0.24999,     0.24855,     0.24648,     0.23877,     0.23524,     0.23309,     0.22821,      0.2264,     0.22521,     0.22161,     0.21688,     0.21492,     0.21284,     0.20995,\n",
      "            0.20567,     0.20482,     0.20156,     0.19972,     0.19851,     0.19301,     0.18919,     0.18709,     0.18331,     0.18058,     0.17841,     0.17276,     0.16987,     0.16739,     0.16338,     0.16209,     0.16024,     0.15579,     0.15029,     0.14816,      0.1452,     0.14151,     0.14048,\n",
      "            0.13697,     0.13627,     0.13497,      0.1328,     0.13082,     0.12786,     0.12482,     0.12246,     0.12016,     0.11341,     0.10826,     0.10628,    0.099811,    0.098718,    0.092081,    0.086217,     0.08397,    0.080723,    0.079475,    0.078655,    0.077988,     0.07574,     0.07402,\n",
      "           0.069691,    0.068585,    0.068196,    0.067806,    0.067416,    0.066183,    0.064255,    0.058014,    0.056527,    0.052891,    0.050413,    0.049578,    0.048345,    0.045803,    0.044067,    0.041355,      0.0406,    0.038007,    0.036079,     0.03342,    0.032705,    0.032424,    0.032142,\n",
      "           0.031861,     0.03158,    0.031085,    0.029299,    0.027173,    0.026743,    0.026597,    0.026451,    0.026306,     0.02616,    0.026015,    0.025869,    0.025723,    0.025578,    0.025432,    0.023511,    0.022518,      0.0212,    0.020644,    0.020321,    0.019998,    0.019675,    0.017875,\n",
      "           0.017501,    0.017127,    0.016752,    0.016406,    0.016299,    0.016191,    0.016084,    0.015976,    0.015869,    0.015761,    0.015653,    0.015546,    0.015438,    0.015331,    0.015223,    0.015116,    0.015008,    0.013796,     0.01295,    0.012427,    0.011885,    0.011066,    0.010226,\n",
      "          0.0093226,   0.0083272,   0.0072346,   0.0059874,    0.004461,   0.0038633,   0.0032656,   0.0028875,   0.0027036,   0.0025197,   0.0023358,   0.0021519,    0.001968,   0.0017841,   0.0016002,           0,           0,           0,           0,           0,           0,           0,           0,\n",
      "                  0,           0,           0,           0,           0,           0,           0,           0,           0,           0,           0]]), 'Confidence', 'Recall']]\n",
      "fitness: np.float64(0.6246268309851186)\n",
      "keys: ['metrics/precision(B)', 'metrics/recall(B)', 'metrics/mAP50(B)', 'metrics/mAP50-95(B)']\n",
      "maps: array([    0.60539])\n",
      "names: {0: 'face'}\n",
      "plot: True\n",
      "results_dict: {'metrics/precision(B)': np.float64(0.7502939689724565), 'metrics/recall(B)': np.float64(0.6074626865671642), 'metrics/mAP50(B)': np.float64(0.7977585881733581), 'metrics/mAP50-95(B)': np.float64(0.6053899690753142), 'fitness': np.float64(0.6246268309851186)}\n",
      "save_dir: WindowsPath('runs/detect/val3')\n",
      "speed: {'preprocess': 0.05529533438370049, 'inference': 5.58022503887012, 'loss': 7.978228969473397e-05, 'postprocess': 0.21920046657238743}\n",
      "task: 'detect'\n"
     ]
    }
   ],
   "source": [
    "from ultralytics import YOLO\n",
    "model = YOLO(\"C:/Users/suraa/OneDrive\\Documents/Final Project/runs/detect/face_detection5/weights/best.pt\")  \n",
    "metrics = model.val(data=\"data.yaml\")\n",
    "print(metrics)"
   ]
  },
  {
   "cell_type": "code",
   "execution_count": 6,
   "metadata": {},
   "outputs": [],
   "source": [
    "import json\n",
    "mp, mr, map50, map_ = metrics.box.mean_results()\n",
    "\n",
    "metrics_dict = {\n",
    "    \"mAP@0.5\": map50,\n",
    "    \"mAP@0.5:0.95\": map_,\n",
    "    \"Precision\": mp,\n",
    "    \"Recall\": mr\n",
    "}\n",
    "\n",
    "with open(\"metrics.json\", \"w\") as f:\n",
    "    json.dump(metrics_dict, f, indent=4)\n"
   ]
  },
  {
   "cell_type": "code",
   "execution_count": null,
   "metadata": {},
   "outputs": [],
   "source": []
  },
  {
   "cell_type": "code",
   "execution_count": null,
   "metadata": {},
   "outputs": [],
   "source": []
  },
  {
   "cell_type": "code",
   "execution_count": null,
   "metadata": {},
   "outputs": [],
   "source": []
  }
 ],
 "metadata": {
  "kernelspec": {
   "display_name": ".venv",
   "language": "python",
   "name": "python3"
  },
  "language_info": {
   "codemirror_mode": {
    "name": "ipython",
    "version": 3
   },
   "file_extension": ".py",
   "mimetype": "text/x-python",
   "name": "python",
   "nbconvert_exporter": "python",
   "pygments_lexer": "ipython3",
   "version": "3.10.0"
  }
 },
 "nbformat": 4,
 "nbformat_minor": 2
}
